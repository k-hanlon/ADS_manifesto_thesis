{
 "cells": [
  {
   "cell_type": "markdown",
   "metadata": {},
   "source": [
    "This notebook combines the corpus/text data with the more general MPDS data, creating two xlsx files. One with all quasi sentences, one where quasi sentences without a code were removed"
   ]
  },
  {
   "cell_type": "code",
   "execution_count": 1,
   "metadata": {},
   "outputs": [],
   "source": [
    "import pandas as pd\n",
    "import numpy as np\n",
    "import math\n",
    "import statsmodels.api as sm\n",
    "import matplotlib.pyplot as plt\n",
    "from sklearn.model_selection import train_test_split"
   ]
  },
  {
   "cell_type": "code",
   "execution_count": 2,
   "metadata": {},
   "outputs": [],
   "source": [
    "# let's load one of the prepared corpus datasets:\n",
    "corpus_df_start = pd.read_excel(\"data/english_annotated_corpus.xlsx\")\n",
    "# mpds contains coderid etc for all documents (with party+date being the key)\n",
    "mpds = pd.read_excel(\"data/MPDS2023a.xlsx\")"
   ]
  },
  {
   "cell_type": "code",
   "execution_count": 5,
   "metadata": {},
   "outputs": [],
   "source": [
    "# lets add info from mpds to the corpus df:\n",
    "mpds_subset = mpds[[\"party\", \"date\", \"coderid\", \"countryname\", \"partyname\", \"pervote\"]]\n",
    "corpus_df = corpus_df_start.merge(mpds_subset, on=[\"date\", \"party\"], how=\"left\")\n",
    "\n",
    "# lets also add columns telling us the length of the quasi-sentences\n",
    "corpus_df[\"q_sentence_chars\"] = corpus_df[\"q_sentence\"].apply(len)\n",
    "corpus_df[\"q_sentence_words\"] = corpus_df[\"q_sentence\"].apply(lambda x: len(str(x).split()))\n",
    "\n",
    "# lets also create a column \"main_codes\" where the subcodes are changed back to their main code\n",
    "# to do this, we basically just keep the first three characters of each code\n",
    "def extract_main_code(x):\n",
    "    # if it's not a string, it's NAN, so just return it\n",
    "    return x[0:3] if isinstance(x, str) else x\n",
    "corpus_df[\"main_codes\"] = corpus_df[\"codes\"].apply(extract_main_code)"
   ]
  },
  {
   "cell_type": "code",
   "execution_count": 6,
   "metadata": {},
   "outputs": [],
   "source": [
    "# replace H and NA codes with numer (0 and -1 respectively)\n",
    "corpus_df['main_codes'].replace('H', 0, inplace=True)\n",
    "corpus_df['main_codes'].fillna(-1, inplace=True)\n",
    "\n",
    "# Add RILE categorization:\n",
    "left = [103, 105, 106, 107, 202, 403, 404, 406, 412, 413, 504, 506, 701] #coded as 1\n",
    "right = [104, 201, 203, 305, 401, 402, 407, 414, 505, 601, 603, 605, 606] #coded as 2, neutral as 0\n",
    "corpus_df['RILE'] = corpus_df['main_codes'].apply(lambda x: 1 if int(x) in left else (2 if int(x) in right else 0))\n",
    "\n",
    "# full will still contains everything\n",
    "corpus_df_full = corpus_df.copy()\n",
    "\n",
    "#corpus_df removes H and NA rows:\n",
    "corpus_df = corpus_df[corpus_df['main_codes'] != 0]\n",
    "corpus_df = corpus_df[corpus_df['main_codes'] != -1]\n",
    "\n",
    "# drop the current index, but saved it so we can correspond with the full version\n",
    "corpus_df['full_index'] = corpus_df.index\n",
    "corpus_df.reset_index(drop=True, inplace=True)"
   ]
  },
  {
   "cell_type": "code",
   "execution_count": 7,
   "metadata": {},
   "outputs": [],
   "source": [
    "# save the dataframes\n",
    "corpus_df.to_csv(\"data/english_annotated_df.csv\", index=False)\n",
    "corpus_df_full.to_csv(\"data/english_annotated_full_df.csv\", index=False)"
   ]
  },
  {
   "cell_type": "code",
   "execution_count": null,
   "metadata": {},
   "outputs": [],
   "source": []
  },
  {
   "cell_type": "code",
   "execution_count": null,
   "metadata": {},
   "outputs": [],
   "source": []
  },
  {
   "cell_type": "code",
   "execution_count": 2,
   "metadata": {},
   "outputs": [],
   "source": [
    "# load from dataframes:\n",
    "corpus_df = pd.read_csv(\"data/english_annotated_df.csv\")\n",
    "corpus_df_full = pd.read_csv(\"data/english_annotated_full_df.csv\")"
   ]
  },
  {
   "cell_type": "code",
   "execution_count": 3,
   "metadata": {},
   "outputs": [
    {
     "data": {
      "text/html": [
       "<div>\n",
       "<style scoped>\n",
       "    .dataframe tbody tr th:only-of-type {\n",
       "        vertical-align: middle;\n",
       "    }\n",
       "\n",
       "    .dataframe tbody tr th {\n",
       "        vertical-align: top;\n",
       "    }\n",
       "\n",
       "    .dataframe thead th {\n",
       "        text-align: right;\n",
       "    }\n",
       "</style>\n",
       "<table border=\"1\" class=\"dataframe\">\n",
       "  <thead>\n",
       "    <tr style=\"text-align: right;\">\n",
       "      <th></th>\n",
       "      <th>q_sentence</th>\n",
       "      <th>q_sentence_nr</th>\n",
       "      <th>codes</th>\n",
       "      <th>manifesto_id</th>\n",
       "      <th>party</th>\n",
       "      <th>date</th>\n",
       "      <th>language</th>\n",
       "      <th>handbook</th>\n",
       "      <th>title</th>\n",
       "      <th>coderid</th>\n",
       "      <th>countryname</th>\n",
       "      <th>partyname</th>\n",
       "      <th>pervote</th>\n",
       "      <th>q_sentence_chars</th>\n",
       "      <th>q_sentence_words</th>\n",
       "      <th>main_codes</th>\n",
       "      <th>RILE</th>\n",
       "      <th>full_index</th>\n",
       "    </tr>\n",
       "  </thead>\n",
       "  <tbody>\n",
       "    <tr>\n",
       "      <th>0</th>\n",
       "      <td>Our aim: To make Britain the world's foremost ...</td>\n",
       "      <td>2</td>\n",
       "      <td>411.0</td>\n",
       "      <td>51421_199705</td>\n",
       "      <td>51421</td>\n",
       "      <td>199705</td>\n",
       "      <td>english</td>\n",
       "      <td>1</td>\n",
       "      <td>Make the Difference</td>\n",
       "      <td>102</td>\n",
       "      <td>United Kingdom</td>\n",
       "      <td>Liberal Democrats</td>\n",
       "      <td>16.758</td>\n",
       "      <td>71</td>\n",
       "      <td>12</td>\n",
       "      <td>411</td>\n",
       "      <td>0</td>\n",
       "      <td>1</td>\n",
       "    </tr>\n",
       "    <tr>\n",
       "      <th>1</th>\n",
       "      <td>The problem: This country's education has been...</td>\n",
       "      <td>3</td>\n",
       "      <td>506.0</td>\n",
       "      <td>51421_199705</td>\n",
       "      <td>51421</td>\n",
       "      <td>199705</td>\n",
       "      <td>english</td>\n",
       "      <td>1</td>\n",
       "      <td>Make the Difference</td>\n",
       "      <td>102</td>\n",
       "      <td>United Kingdom</td>\n",
       "      <td>Liberal Democrats</td>\n",
       "      <td>16.758</td>\n",
       "      <td>103</td>\n",
       "      <td>15</td>\n",
       "      <td>506</td>\n",
       "      <td>1</td>\n",
       "      <td>2</td>\n",
       "    </tr>\n",
       "    <tr>\n",
       "      <th>2</th>\n",
       "      <td>Standards are too low, especially in core skil...</td>\n",
       "      <td>4</td>\n",
       "      <td>506.0</td>\n",
       "      <td>51421_199705</td>\n",
       "      <td>51421</td>\n",
       "      <td>199705</td>\n",
       "      <td>english</td>\n",
       "      <td>1</td>\n",
       "      <td>Make the Difference</td>\n",
       "      <td>102</td>\n",
       "      <td>United Kingdom</td>\n",
       "      <td>Liberal Democrats</td>\n",
       "      <td>16.758</td>\n",
       "      <td>75</td>\n",
       "      <td>13</td>\n",
       "      <td>506</td>\n",
       "      <td>1</td>\n",
       "      <td>3</td>\n",
       "    </tr>\n",
       "    <tr>\n",
       "      <th>3</th>\n",
       "      <td>Britain is too low in the world league tables.</td>\n",
       "      <td>5</td>\n",
       "      <td>506.0</td>\n",
       "      <td>51421_199705</td>\n",
       "      <td>51421</td>\n",
       "      <td>199705</td>\n",
       "      <td>english</td>\n",
       "      <td>1</td>\n",
       "      <td>Make the Difference</td>\n",
       "      <td>102</td>\n",
       "      <td>United Kingdom</td>\n",
       "      <td>Liberal Democrats</td>\n",
       "      <td>16.758</td>\n",
       "      <td>46</td>\n",
       "      <td>9</td>\n",
       "      <td>506</td>\n",
       "      <td>1</td>\n",
       "      <td>4</td>\n",
       "    </tr>\n",
       "    <tr>\n",
       "      <th>4</th>\n",
       "      <td>Our commitment: Liberal Democrats will make ed...</td>\n",
       "      <td>6</td>\n",
       "      <td>506.0</td>\n",
       "      <td>51421_199705</td>\n",
       "      <td>51421</td>\n",
       "      <td>199705</td>\n",
       "      <td>english</td>\n",
       "      <td>1</td>\n",
       "      <td>Make the Difference</td>\n",
       "      <td>102</td>\n",
       "      <td>United Kingdom</td>\n",
       "      <td>Liberal Democrats</td>\n",
       "      <td>16.758</td>\n",
       "      <td>89</td>\n",
       "      <td>12</td>\n",
       "      <td>506</td>\n",
       "      <td>1</td>\n",
       "      <td>5</td>\n",
       "    </tr>\n",
       "  </tbody>\n",
       "</table>\n",
       "</div>"
      ],
      "text/plain": [
       "                                          q_sentence  q_sentence_nr  codes  \\\n",
       "0  Our aim: To make Britain the world's foremost ...              2  411.0   \n",
       "1  The problem: This country's education has been...              3  506.0   \n",
       "2  Standards are too low, especially in core skil...              4  506.0   \n",
       "3     Britain is too low in the world league tables.              5  506.0   \n",
       "4  Our commitment: Liberal Democrats will make ed...              6  506.0   \n",
       "\n",
       "   manifesto_id  party    date language  handbook                title  \\\n",
       "0  51421_199705  51421  199705  english         1  Make the Difference   \n",
       "1  51421_199705  51421  199705  english         1  Make the Difference   \n",
       "2  51421_199705  51421  199705  english         1  Make the Difference   \n",
       "3  51421_199705  51421  199705  english         1  Make the Difference   \n",
       "4  51421_199705  51421  199705  english         1  Make the Difference   \n",
       "\n",
       "   coderid     countryname          partyname  pervote  q_sentence_chars  \\\n",
       "0      102  United Kingdom  Liberal Democrats   16.758                71   \n",
       "1      102  United Kingdom  Liberal Democrats   16.758               103   \n",
       "2      102  United Kingdom  Liberal Democrats   16.758                75   \n",
       "3      102  United Kingdom  Liberal Democrats   16.758                46   \n",
       "4      102  United Kingdom  Liberal Democrats   16.758                89   \n",
       "\n",
       "   q_sentence_words  main_codes  RILE  full_index  \n",
       "0                12         411     0           1  \n",
       "1                15         506     1           2  \n",
       "2                13         506     1           3  \n",
       "3                 9         506     1           4  \n",
       "4                12         506     1           5  "
      ]
     },
     "execution_count": 3,
     "metadata": {},
     "output_type": "execute_result"
    }
   ],
   "source": [
    "corpus_df.head()"
   ]
  },
  {
   "cell_type": "code",
   "execution_count": 9,
   "metadata": {},
   "outputs": [
    {
     "data": {
      "text/plain": [
       "(177028, 18)"
      ]
     },
     "execution_count": 9,
     "metadata": {},
     "output_type": "execute_result"
    }
   ],
   "source": [
    "corpus_df.shape"
   ]
  },
  {
   "cell_type": "code",
   "execution_count": 6,
   "metadata": {},
   "outputs": [
    {
     "data": {
      "text/plain": [
       "71"
      ]
     },
     "execution_count": 6,
     "metadata": {},
     "output_type": "execute_result"
    }
   ],
   "source": [
    "len(corpus_df_full[\"partyname\"].unique())"
   ]
  },
  {
   "cell_type": "code",
   "execution_count": 7,
   "metadata": {},
   "outputs": [
    {
     "data": {
      "text/plain": [
       "array(['Liberal Democrats', 'Scottish National Party', 'Labour Party',\n",
       "       'Green Party of England and Wales', 'We Ourselves',\n",
       "       'Social Democratic and Labour Party', 'Conservative Party',\n",
       "       'Ulster Unionist Party', 'The Party of Wales',\n",
       "       'Democratic Unionist Party', 'United Kingdom Independence Party',\n",
       "       'Alliance Party of Northern Ireland', 'Green Party',\n",
       "       'Progressive Democrats', 'Family of the Irish',\n",
       "       'Soldiers of Destiny', 'United Left Alliance', 'Socialist Party',\n",
       "       'People Before Profit', 'Anti-Austerity Alliance',\n",
       "       'Workers and Unemployment Action', 'Social Democrats',\n",
       "       'Independent Alliance', 'Democratic Party', 'Republican Party',\n",
       "       'New Democratic Party', 'Liberal Party of Canada',\n",
       "       'Conservative Party of Canada', 'Liberal Party of Australia',\n",
       "       'National Party of Australia', 'Australian Greens',\n",
       "       'Australian Labor Party', 'Liberal National Party of Queensland',\n",
       "       'Palmer United Party', 'Country Liberal Party',\n",
       "       \"Katter's Australian Party\", 'Nick Xenophon Team',\n",
       "       'Centre Alliance', 'Social Credit Political League',\n",
       "       'New Zealand Labour Party', 'The Alliance',\n",
       "       'New Zealand National Party', 'ACT New Zealand',\n",
       "       'United Future New Zealand',\n",
       "       'Jim Anderton’s Progressive Coalition', 'New Zealand First Party',\n",
       "       'Green Party of Aotearoa New Zealand',\n",
       "       'Jim Anderton’s Progressive', 'Māori Party', 'Progressive Party',\n",
       "       'Mana Party', 'National Democratic Assembly',\n",
       "       'Confederation for an Independent Poland',\n",
       "       'Democratic Left Alliance', 'Union of Labour', 'Democratic Union',\n",
       "       \"Polish Peasants' Party\",\n",
       "       'Coalition of Coexistence and the Hungarian Christian-Democratic Movement',\n",
       "       'Party of the Democratic Left', 'African National Congress',\n",
       "       'Inkatha Freedom Party', 'Democratic Alliance',\n",
       "       'Congress of the People', 'Economic Freedom Fighters',\n",
       "       'United Democratic Movement', 'Good', 'National Freedom Party',\n",
       "       'African Christian Democratic Party',\n",
       "       'African Transformation Movement', 'Freedom Front Plus',\n",
       "       'African Independent Congress'], dtype=object)"
      ]
     },
     "execution_count": 7,
     "metadata": {},
     "output_type": "execute_result"
    }
   ],
   "source": [
    "corpus_df_full[\"partyname\"].unique()"
   ]
  },
  {
   "cell_type": "code",
   "execution_count": null,
   "metadata": {},
   "outputs": [],
   "source": []
  },
  {
   "cell_type": "code",
   "execution_count": null,
   "metadata": {},
   "outputs": [],
   "source": []
  },
  {
   "cell_type": "code",
   "execution_count": 11,
   "metadata": {},
   "outputs": [
    {
     "data": {
      "text/plain": [
       "array(['National Party of Australia'], dtype=object)"
      ]
     },
     "execution_count": 11,
     "metadata": {},
     "output_type": "execute_result"
    }
   ],
   "source": [
    "corpus_df_full[corpus_df_full[\"manifesto_id\"] == \"63810_200111\"][\"partyname\"].unique()"
   ]
  },
  {
   "cell_type": "code",
   "execution_count": null,
   "metadata": {},
   "outputs": [],
   "source": []
  }
 ],
 "metadata": {
  "kernelspec": {
   "display_name": "Python 3",
   "language": "python",
   "name": "python3"
  },
  "language_info": {
   "codemirror_mode": {
    "name": "ipython",
    "version": 3
   },
   "file_extension": ".py",
   "mimetype": "text/x-python",
   "name": "python",
   "nbconvert_exporter": "python",
   "pygments_lexer": "ipython3",
   "version": "3.10.4"
  }
 },
 "nbformat": 4,
 "nbformat_minor": 2
}
