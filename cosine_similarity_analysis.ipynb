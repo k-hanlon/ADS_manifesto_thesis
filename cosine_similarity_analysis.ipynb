{
 "cells": [
  {
   "cell_type": "markdown",
   "metadata": {},
   "source": [
    "Prepare and analyze the cosine similarity results"
   ]
  },
  {
   "cell_type": "code",
   "execution_count": 78,
   "metadata": {},
   "outputs": [],
   "source": [
    "import numpy as np\n",
    "import pandas as pd\n",
    "from scipy.sparse import csr_matrix\n",
    "from scipy.sparse import coo_matrix\n",
    "from scipy.sparse import save_npz, load_npz\n",
    "import matplotlib.pyplot as plt"
   ]
  },
  {
   "cell_type": "code",
   "execution_count": 79,
   "metadata": {},
   "outputs": [],
   "source": [
    "# What to do with this? Generate examples for all!\n",
    "\n",
    "# Look at examples, what is our cos sim threshold?\n",
    "# Remove where both are -1? and both are 0?\n",
    "# Which codes appear most often?\n",
    "# Which codes appear most often when agreement?\n",
    "# Which codes appear most often in disagreement?\n",
    "# Look at sentences that are exactly the same: how often is there disagreement?\n",
    "# What changes if we limit to combinations by different coders/from different documents?\n",
    "# in 0/-1 codes: how often do coders agree, that there is no meaning in this?"
   ]
  },
  {
   "cell_type": "code",
   "execution_count": 80,
   "metadata": {},
   "outputs": [],
   "source": [
    "# Set display options to show full contents of each column\n",
    "pd.set_option('display.max_colwidth', None)\n",
    "pd.set_option('display.max_columns', None)\n",
    "# reverse with:\n",
    "# pd.reset_option('display.max_colwidth')"
   ]
  },
  {
   "cell_type": "code",
   "execution_count": 81,
   "metadata": {},
   "outputs": [],
   "source": [
    "# load the sparse matrix with the extreme similarity values:\n",
    "cs_sparse = load_npz('data/cos_sim_output_08_mpnet.npz')\n",
    "\n",
    "# also load the full corpus df, so that we can add create a df with q_sentences, information and their similarity score for extreme values\n",
    "corpus_df_full = pd.read_csv(\"data/english_annotated_full_df.csv\")"
   ]
  },
  {
   "cell_type": "code",
   "execution_count": 82,
   "metadata": {},
   "outputs": [
    {
     "data": {
      "text/plain": [
       "<202187x202187 sparse matrix of type '<class 'numpy.float32'>'\n",
       "\twith 379546 stored elements in Compressed Sparse Row format>"
      ]
     },
     "execution_count": 82,
     "metadata": {},
     "output_type": "execute_result"
    }
   ],
   "source": [
    "cs_sparse"
   ]
  },
  {
   "cell_type": "code",
   "execution_count": 83,
   "metadata": {},
   "outputs": [],
   "source": [
    "# convert the sparse matrix into a useful df:\n",
    "cs_sparse = coo_matrix(cs_sparse)\n",
    "data = {\n",
    "    'index_x': cs_sparse.row,\n",
    "    'index_y': cs_sparse.col,\n",
    "    'cosine_similarity': cs_sparse.data\n",
    "}\n",
    "cosine_sim_df = pd.DataFrame(data)"
   ]
  },
  {
   "cell_type": "code",
   "execution_count": 84,
   "metadata": {},
   "outputs": [
    {
     "data": {
      "text/html": [
       "<div>\n",
       "<style scoped>\n",
       "    .dataframe tbody tr th:only-of-type {\n",
       "        vertical-align: middle;\n",
       "    }\n",
       "\n",
       "    .dataframe tbody tr th {\n",
       "        vertical-align: top;\n",
       "    }\n",
       "\n",
       "    .dataframe thead th {\n",
       "        text-align: right;\n",
       "    }\n",
       "</style>\n",
       "<table border=\"1\" class=\"dataframe\">\n",
       "  <thead>\n",
       "    <tr style=\"text-align: right;\">\n",
       "      <th></th>\n",
       "      <th>index_x</th>\n",
       "      <th>index_y</th>\n",
       "      <th>cosine_similarity</th>\n",
       "    </tr>\n",
       "  </thead>\n",
       "  <tbody>\n",
       "    <tr>\n",
       "      <th>0</th>\n",
       "      <td>7</td>\n",
       "      <td>9</td>\n",
       "      <td>0.851987</td>\n",
       "    </tr>\n",
       "    <tr>\n",
       "      <th>1</th>\n",
       "      <td>7</td>\n",
       "      <td>119</td>\n",
       "      <td>0.903366</td>\n",
       "    </tr>\n",
       "  </tbody>\n",
       "</table>\n",
       "</div>"
      ],
      "text/plain": [
       "   index_x  index_y  cosine_similarity\n",
       "0        7        9           0.851987\n",
       "1        7      119           0.903366"
      ]
     },
     "execution_count": 84,
     "metadata": {},
     "output_type": "execute_result"
    }
   ],
   "source": [
    "cosine_sim_df.head(2)"
   ]
  },
  {
   "cell_type": "code",
   "execution_count": 85,
   "metadata": {},
   "outputs": [
    {
     "data": {
      "text/plain": [
       "(379546, 3)"
      ]
     },
     "execution_count": 85,
     "metadata": {},
     "output_type": "execute_result"
    }
   ],
   "source": [
    "cosine_sim_df.shape"
   ]
  },
  {
   "cell_type": "code",
   "execution_count": 86,
   "metadata": {},
   "outputs": [],
   "source": [
    "corpus_df = corpus_df_full[['q_sentence', \"q_sentence_nr\", 'main_codes', 'coderid', 'manifesto_id', 'party', 'date',\n",
    "        'title', 'countryname', 'partyname', 'RILE']]"
   ]
  },
  {
   "cell_type": "code",
   "execution_count": 87,
   "metadata": {},
   "outputs": [],
   "source": [
    "# append the columns from the corpus_df, so that we get the info for both quasi sentences\n",
    "cosine_sim_df = pd.merge(cosine_sim_df, corpus_df, left_on='index_x', right_index=True, how='left')\n",
    "cosine_sim_df = pd.merge(cosine_sim_df, corpus_df, left_on='index_y', right_index=True, how='left')"
   ]
  },
  {
   "cell_type": "code",
   "execution_count": 88,
   "metadata": {},
   "outputs": [
    {
     "data": {
      "text/html": [
       "<div>\n",
       "<style scoped>\n",
       "    .dataframe tbody tr th:only-of-type {\n",
       "        vertical-align: middle;\n",
       "    }\n",
       "\n",
       "    .dataframe tbody tr th {\n",
       "        vertical-align: top;\n",
       "    }\n",
       "\n",
       "    .dataframe thead th {\n",
       "        text-align: right;\n",
       "    }\n",
       "</style>\n",
       "<table border=\"1\" class=\"dataframe\">\n",
       "  <thead>\n",
       "    <tr style=\"text-align: right;\">\n",
       "      <th></th>\n",
       "      <th>index_x</th>\n",
       "      <th>index_y</th>\n",
       "      <th>cosine_similarity</th>\n",
       "      <th>q_sentence_x</th>\n",
       "      <th>q_sentence_nr_x</th>\n",
       "      <th>main_codes_x</th>\n",
       "      <th>coderid_x</th>\n",
       "      <th>manifesto_id_x</th>\n",
       "      <th>party_x</th>\n",
       "      <th>date_x</th>\n",
       "      <th>title_x</th>\n",
       "      <th>countryname_x</th>\n",
       "      <th>partyname_x</th>\n",
       "      <th>RILE_x</th>\n",
       "      <th>q_sentence_y</th>\n",
       "      <th>q_sentence_nr_y</th>\n",
       "      <th>main_codes_y</th>\n",
       "      <th>coderid_y</th>\n",
       "      <th>manifesto_id_y</th>\n",
       "      <th>party_y</th>\n",
       "      <th>date_y</th>\n",
       "      <th>title_y</th>\n",
       "      <th>countryname_y</th>\n",
       "      <th>partyname_y</th>\n",
       "      <th>RILE_y</th>\n",
       "    </tr>\n",
       "  </thead>\n",
       "  <tbody>\n",
       "    <tr>\n",
       "      <th>0</th>\n",
       "      <td>7</td>\n",
       "      <td>9</td>\n",
       "      <td>0.851987</td>\n",
       "      <td>Our first priority is to:</td>\n",
       "      <td>8</td>\n",
       "      <td>-1</td>\n",
       "      <td>102</td>\n",
       "      <td>51421_199705</td>\n",
       "      <td>51421</td>\n",
       "      <td>199705</td>\n",
       "      <td>Make the Difference</td>\n",
       "      <td>United Kingdom</td>\n",
       "      <td>Liberal Democrats</td>\n",
       "      <td>0</td>\n",
       "      <td>Key priorities are to:</td>\n",
       "      <td>10</td>\n",
       "      <td>-1</td>\n",
       "      <td>102</td>\n",
       "      <td>51421_199705</td>\n",
       "      <td>51421</td>\n",
       "      <td>199705</td>\n",
       "      <td>Make the Difference</td>\n",
       "      <td>United Kingdom</td>\n",
       "      <td>Liberal Democrats</td>\n",
       "      <td>0</td>\n",
       "    </tr>\n",
       "    <tr>\n",
       "      <th>1</th>\n",
       "      <td>7</td>\n",
       "      <td>119</td>\n",
       "      <td>0.903366</td>\n",
       "      <td>Our first priority is to:</td>\n",
       "      <td>8</td>\n",
       "      <td>-1</td>\n",
       "      <td>102</td>\n",
       "      <td>51421_199705</td>\n",
       "      <td>51421</td>\n",
       "      <td>199705</td>\n",
       "      <td>Make the Difference</td>\n",
       "      <td>United Kingdom</td>\n",
       "      <td>Liberal Democrats</td>\n",
       "      <td>0</td>\n",
       "      <td>Our priorities are to:</td>\n",
       "      <td>120</td>\n",
       "      <td>-1</td>\n",
       "      <td>102</td>\n",
       "      <td>51421_199705</td>\n",
       "      <td>51421</td>\n",
       "      <td>199705</td>\n",
       "      <td>Make the Difference</td>\n",
       "      <td>United Kingdom</td>\n",
       "      <td>Liberal Democrats</td>\n",
       "      <td>0</td>\n",
       "    </tr>\n",
       "    <tr>\n",
       "      <th>2</th>\n",
       "      <td>7</td>\n",
       "      <td>215</td>\n",
       "      <td>0.903366</td>\n",
       "      <td>Our first priority is to:</td>\n",
       "      <td>8</td>\n",
       "      <td>-1</td>\n",
       "      <td>102</td>\n",
       "      <td>51421_199705</td>\n",
       "      <td>51421</td>\n",
       "      <td>199705</td>\n",
       "      <td>Make the Difference</td>\n",
       "      <td>United Kingdom</td>\n",
       "      <td>Liberal Democrats</td>\n",
       "      <td>0</td>\n",
       "      <td>Our priorities are to:</td>\n",
       "      <td>216</td>\n",
       "      <td>-1</td>\n",
       "      <td>102</td>\n",
       "      <td>51421_199705</td>\n",
       "      <td>51421</td>\n",
       "      <td>199705</td>\n",
       "      <td>Make the Difference</td>\n",
       "      <td>United Kingdom</td>\n",
       "      <td>Liberal Democrats</td>\n",
       "      <td>0</td>\n",
       "    </tr>\n",
       "  </tbody>\n",
       "</table>\n",
       "</div>"
      ],
      "text/plain": [
       "   index_x  index_y  cosine_similarity               q_sentence_x  \\\n",
       "0        7        9           0.851987  Our first priority is to:   \n",
       "1        7      119           0.903366  Our first priority is to:   \n",
       "2        7      215           0.903366  Our first priority is to:   \n",
       "\n",
       "   q_sentence_nr_x  main_codes_x  coderid_x manifesto_id_x  party_x  date_x  \\\n",
       "0                8            -1        102   51421_199705    51421  199705   \n",
       "1                8            -1        102   51421_199705    51421  199705   \n",
       "2                8            -1        102   51421_199705    51421  199705   \n",
       "\n",
       "               title_x   countryname_x        partyname_x  RILE_x  \\\n",
       "0  Make the Difference  United Kingdom  Liberal Democrats       0   \n",
       "1  Make the Difference  United Kingdom  Liberal Democrats       0   \n",
       "2  Make the Difference  United Kingdom  Liberal Democrats       0   \n",
       "\n",
       "             q_sentence_y  q_sentence_nr_y  main_codes_y  coderid_y  \\\n",
       "0  Key priorities are to:               10            -1        102   \n",
       "1  Our priorities are to:              120            -1        102   \n",
       "2  Our priorities are to:              216            -1        102   \n",
       "\n",
       "  manifesto_id_y  party_y  date_y              title_y   countryname_y  \\\n",
       "0   51421_199705    51421  199705  Make the Difference  United Kingdom   \n",
       "1   51421_199705    51421  199705  Make the Difference  United Kingdom   \n",
       "2   51421_199705    51421  199705  Make the Difference  United Kingdom   \n",
       "\n",
       "         partyname_y  RILE_y  \n",
       "0  Liberal Democrats       0  \n",
       "1  Liberal Democrats       0  \n",
       "2  Liberal Democrats       0  "
      ]
     },
     "execution_count": 88,
     "metadata": {},
     "output_type": "execute_result"
    }
   ],
   "source": [
    "cosine_sim_df.head(3)"
   ]
  },
  {
   "cell_type": "code",
   "execution_count": 89,
   "metadata": {},
   "outputs": [
    {
     "data": {
      "text/plain": [
       "(0, 25)"
      ]
     },
     "execution_count": 89,
     "metadata": {},
     "output_type": "execute_result"
    }
   ],
   "source": [
    "# How many values do we have that are below -0.8?\n",
    "cosine_sim_df[cosine_sim_df[\"cosine_similarity\"] < 0].shape\n",
    "# --> none of them!"
   ]
  },
  {
   "cell_type": "code",
   "execution_count": 90,
   "metadata": {},
   "outputs": [
    {
     "data": {
      "text/plain": [
       "(379546, 25)"
      ]
     },
     "execution_count": 90,
     "metadata": {},
     "output_type": "execute_result"
    }
   ],
   "source": [
    "cosine_sim_df.shape"
   ]
  },
  {
   "cell_type": "markdown",
   "metadata": {},
   "source": [
    "Looking at the lowest cosine similarities. Are they good enough?"
   ]
  },
  {
   "cell_type": "code",
   "execution_count": 117,
   "metadata": {},
   "outputs": [
    {
     "data": {
      "text/html": [
       "<div>\n",
       "<style scoped>\n",
       "    .dataframe tbody tr th:only-of-type {\n",
       "        vertical-align: middle;\n",
       "    }\n",
       "\n",
       "    .dataframe tbody tr th {\n",
       "        vertical-align: top;\n",
       "    }\n",
       "\n",
       "    .dataframe thead th {\n",
       "        text-align: right;\n",
       "    }\n",
       "</style>\n",
       "<table border=\"1\" class=\"dataframe\">\n",
       "  <thead>\n",
       "    <tr style=\"text-align: right;\">\n",
       "      <th></th>\n",
       "      <th>manifesto_id_x</th>\n",
       "      <th>q_sentence_nr_x</th>\n",
       "      <th>q_sentence_x</th>\n",
       "      <th>q_sentence_y</th>\n",
       "      <th>manifesto_id_y</th>\n",
       "      <th>q_sentence_nr_y</th>\n",
       "      <th>cosine_similarity</th>\n",
       "    </tr>\n",
       "  </thead>\n",
       "  <tbody>\n",
       "    <tr>\n",
       "      <th>19423</th>\n",
       "      <td>51110_201505</td>\n",
       "      <td>1067</td>\n",
       "      <td>Give higher priority to the physical healthcare of those with mental health problems.</td>\n",
       "      <td>Prioritising mental healthcare</td>\n",
       "      <td>53951_201602</td>\n",
       "      <td>952</td>\n",
       "      <td>0.800000</td>\n",
       "    </tr>\n",
       "    <tr>\n",
       "      <th>233298</th>\n",
       "      <td>63810_201607</td>\n",
       "      <td>51</td>\n",
       "      <td>and generate more local investment.</td>\n",
       "      <td>and stimulate their local economy.</td>\n",
       "      <td>64620_202010</td>\n",
       "      <td>457</td>\n",
       "      <td>0.800000</td>\n",
       "    </tr>\n",
       "    <tr>\n",
       "      <th>19646</th>\n",
       "      <td>51110_201505</td>\n",
       "      <td>1349</td>\n",
       "      <td>End exploitative zero-hours contracts.</td>\n",
       "      <td>banning exploitative zero-hours contracts</td>\n",
       "      <td>51320_201505</td>\n",
       "      <td>84</td>\n",
       "      <td>0.800002</td>\n",
       "    </tr>\n",
       "    <tr>\n",
       "      <th>248096</th>\n",
       "      <td>63320_201905</td>\n",
       "      <td>3053</td>\n",
       "      <td>Reducing unnecessary regulation.</td>\n",
       "      <td>Cut red tape and improved regulations</td>\n",
       "      <td>64620_201111</td>\n",
       "      <td>5486</td>\n",
       "      <td>0.800003</td>\n",
       "    </tr>\n",
       "    <tr>\n",
       "      <th>172041</th>\n",
       "      <td>63110_201008</td>\n",
       "      <td>927</td>\n",
       "      <td>every Australian has the right to access good quality health care, housing and income support.</td>\n",
       "      <td>Reasonable access to quality, affordable health care and education for all Australians, regardless of their location and personal circumstances.</td>\n",
       "      <td>63810_201008</td>\n",
       "      <td>1193</td>\n",
       "      <td>0.800003</td>\n",
       "    </tr>\n",
       "  </tbody>\n",
       "</table>\n",
       "</div>"
      ],
      "text/plain": [
       "       manifesto_id_x  q_sentence_nr_x  \\\n",
       "19423    51110_201505             1067   \n",
       "233298   63810_201607               51   \n",
       "19646    51110_201505             1349   \n",
       "248096   63320_201905             3053   \n",
       "172041   63110_201008              927   \n",
       "\n",
       "                                                                                          q_sentence_x  \\\n",
       "19423            Give higher priority to the physical healthcare of those with mental health problems.   \n",
       "233298                                                             and generate more local investment.   \n",
       "19646                                                           End exploitative zero-hours contracts.   \n",
       "248096                                                                Reducing unnecessary regulation.   \n",
       "172041  every Australian has the right to access good quality health care, housing and income support.   \n",
       "\n",
       "                                                                                                                                            q_sentence_y  \\\n",
       "19423                                                                                                                     Prioritising mental healthcare   \n",
       "233298                                                                                                                and stimulate their local economy.   \n",
       "19646                                                                                                          banning exploitative zero-hours contracts   \n",
       "248096                                                                                                             Cut red tape and improved regulations   \n",
       "172041  Reasonable access to quality, affordable health care and education for all Australians, regardless of their location and personal circumstances.   \n",
       "\n",
       "       manifesto_id_y  q_sentence_nr_y  cosine_similarity  \n",
       "19423    53951_201602              952           0.800000  \n",
       "233298   64620_202010              457           0.800000  \n",
       "19646    51320_201505               84           0.800002  \n",
       "248096   64620_201111             5486           0.800003  \n",
       "172041   63810_201008             1193           0.800003  "
      ]
     },
     "execution_count": 117,
     "metadata": {},
     "output_type": "execute_result"
    }
   ],
   "source": [
    "# cosine_sim_df.sort_values(by=\"cosine_similarity\",\n",
    "#                           ascending=True)[[\"q_sentence_x\", \"main_codes_x\", \"q_sentence_y\", \"main_codes_y\", \"cosine_similarity\"]].head(20)\n",
    "\n",
    "cosine_sim_df.sort_values(by=\"cosine_similarity\",\n",
    "                          ascending=True)[[\"manifesto_id_x\", \"q_sentence_nr_x\", \"q_sentence_x\", \"q_sentence_y\", \"manifesto_id_y\", \"q_sentence_nr_y\", \"cosine_similarity\"]].head(5)"
   ]
  },
  {
   "cell_type": "markdown",
   "metadata": {},
   "source": [
    "Yes, they look very good! (We could even think about lowering the threshold in the calculation script)"
   ]
  },
  {
   "cell_type": "code",
   "execution_count": null,
   "metadata": {},
   "outputs": [],
   "source": []
  },
  {
   "cell_type": "markdown",
   "metadata": {},
   "source": [
    "General overview: how often do codes appear? How often in agreement / disagreement?\n",
    "This is done here before removing certain combinations:"
   ]
  },
  {
   "cell_type": "code",
   "execution_count": 47,
   "metadata": {},
   "outputs": [
    {
     "data": {
      "text/html": [
       "<div>\n",
       "<style scoped>\n",
       "    .dataframe tbody tr th:only-of-type {\n",
       "        vertical-align: middle;\n",
       "    }\n",
       "\n",
       "    .dataframe tbody tr th {\n",
       "        vertical-align: top;\n",
       "    }\n",
       "\n",
       "    .dataframe thead th {\n",
       "        text-align: right;\n",
       "    }\n",
       "</style>\n",
       "<table border=\"1\" class=\"dataframe\">\n",
       "  <thead>\n",
       "    <tr style=\"text-align: right;\">\n",
       "      <th></th>\n",
       "      <th>code</th>\n",
       "      <th>total_counts</th>\n",
       "      <th>perc_disagree</th>\n",
       "      <th>agreement_counts</th>\n",
       "      <th>disagreement_counts</th>\n",
       "      <th>perc_total_occurance</th>\n",
       "    </tr>\n",
       "  </thead>\n",
       "  <tbody>\n",
       "    <tr>\n",
       "      <th>0</th>\n",
       "      <td>-1</td>\n",
       "      <td>177147</td>\n",
       "      <td>0.266355</td>\n",
       "      <td>129963</td>\n",
       "      <td>47184</td>\n",
       "      <td>0.466734</td>\n",
       "    </tr>\n",
       "    <tr>\n",
       "      <th>1</th>\n",
       "      <td>0</td>\n",
       "      <td>133534</td>\n",
       "      <td>0.343186</td>\n",
       "      <td>87707</td>\n",
       "      <td>45827</td>\n",
       "      <td>0.351826</td>\n",
       "    </tr>\n",
       "    <tr>\n",
       "      <th>40</th>\n",
       "      <td>504</td>\n",
       "      <td>19339</td>\n",
       "      <td>0.418015</td>\n",
       "      <td>11255</td>\n",
       "      <td>8084</td>\n",
       "      <td>0.050953</td>\n",
       "    </tr>\n",
       "  </tbody>\n",
       "</table>\n",
       "</div>"
      ],
      "text/plain": [
       "    code  total_counts  perc_disagree  agreement_counts  disagreement_counts  \\\n",
       "0     -1        177147       0.266355            129963                47184   \n",
       "1      0        133534       0.343186             87707                45827   \n",
       "40   504         19339       0.418015             11255                 8084   \n",
       "\n",
       "    perc_total_occurance  \n",
       "0               0.466734  \n",
       "1               0.351826  \n",
       "40              0.050953  "
      ]
     },
     "execution_count": 47,
     "metadata": {},
     "output_type": "execute_result"
    }
   ],
   "source": [
    "codes = np.union1d(cosine_sim_df[\"main_codes_x\"].unique(), cosine_sim_df[\"main_codes_y\"].unique())\n",
    "total_counts = dict()\n",
    "agreement_counts = dict()\n",
    "disagreement_counts = dict()\n",
    "\n",
    "for c in codes:\n",
    "    count = ((cosine_sim_df['main_codes_x'] == c) | (cosine_sim_df['main_codes_y'] == c)).sum()\n",
    "    total_counts[c] = count\n",
    "    \n",
    "    count = ((cosine_sim_df['main_codes_x'] == c) & (cosine_sim_df['main_codes_y'] == c)).sum()\n",
    "    agreement_counts[c] = count\n",
    "\n",
    "    count = ((cosine_sim_df['main_codes_x'] != c) ^ (cosine_sim_df['main_codes_y'] != c)).sum()\n",
    "    disagreement_counts[c] = count\n",
    "\n",
    "# Create a dictionary with the percentage of disagreement for this code\n",
    "# so disagreement_count/total_count\n",
    "perc_dict = dict()\n",
    "for k,v in total_counts.items():\n",
    "    perc_dict[k] = disagreement_counts[k]/v\n",
    "\n",
    "# Getting the dicts into a df:\n",
    "\n",
    "merged_df = pd.merge(pd.DataFrame(list(total_counts.items()), columns=['code', 'total_counts']),\n",
    "                     pd.DataFrame(list(perc_dict.items()), columns=['code', 'perc_disagree']),\n",
    "                     on='code')\n",
    "\n",
    "merged_df_temp = pd.merge(pd.DataFrame(list(agreement_counts.items()), columns=['code', 'agreement_counts']),\n",
    "                     pd.DataFrame(list(disagreement_counts.items()), columns=['code', 'disagreement_counts']),\n",
    "                     on='code')\n",
    "\n",
    "code_combinations_df_full = pd.merge(merged_df, merged_df_temp, on='code')\n",
    "\n",
    "# add the percentage how often a code appears in the similar sentence combinations:\n",
    "code_combinations_df_full[\"perc_total_occurance\"] = code_combinations_df_full[\"total_counts\"]/cosine_sim_df.shape[0]\n",
    "\n",
    "code_combinations_df_full.sort_values(by=\"perc_total_occurance\", ascending=False, inplace=True)\n",
    "code_combinations_df_full.head(3)"
   ]
  },
  {
   "cell_type": "code",
   "execution_count": 119,
   "metadata": {},
   "outputs": [
    {
     "data": {
      "text/plain": [
       "Text(0.5, 1.0, 'Percentage of combinations that contain this code (top 10)')"
      ]
     },
     "execution_count": 119,
     "metadata": {},
     "output_type": "execute_result"
    },
    {
     "data": {
      "image/png": "[encoded data removed]",
      "text/plain": [
       "<Figure size 640x480 with 1 Axes>"
      ]
     },
     "metadata": {},
     "output_type": "display_data"
    }
   ],
   "source": [
    "# Plot the most occuring codes:\n",
    "top_ten_codes = code_combinations_df_full.head(10)[\"code\"].astype(str)\n",
    "top_ten_percentages = code_combinations_df_full.head(10)[\"perc_total_occurance\"]\n",
    "\n",
    "plt.bar(top_ten_codes, top_ten_percentages)\n",
    "\n",
    "plt.xlabel('Codes')\n",
    "plt.ylabel('Occurence in similar combinations')\n",
    "plt.title('Percentage of combinations that contain this code (top 10)')"
   ]
  },
  {
   "cell_type": "code",
   "execution_count": 118,
   "metadata": {},
   "outputs": [
    {
     "name": "stdout",
     "output_type": "stream",
     "text": [
      "0.09033440319222762\n"
     ]
    }
   ],
   "source": [
    "# How often do coders agree that similar sentences have no content/useful meaning? So how often do both give 0 or -1? How often does only one give 0 or -1?\n",
    "\n",
    "# How often does either -1 or 0 appear in one or both of the codes:\n",
    "count_a = cosine_sim_df[(((cosine_sim_df['main_codes_x'] == -1) | (cosine_sim_df['main_codes_x'] == 0)) | (\n",
    "    (cosine_sim_df['main_codes_y'] == -1) | (cosine_sim_df['main_codes_y'] == 0)))].shape[0]\n",
    "\n",
    "# How often do both codes have either -1 or 0:\n",
    "count_b = cosine_sim_df[(((cosine_sim_df['main_codes_x'] == -1) | (cosine_sim_df['main_codes_x'] == 0)) & (\n",
    "    (cosine_sim_df['main_codes_y'] == -1) | (cosine_sim_df['main_codes_y'] == 0)))].shape[0]\n",
    "\n",
    "# How often does only one code have either -1 or 0:\n",
    "count_c = cosine_sim_df[(((cosine_sim_df['main_codes_x'] == -1) | (cosine_sim_df['main_codes_x'] == 0)) ^ (\n",
    "    (cosine_sim_df['main_codes_y'] == -1) | (cosine_sim_df['main_codes_y'] == 0)))].shape[0]\n",
    "\n",
    "# So, how often do coders disagree on these?\n",
    "print(count_c/count_a)"
   ]
  },
  {
   "cell_type": "code",
   "execution_count": 125,
   "metadata": {},
   "outputs": [
    {
     "data": {
      "image/png": "[encoded data removed]",
      "text/plain": [
       "<Figure size 640x480 with 1 Axes>"
      ]
     },
     "metadata": {},
     "output_type": "display_data"
    }
   ],
   "source": [
    "x = [\"Only one -1/0\", \"Both -1/0\"]\n",
    "y = [count_c/count_a, 1-count_c/count_a]\n",
    "\n",
    "plt.bar(x, y)\n",
    "\n",
    "plt.ylabel('Percentage of all codes that are -1 or 0 at least once')\n",
    "plt.title('How often do both codes contain -1 or 0?')\n",
    "\n",
    "# Annotate the bars with their corresponding values\n",
    "for i in range(len(x)):\n",
    "    plt.text(i, y[i], f'{y[i]*100:.2f}%', ha='center', va='bottom')\n",
    "\n",
    "plt.show()"
   ]
  },
  {
   "cell_type": "markdown",
   "metadata": {},
   "source": [
    "--> In about 91% of the time, coders agree if there is no meaning in a q_sentence. 9% of the time, one of them sees a meaning!"
   ]
  },
  {
   "cell_type": "markdown",
   "metadata": {},
   "source": [
    "Removing rows where coders agree on -1 or 0 (so that this q_sentence has no \"meaning\" per se):\n",
    "\n",
    "This removes 251.679 combinations, or 66.3% of all combinations"
   ]
  },
  {
   "cell_type": "code",
   "execution_count": 14,
   "metadata": {},
   "outputs": [
    {
     "data": {
      "text/plain": [
       "(127867, 23)"
      ]
     },
     "execution_count": 14,
     "metadata": {},
     "output_type": "execute_result"
    }
   ],
   "source": [
    "# Remove all rows where both codes are -1; here the coders agree that it is not a topic that needs to be coded, likely just formating etc.\n",
    "#cosine_sim_df = cosine_sim_df[(cosine_sim_df['main_codes_x'] != -1) | (cosine_sim_df['main_codes_y'] != -1)]\n",
    "# same thing for both codes 0\n",
    "#cosine_sim_df = cosine_sim_df[(cosine_sim_df['main_codes_x'] != 0) | (cosine_sim_df['main_codes_y'] != 0)]\n",
    "\n",
    "\n",
    "# and now also where one is -1 and one is 0: the coders agree, there is no meaning in this\n",
    "\n",
    "# This does it all in one: removes all rows where both codes are either 0 or -1:\n",
    "cosine_sim_df = cosine_sim_df[~(((cosine_sim_df['main_codes_x'] == -1) | (cosine_sim_df['main_codes_x'] == 0)) & (\n",
    "    (cosine_sim_df['main_codes_y'] == -1) | (cosine_sim_df['main_codes_y'] == 0)))]\n",
    "\n",
    "\n",
    "cosine_sim_df.shape"
   ]
  },
  {
   "cell_type": "markdown",
   "metadata": {},
   "source": [
    "How often do coders disagree on these similar sentences?"
   ]
  },
  {
   "cell_type": "code",
   "execution_count": 17,
   "metadata": {},
   "outputs": [],
   "source": [
    "# add a column that indicates if coders agreed\n",
    "cosine_sim_df[\"in_agreement\"] = cosine_sim_df['main_codes_x'] == cosine_sim_df['main_codes_y']"
   ]
  },
  {
   "cell_type": "code",
   "execution_count": 18,
   "metadata": {},
   "outputs": [
    {
     "data": {
      "text/plain": [
       "0.4453690162434405"
      ]
     },
     "execution_count": 18,
     "metadata": {},
     "output_type": "execute_result"
    }
   ],
   "source": [
    "# How often are codes not equal?\n",
    "1 - sum(cosine_sim_df[\"in_agreement\"])/cosine_sim_df.shape[0]"
   ]
  },
  {
   "cell_type": "code",
   "execution_count": 31,
   "metadata": {},
   "outputs": [
    {
     "data": {
      "text/html": [
       "<div>\n",
       "<style scoped>\n",
       "    .dataframe tbody tr th:only-of-type {\n",
       "        vertical-align: middle;\n",
       "    }\n",
       "\n",
       "    .dataframe tbody tr th {\n",
       "        vertical-align: top;\n",
       "    }\n",
       "\n",
       "    .dataframe thead th {\n",
       "        text-align: right;\n",
       "    }\n",
       "</style>\n",
       "<table border=\"1\" class=\"dataframe\">\n",
       "  <thead>\n",
       "    <tr style=\"text-align: right;\">\n",
       "      <th></th>\n",
       "      <th>q_sentence_x</th>\n",
       "      <th>main_codes_x</th>\n",
       "      <th>q_sentence_y</th>\n",
       "      <th>main_codes_y</th>\n",
       "    </tr>\n",
       "  </thead>\n",
       "  <tbody>\n",
       "    <tr>\n",
       "      <th>22</th>\n",
       "      <td>- Give children the best start by providing high quality early years education for every 3 and 4 year-old child whose parents want it.</td>\n",
       "      <td>706</td>\n",
       "      <td>- Give children the best start by providing high quality early years education for every 3 and 4 year-old child whose parents want it.</td>\n",
       "      <td>706</td>\n",
       "    </tr>\n",
       "    <tr>\n",
       "      <th>44</th>\n",
       "      <td>- Increase funding for books and equipment in schools.</td>\n",
       "      <td>506</td>\n",
       "      <td>- Increase funding for books and equipment in schools.</td>\n",
       "      <td>506</td>\n",
       "    </tr>\n",
       "    <tr>\n",
       "      <th>45</th>\n",
       "      <td>In the first year, we will double spending on books and equipment to overcome the effect of recent cuts.</td>\n",
       "      <td>-1</td>\n",
       "      <td>In the first year, we will double spending on books and equipment to overcome the effect of recent cuts.</td>\n",
       "      <td>506</td>\n",
       "    </tr>\n",
       "    <tr>\n",
       "      <th>48</th>\n",
       "      <td>- Boost chances for all adults to improve their skills and get better qualifications.</td>\n",
       "      <td>506</td>\n",
       "      <td>- Boost chances for all adults to improve their skills and get better qualifications.</td>\n",
       "      <td>411</td>\n",
       "    </tr>\n",
       "    <tr>\n",
       "      <th>191</th>\n",
       "      <td>We will:</td>\n",
       "      <td>-1</td>\n",
       "      <td>We will:</td>\n",
       "      <td>703</td>\n",
       "    </tr>\n",
       "    <tr>\n",
       "      <th>493</th>\n",
       "      <td>We will:</td>\n",
       "      <td>-1</td>\n",
       "      <td>We will:</td>\n",
       "      <td>703</td>\n",
       "    </tr>\n",
       "    <tr>\n",
       "      <th>808</th>\n",
       "      <td>We will:</td>\n",
       "      <td>-1</td>\n",
       "      <td>We will:</td>\n",
       "      <td>703</td>\n",
       "    </tr>\n",
       "    <tr>\n",
       "      <th>1107</th>\n",
       "      <td>We will:</td>\n",
       "      <td>-1</td>\n",
       "      <td>We will:</td>\n",
       "      <td>703</td>\n",
       "    </tr>\n",
       "    <tr>\n",
       "      <th>1420</th>\n",
       "      <td>We will:</td>\n",
       "      <td>-1</td>\n",
       "      <td>We will:</td>\n",
       "      <td>703</td>\n",
       "    </tr>\n",
       "    <tr>\n",
       "      <th>1764</th>\n",
       "      <td>We will:</td>\n",
       "      <td>-1</td>\n",
       "      <td>We will:</td>\n",
       "      <td>703</td>\n",
       "    </tr>\n",
       "    <tr>\n",
       "      <th>1925</th>\n",
       "      <td>First, the single currency must be firmly founded on the Maastricht criteria.</td>\n",
       "      <td>108</td>\n",
       "      <td>First, the single currency must be firmly founded on the Maastricht criteria.</td>\n",
       "      <td>110</td>\n",
       "    </tr>\n",
       "    <tr>\n",
       "      <th>1926</th>\n",
       "      <td>Second, Britain must meet those criteria.</td>\n",
       "      <td>108</td>\n",
       "      <td>Second, Britain must meet those criteria.</td>\n",
       "      <td>110</td>\n",
       "    </tr>\n",
       "    <tr>\n",
       "      <th>2084</th>\n",
       "      <td>We will:</td>\n",
       "      <td>-1</td>\n",
       "      <td>We will:</td>\n",
       "      <td>703</td>\n",
       "    </tr>\n",
       "    <tr>\n",
       "      <th>2448</th>\n",
       "      <td>We will:</td>\n",
       "      <td>-1</td>\n",
       "      <td>We will:</td>\n",
       "      <td>703</td>\n",
       "    </tr>\n",
       "    <tr>\n",
       "      <th>2783</th>\n",
       "      <td>We will:</td>\n",
       "      <td>-1</td>\n",
       "      <td>We will:</td>\n",
       "      <td>703</td>\n",
       "    </tr>\n",
       "    <tr>\n",
       "      <th>3091</th>\n",
       "      <td>We will:</td>\n",
       "      <td>-1</td>\n",
       "      <td>We will:</td>\n",
       "      <td>703</td>\n",
       "    </tr>\n",
       "    <tr>\n",
       "      <th>3407</th>\n",
       "      <td>We will:</td>\n",
       "      <td>-1</td>\n",
       "      <td>We will:</td>\n",
       "      <td>703</td>\n",
       "    </tr>\n",
       "    <tr>\n",
       "      <th>3759</th>\n",
       "      <td>We will:</td>\n",
       "      <td>-1</td>\n",
       "      <td>We will:</td>\n",
       "      <td>703</td>\n",
       "    </tr>\n",
       "    <tr>\n",
       "      <th>4050</th>\n",
       "      <td>We will:</td>\n",
       "      <td>-1</td>\n",
       "      <td>We will:</td>\n",
       "      <td>703</td>\n",
       "    </tr>\n",
       "    <tr>\n",
       "      <th>4362</th>\n",
       "      <td>We will:</td>\n",
       "      <td>-1</td>\n",
       "      <td>We will:</td>\n",
       "      <td>703</td>\n",
       "    </tr>\n",
       "  </tbody>\n",
       "</table>\n",
       "</div>"
      ],
      "text/plain": [
       "                                                                                                                                q_sentence_x  \\\n",
       "22    - Give children the best start by providing high quality early years education for every 3 and 4 year-old child whose parents want it.   \n",
       "44                                                                                    - Increase funding for books and equipment in schools.   \n",
       "45                                  In the first year, we will double spending on books and equipment to overcome the effect of recent cuts.   \n",
       "48                                                     - Boost chances for all adults to improve their skills and get better qualifications.   \n",
       "191                                                                                                                                 We will:   \n",
       "493                                                                                                                                 We will:   \n",
       "808                                                                                                                                 We will:   \n",
       "1107                                                                                                                                We will:   \n",
       "1420                                                                                                                                We will:   \n",
       "1764                                                                                                                                We will:   \n",
       "1925                                                           First, the single currency must be firmly founded on the Maastricht criteria.   \n",
       "1926                                                                                               Second, Britain must meet those criteria.   \n",
       "2084                                                                                                                                We will:   \n",
       "2448                                                                                                                                We will:   \n",
       "2783                                                                                                                                We will:   \n",
       "3091                                                                                                                                We will:   \n",
       "3407                                                                                                                                We will:   \n",
       "3759                                                                                                                                We will:   \n",
       "4050                                                                                                                                We will:   \n",
       "4362                                                                                                                                We will:   \n",
       "\n",
       "      main_codes_x  \\\n",
       "22             706   \n",
       "44             506   \n",
       "45              -1   \n",
       "48             506   \n",
       "191             -1   \n",
       "493             -1   \n",
       "808             -1   \n",
       "1107            -1   \n",
       "1420            -1   \n",
       "1764            -1   \n",
       "1925           108   \n",
       "1926           108   \n",
       "2084            -1   \n",
       "2448            -1   \n",
       "2783            -1   \n",
       "3091            -1   \n",
       "3407            -1   \n",
       "3759            -1   \n",
       "4050            -1   \n",
       "4362            -1   \n",
       "\n",
       "                                                                                                                                q_sentence_y  \\\n",
       "22    - Give children the best start by providing high quality early years education for every 3 and 4 year-old child whose parents want it.   \n",
       "44                                                                                    - Increase funding for books and equipment in schools.   \n",
       "45                                  In the first year, we will double spending on books and equipment to overcome the effect of recent cuts.   \n",
       "48                                                     - Boost chances for all adults to improve their skills and get better qualifications.   \n",
       "191                                                                                                                                 We will:   \n",
       "493                                                                                                                                 We will:   \n",
       "808                                                                                                                                 We will:   \n",
       "1107                                                                                                                                We will:   \n",
       "1420                                                                                                                                We will:   \n",
       "1764                                                                                                                                We will:   \n",
       "1925                                                           First, the single currency must be firmly founded on the Maastricht criteria.   \n",
       "1926                                                                                               Second, Britain must meet those criteria.   \n",
       "2084                                                                                                                                We will:   \n",
       "2448                                                                                                                                We will:   \n",
       "2783                                                                                                                                We will:   \n",
       "3091                                                                                                                                We will:   \n",
       "3407                                                                                                                                We will:   \n",
       "3759                                                                                                                                We will:   \n",
       "4050                                                                                                                                We will:   \n",
       "4362                                                                                                                                We will:   \n",
       "\n",
       "      main_codes_y  \n",
       "22             706  \n",
       "44             506  \n",
       "45             506  \n",
       "48             411  \n",
       "191            703  \n",
       "493            703  \n",
       "808            703  \n",
       "1107           703  \n",
       "1420           703  \n",
       "1764           703  \n",
       "1925           110  \n",
       "1926           110  \n",
       "2084           703  \n",
       "2448           703  \n",
       "2783           703  \n",
       "3091           703  \n",
       "3407           703  \n",
       "3759           703  \n",
       "4050           703  \n",
       "4362           703  "
      ]
     },
     "execution_count": 31,
     "metadata": {},
     "output_type": "execute_result"
    }
   ],
   "source": [
    "cosine_sim_df[cosine_sim_df[\"cosine_similarity\"] > 0.975][[\"q_sentence_x\", \"main_codes_x\", \"q_sentence_y\", \"main_codes_y\"]].head(20)"
   ]
  },
  {
   "cell_type": "code",
   "execution_count": null,
   "metadata": {},
   "outputs": [],
   "source": []
  },
  {
   "cell_type": "code",
   "execution_count": 19,
   "metadata": {},
   "outputs": [
    {
     "name": "stderr",
     "output_type": "stream",
     "text": [
      "C:\\Users\\Konstantin\\AppData\\Local\\Temp\\ipykernel_6024\\765672073.py:10: FutureWarning: The default of observed=False is deprecated and will be changed to True in a future version of pandas. Pass observed=False to retain current behavior or observed=True to adopt the future default and silence this warning.\n",
      "  bin_percentages = plot_df.groupby('Bin')['in_agreement'].mean() * 100\n",
      "C:\\Users\\Konstantin\\AppData\\Local\\Temp\\ipykernel_6024\\765672073.py:26: UserWarning: FixedFormatter should only be used together with FixedLocator\n",
      "  plt.gca().set_yticklabels(['{:.0f}%'.format(x) for x in plt.gca().get_yticks()])\n"
     ]
    },
    {
     "data": {
      "image/png": "[encoded data removed]",
      "text/plain": [
       "<Figure size 640x480 with 1 Axes>"
      ]
     },
     "metadata": {},
     "output_type": "display_data"
    }
   ],
   "source": [
    "# Define the bins for column A\n",
    "plot_df = cosine_sim_df.copy()\n",
    "\n",
    "bins = [0.8, 0.825, 0.85, 0.875, 0.9, 0.925, 0.95, 0.975, 1.0]\n",
    "\n",
    "# Create a new column 'Bin' which indicates the bin that each value in column A falls into\n",
    "plot_df['Bin'] = pd.cut(plot_df['cosine_similarity'], bins)\n",
    "\n",
    "# Calculate the percentage of True values in each bin\n",
    "bin_percentages = plot_df.groupby('Bin')['in_agreement'].mean() * 100\n",
    "\n",
    "# Create a bar plot\n",
    "bars = plt.bar(bin_percentages.index.astype(str), bin_percentages, color='skyblue', edgecolor='black')\n",
    "\n",
    "# Add percentage labels above the bars\n",
    "for bar, percentage in zip(bars, bin_percentages):\n",
    "    plt.text(bar.get_x() + bar.get_width() / 2, bar.get_height(), f'{percentage:.1f}%', \n",
    "             ha='center', va='bottom', fontsize=10)\n",
    "\n",
    "# Add labels and title\n",
    "plt.xlabel('Cosine Similarity')\n",
    "plt.ylabel('Percentage of codes in agreement')\n",
    "plt.title('How often do coders agree on the same codes?')\n",
    "plt.xticks(rotation=45, ha='right')  # Rotate x-axis labels for better visibility\n",
    "# Add '%' sign to the y-axis labels\n",
    "plt.gca().set_yticklabels(['{:.0f}%'.format(x) for x in plt.gca().get_yticks()])\n",
    "\n",
    "plt.show()"
   ]
  },
  {
   "cell_type": "code",
   "execution_count": 20,
   "metadata": {},
   "outputs": [],
   "source": [
    "plot_df = cosine_sim_df.copy()\n",
    "plot_df = plot_df[cosine_sim_df[\"manifesto_id_x\"] != cosine_sim_df[\"manifesto_id_y\"]]"
   ]
  },
  {
   "cell_type": "code",
   "execution_count": 21,
   "metadata": {},
   "outputs": [
    {
     "name": "stdout",
     "output_type": "stream",
     "text": [
      "(92738, 24)\n"
     ]
    },
    {
     "name": "stderr",
     "output_type": "stream",
     "text": [
      "C:\\Users\\Konstantin\\AppData\\Local\\Temp\\ipykernel_6024\\2374201835.py:16: FutureWarning: The default of observed=False is deprecated and will be changed to True in a future version of pandas. Pass observed=False to retain current behavior or observed=True to adopt the future default and silence this warning.\n",
      "  bin_percentages = plot_df.groupby('Bin')['in_agreement'].mean() * 100\n",
      "C:\\Users\\Konstantin\\AppData\\Local\\Temp\\ipykernel_6024\\2374201835.py:32: UserWarning: FixedFormatter should only be used together with FixedLocator\n",
      "  plt.gca().set_yticklabels(['{:.0f}%'.format(x) for x in plt.gca().get_yticks()])\n"
     ]
    },
    {
     "data": {
      "image/png": "[encoded data removed]",
      "text/plain": [
       "<Figure size 640x480 with 1 Axes>"
      ]
     },
     "metadata": {},
     "output_type": "display_data"
    }
   ],
   "source": [
    "# How does this change if we only take combinations of different documents?\n",
    "# (So coders dont just pick the same code for the sentence they see again and again?)\n",
    "\n",
    "# Define the bins for column A\n",
    "plot_df = cosine_sim_df.copy()\n",
    "# remove combinations from the same document:\n",
    "plot_df = plot_df[cosine_sim_df[\"manifesto_id_x\"] != cosine_sim_df[\"manifesto_id_y\"]]\n",
    "print(plot_df.shape)\n",
    "\n",
    "bins = [0.8, 0.825, 0.85, 0.875, 0.9, 0.925, 0.95, 0.975, 1.0]\n",
    "\n",
    "# Create a new column 'Bin' which indicates the bin that each value in column A falls into\n",
    "plot_df['Bin'] = pd.cut(plot_df['cosine_similarity'], bins)\n",
    "\n",
    "# Calculate the percentage of True values in each bin\n",
    "bin_percentages = plot_df.groupby('Bin')['in_agreement'].mean() * 100\n",
    "\n",
    "# Create a bar plot\n",
    "bars = plt.bar(bin_percentages.index.astype(str), bin_percentages, color='skyblue', edgecolor='black')\n",
    "\n",
    "# Add percentage labels above the bars\n",
    "for bar, percentage in zip(bars, bin_percentages):\n",
    "    plt.text(bar.get_x() + bar.get_width() / 2, bar.get_height(), f'{percentage:.1f}%', \n",
    "             ha='center', va='bottom', fontsize=10)\n",
    "\n",
    "# Add labels and title\n",
    "plt.xlabel('Cosine Similarity')\n",
    "plt.ylabel('Percentage of codes in agreement')\n",
    "plt.title('How often do coders agree on the same codes?\\nOnly looking at combinations from different manifestos')\n",
    "plt.xticks(rotation=45, ha='right')  # Rotate x-axis labels for better visibility\n",
    "# Add '%' sign to the y-axis labels\n",
    "plt.gca().set_yticklabels(['{:.0f}%'.format(x) for x in plt.gca().get_yticks()])\n",
    "\n",
    "plt.show()"
   ]
  },
  {
   "cell_type": "markdown",
   "metadata": {},
   "source": [
    "Which codes appear most often? Which most often in agreement? Which most often when not in agreement?"
   ]
  },
  {
   "cell_type": "code",
   "execution_count": 22,
   "metadata": {},
   "outputs": [],
   "source": [
    "codes = np.union1d(cosine_sim_df[\"main_codes_x\"].unique(), cosine_sim_df[\"main_codes_y\"].unique())"
   ]
  },
  {
   "cell_type": "code",
   "execution_count": 23,
   "metadata": {},
   "outputs": [],
   "source": [
    "total_counts = dict()\n",
    "agreement_counts = dict()\n",
    "disagreement_counts = dict()\n",
    "for c in codes:\n",
    "    count = ((cosine_sim_df['main_codes_x'] == c) | (cosine_sim_df['main_codes_y'] == c)).sum()\n",
    "    total_counts[c] = count\n",
    "    \n",
    "    count = ((cosine_sim_df['main_codes_x'] == c) & (cosine_sim_df['main_codes_y'] == c)).sum()\n",
    "    agreement_counts[c] = count\n",
    "\n",
    "    count = ((cosine_sim_df['main_codes_x'] != c) ^ (cosine_sim_df['main_codes_y'] != c)).sum()\n",
    "    disagreement_counts[c] = count\n"
   ]
  },
  {
   "cell_type": "code",
   "execution_count": 24,
   "metadata": {},
   "outputs": [],
   "source": [
    "# Create a dictionary with the percentage of disagreement for this code\n",
    "# so disagreement_count/total_count\n",
    "\n",
    "perc_dict = dict()\n",
    "for k,v in total_counts.items():\n",
    "    perc_dict[k] = disagreement_counts[k]/v"
   ]
  },
  {
   "cell_type": "code",
   "execution_count": 25,
   "metadata": {},
   "outputs": [
    {
     "data": {
      "text/html": [
       "<div>\n",
       "<style scoped>\n",
       "    .dataframe tbody tr th:only-of-type {\n",
       "        vertical-align: middle;\n",
       "    }\n",
       "\n",
       "    .dataframe tbody tr th {\n",
       "        vertical-align: top;\n",
       "    }\n",
       "\n",
       "    .dataframe thead th {\n",
       "        text-align: right;\n",
       "    }\n",
       "</style>\n",
       "<table border=\"1\" class=\"dataframe\">\n",
       "  <thead>\n",
       "    <tr style=\"text-align: right;\">\n",
       "      <th></th>\n",
       "      <th>code</th>\n",
       "      <th>total_counts</th>\n",
       "      <th>perc_disagree</th>\n",
       "      <th>agreement_counts</th>\n",
       "      <th>disagreement_counts</th>\n",
       "      <th>perc_total_occurance</th>\n",
       "    </tr>\n",
       "  </thead>\n",
       "  <tbody>\n",
       "    <tr>\n",
       "      <th>0</th>\n",
       "      <td>-1</td>\n",
       "      <td>13175</td>\n",
       "      <td>1.000000</td>\n",
       "      <td>0</td>\n",
       "      <td>13175</td>\n",
       "      <td>0.103037</td>\n",
       "    </tr>\n",
       "    <tr>\n",
       "      <th>1</th>\n",
       "      <td>0</td>\n",
       "      <td>11818</td>\n",
       "      <td>1.000000</td>\n",
       "      <td>0</td>\n",
       "      <td>11818</td>\n",
       "      <td>0.092424</td>\n",
       "    </tr>\n",
       "    <tr>\n",
       "      <th>2</th>\n",
       "      <td>101</td>\n",
       "      <td>748</td>\n",
       "      <td>0.763369</td>\n",
       "      <td>177</td>\n",
       "      <td>571</td>\n",
       "      <td>0.005850</td>\n",
       "    </tr>\n",
       "  </tbody>\n",
       "</table>\n",
       "</div>"
      ],
      "text/plain": [
       "   code  total_counts  perc_disagree  agreement_counts  disagreement_counts  \\\n",
       "0    -1         13175       1.000000                 0                13175   \n",
       "1     0         11818       1.000000                 0                11818   \n",
       "2   101           748       0.763369               177                  571   \n",
       "\n",
       "   perc_total_occurance  \n",
       "0              0.103037  \n",
       "1              0.092424  \n",
       "2              0.005850  "
      ]
     },
     "execution_count": 25,
     "metadata": {},
     "output_type": "execute_result"
    }
   ],
   "source": [
    "# Getting the dicts into a df:\n",
    "\n",
    "merged_df = pd.merge(pd.DataFrame(list(total_counts.items()), columns=['code', 'total_counts']),\n",
    "                     pd.DataFrame(list(perc_dict.items()), columns=['code', 'perc_disagree']),\n",
    "                     on='code')\n",
    "\n",
    "merged_df_temp = pd.merge(pd.DataFrame(list(agreement_counts.items()), columns=['code', 'agreement_counts']),\n",
    "                     pd.DataFrame(list(disagreement_counts.items()), columns=['code', 'disagreement_counts']),\n",
    "                     on='code')\n",
    "\n",
    "code_combinations_df = pd.merge(merged_df, merged_df_temp, on='code')\n",
    "\n",
    "# add the percentage how often a code appears in the similar sentence combinations:\n",
    "code_combinations_df[\"perc_total_occurance\"] = code_combinations_df[\"total_counts\"]/cosine_sim_df.shape[0]\n",
    "\n",
    "code_combinations_df.head(3)"
   ]
  },
  {
   "cell_type": "code",
   "execution_count": null,
   "metadata": {},
   "outputs": [],
   "source": []
  },
  {
   "cell_type": "markdown",
   "metadata": {},
   "source": [
    "Deeper look into sentences that are exactly the same:"
   ]
  },
  {
   "cell_type": "code",
   "execution_count": 26,
   "metadata": {},
   "outputs": [
    {
     "data": {
      "text/plain": [
       "(29248, 24)"
      ]
     },
     "execution_count": 26,
     "metadata": {},
     "output_type": "execute_result"
    }
   ],
   "source": [
    "same_df = cosine_sim_df[cosine_sim_df[\"cosine_similarity\"] > 0.9999]\n",
    "same_df.shape"
   ]
  },
  {
   "cell_type": "code",
   "execution_count": 27,
   "metadata": {},
   "outputs": [
    {
     "data": {
      "text/html": [
       "<div>\n",
       "<style scoped>\n",
       "    .dataframe tbody tr th:only-of-type {\n",
       "        vertical-align: middle;\n",
       "    }\n",
       "\n",
       "    .dataframe tbody tr th {\n",
       "        vertical-align: top;\n",
       "    }\n",
       "\n",
       "    .dataframe thead th {\n",
       "        text-align: right;\n",
       "    }\n",
       "</style>\n",
       "<table border=\"1\" class=\"dataframe\">\n",
       "  <thead>\n",
       "    <tr style=\"text-align: right;\">\n",
       "      <th></th>\n",
       "      <th>q_sentence_x</th>\n",
       "      <th>main_codes_x</th>\n",
       "      <th>q_sentence_y</th>\n",
       "      <th>main_codes_y</th>\n",
       "      <th>cosine_similarity</th>\n",
       "    </tr>\n",
       "  </thead>\n",
       "  <tbody>\n",
       "    <tr>\n",
       "      <th>221733</th>\n",
       "      <td>$80 million to build the North Lake Bridge.</td>\n",
       "      <td>411</td>\n",
       "      <td>$80 million to build the North Lake Bridge.</td>\n",
       "      <td>411</td>\n",
       "      <td>1.0</td>\n",
       "    </tr>\n",
       "    <tr>\n",
       "      <th>185820</th>\n",
       "      <td>He has dedicated his life to public service – to serving his country and the Australian people</td>\n",
       "      <td>305</td>\n",
       "      <td>He has dedicated his life to public service – to serving his country and the Australian people</td>\n",
       "      <td>305</td>\n",
       "      <td>1.0</td>\n",
       "    </tr>\n",
       "    <tr>\n",
       "      <th>217705</th>\n",
       "      <td>A Shorten Labor Government will renew investment in Australian multiculturalism, with $28.3 million of new funding to support social cohesion and economic inclusion.</td>\n",
       "      <td>0</td>\n",
       "      <td>A Shorten Labor Government will renew investment in Australian multiculturalism, with $28.3 million of new funding to support social cohesion and economic inclusion.</td>\n",
       "      <td>607</td>\n",
       "      <td>1.0</td>\n",
       "    </tr>\n",
       "    <tr>\n",
       "      <th>322385</th>\n",
       "      <td>•  $30.4 million  of P was seized in 2010.</td>\n",
       "      <td>605</td>\n",
       "      <td>•  $30.4 million  of P  was seized in 2010.</td>\n",
       "      <td>605</td>\n",
       "      <td>1.0</td>\n",
       "    </tr>\n",
       "    <tr>\n",
       "      <th>185821</th>\n",
       "      <td>He has dedicated his life to public service – to serving his country and the Australian people</td>\n",
       "      <td>305</td>\n",
       "      <td>He has dedicated his life to public service – to serving his country and the Australian people</td>\n",
       "      <td>305</td>\n",
       "      <td>1.0</td>\n",
       "    </tr>\n",
       "    <tr>\n",
       "      <th>...</th>\n",
       "      <td>...</td>\n",
       "      <td>...</td>\n",
       "      <td>...</td>\n",
       "      <td>...</td>\n",
       "      <td>...</td>\n",
       "    </tr>\n",
       "    <tr>\n",
       "      <th>293813</th>\n",
       "      <td>and improved safety features and standards.</td>\n",
       "      <td>501</td>\n",
       "      <td>and improved safety features and standards.</td>\n",
       "      <td>501</td>\n",
       "      <td>1.0</td>\n",
       "    </tr>\n",
       "    <tr>\n",
       "      <th>278249</th>\n",
       "      <td>Securing residential care or Home Care Packages</td>\n",
       "      <td>607</td>\n",
       "      <td>Securing residential care or Home Care Packages</td>\n",
       "      <td>607</td>\n",
       "      <td>1.0</td>\n",
       "    </tr>\n",
       "    <tr>\n",
       "      <th>293814</th>\n",
       "      <td>and improved safety features and standards.</td>\n",
       "      <td>501</td>\n",
       "      <td>and improved safety features and standards.</td>\n",
       "      <td>501</td>\n",
       "      <td>1.0</td>\n",
       "    </tr>\n",
       "    <tr>\n",
       "      <th>261857</th>\n",
       "      <td>having completed Commonwealth environment approvals required to start the Adani Carmichael project, with conditions to ensure protection of the environment.</td>\n",
       "      <td>501</td>\n",
       "      <td>having completed Commonwealth environment approvals required to start the Adani Carmichael project, with conditions to ensure protection of the environment.</td>\n",
       "      <td>501</td>\n",
       "      <td>1.0</td>\n",
       "    </tr>\n",
       "    <tr>\n",
       "      <th>261404</th>\n",
       "      <td>Priority will be given to eligible applicants in the following cohorts:individuals who have exited from the Australian Defence Force (ADF) in the previous 2 years (the age criteria will not be applicable for ADF applicants)</td>\n",
       "      <td>503</td>\n",
       "      <td>Priority will be given to eligible applicants in the following cohorts:individuals who have exited from the Australian Defence Force (ADF) in the previous 2 years (the age criteria will not be applicable for ADF applicants)</td>\n",
       "      <td>503</td>\n",
       "      <td>1.0</td>\n",
       "    </tr>\n",
       "  </tbody>\n",
       "</table>\n",
       "<p>29248 rows × 5 columns</p>\n",
       "</div>"
      ],
      "text/plain": [
       "                                                                                                                                                                                                                           q_sentence_x  \\\n",
       "221733                                                                                                                                                                                      $80 million to build the North Lake Bridge.   \n",
       "185820                                                                                                                                   He has dedicated his life to public service – to serving his country and the Australian people   \n",
       "217705                                                            A Shorten Labor Government will renew investment in Australian multiculturalism, with $28.3 million of new funding to support social cohesion and economic inclusion.   \n",
       "322385                                                                                                                                                                                       •  $30.4 million  of P was seized in 2010.   \n",
       "185821                                                                                                                                   He has dedicated his life to public service – to serving his country and the Australian people   \n",
       "...                                                                                                                                                                                                                                 ...   \n",
       "293813                                                                                                                                                                                      and improved safety features and standards.   \n",
       "278249                                                                                                                                                                                  Securing residential care or Home Care Packages   \n",
       "293814                                                                                                                                                                                      and improved safety features and standards.   \n",
       "261857                                                                     having completed Commonwealth environment approvals required to start the Adani Carmichael project, with conditions to ensure protection of the environment.   \n",
       "261404  Priority will be given to eligible applicants in the following cohorts:individuals who have exited from the Australian Defence Force (ADF) in the previous 2 years (the age criteria will not be applicable for ADF applicants)   \n",
       "\n",
       "        main_codes_x  \\\n",
       "221733           411   \n",
       "185820           305   \n",
       "217705             0   \n",
       "322385           605   \n",
       "185821           305   \n",
       "...              ...   \n",
       "293813           501   \n",
       "278249           607   \n",
       "293814           501   \n",
       "261857           501   \n",
       "261404           503   \n",
       "\n",
       "                                                                                                                                                                                                                           q_sentence_y  \\\n",
       "221733                                                                                                                                                                                      $80 million to build the North Lake Bridge.   \n",
       "185820                                                                                                                                   He has dedicated his life to public service – to serving his country and the Australian people   \n",
       "217705                                                            A Shorten Labor Government will renew investment in Australian multiculturalism, with $28.3 million of new funding to support social cohesion and economic inclusion.   \n",
       "322385                                                                                                                                                                                      •  $30.4 million  of P  was seized in 2010.   \n",
       "185821                                                                                                                                   He has dedicated his life to public service – to serving his country and the Australian people   \n",
       "...                                                                                                                                                                                                                                 ...   \n",
       "293813                                                                                                                                                                                      and improved safety features and standards.   \n",
       "278249                                                                                                                                                                                  Securing residential care or Home Care Packages   \n",
       "293814                                                                                                                                                                                      and improved safety features and standards.   \n",
       "261857                                                                     having completed Commonwealth environment approvals required to start the Adani Carmichael project, with conditions to ensure protection of the environment.   \n",
       "261404  Priority will be given to eligible applicants in the following cohorts:individuals who have exited from the Australian Defence Force (ADF) in the previous 2 years (the age criteria will not be applicable for ADF applicants)   \n",
       "\n",
       "        main_codes_y  cosine_similarity  \n",
       "221733           411                1.0  \n",
       "185820           305                1.0  \n",
       "217705           607                1.0  \n",
       "322385           605                1.0  \n",
       "185821           305                1.0  \n",
       "...              ...                ...  \n",
       "293813           501                1.0  \n",
       "278249           607                1.0  \n",
       "293814           501                1.0  \n",
       "261857           501                1.0  \n",
       "261404           503                1.0  \n",
       "\n",
       "[29248 rows x 5 columns]"
      ]
     },
     "execution_count": 27,
     "metadata": {},
     "output_type": "execute_result"
    }
   ],
   "source": [
    "same_df[[\"q_sentence_x\", \"main_codes_x\", \"q_sentence_y\", \"main_codes_y\", \"cosine_similarity\"]].sort_values(by=\"cosine_similarity\", ascending=True)"
   ]
  },
  {
   "cell_type": "code",
   "execution_count": null,
   "metadata": {},
   "outputs": [],
   "source": []
  }
 ],
 "metadata": {
  "kernelspec": {
   "display_name": "Python 3",
   "language": "python",
   "name": "python3"
  },
  "language_info": {
   "codemirror_mode": {
    "name": "ipython",
    "version": 3
   },
   "file_extension": ".py",
   "mimetype": "text/x-python",
   "name": "python",
   "nbconvert_exporter": "python",
   "pygments_lexer": "ipython3",
   "version": "3.10.4"
  }
 },
 "nbformat": 4,
 "nbformat_minor": 2
}
