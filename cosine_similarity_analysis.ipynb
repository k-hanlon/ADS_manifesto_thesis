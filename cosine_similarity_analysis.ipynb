{
 "cells": [
  {
   "cell_type": "markdown",
   "metadata": {},
   "source": [
    "Prepare and analyze the cosine similarity results"
   ]
  },
  {
   "cell_type": "code",
   "execution_count": 376,
   "metadata": {},
   "outputs": [],
   "source": [
    "import numpy as np\n",
    "import pandas as pd\n",
    "from scipy.sparse import csr_matrix\n",
    "from scipy.sparse import coo_matrix\n",
    "from scipy.sparse import save_npz, load_npz\n",
    "import matplotlib.pyplot as plt"
   ]
  },
  {
   "cell_type": "code",
   "execution_count": 377,
   "metadata": {},
   "outputs": [],
   "source": [
    "# What to do with this? Generate examples for all!\n",
    "\n",
    "# Look at examples, what is our cos sim threshold?\n",
    "# Remove where both are -1? and both are 0?\n",
    "# Which codes appear most often?\n",
    "# Which codes appear most often when agreement?\n",
    "# Which codes appear most often in disagreement?\n",
    "# Look at sentences that are exactly the same: how often is there disagreement?\n",
    "# What changes if we limit to combinations by different coders/from different documents?\n",
    "# in 0/-1 codes: how often do coders agree, that there is no meaning in this?"
   ]
  },
  {
   "cell_type": "code",
   "execution_count": 378,
   "metadata": {},
   "outputs": [],
   "source": [
    "# load the sparse matrix with the extreme similarity values:\n",
    "cs_sparse = load_npz('data/cos_sim_output_08_mpnet.npz')\n",
    "\n",
    "# also load the full corpus df, so that we can add create a df with q_sentences, information and their similarity score for extreme values\n",
    "corpus_df_full = pd.read_csv(\"data/english_annotated_full_df.csv\")"
   ]
  },
  {
   "cell_type": "code",
   "execution_count": 379,
   "metadata": {},
   "outputs": [
    {
     "data": {
      "text/plain": [
       "<202187x202187 sparse matrix of type '<class 'numpy.float32'>'\n",
       "\twith 379546 stored elements in Compressed Sparse Row format>"
      ]
     },
     "execution_count": 379,
     "metadata": {},
     "output_type": "execute_result"
    }
   ],
   "source": [
    "cs_sparse"
   ]
  },
  {
   "cell_type": "code",
   "execution_count": 380,
   "metadata": {},
   "outputs": [],
   "source": [
    "# convert the sparse matrix into a useful df:\n",
    "cs_sparse = coo_matrix(cs_sparse)\n",
    "data = {\n",
    "    'index_x': cs_sparse.row,\n",
    "    'index_y': cs_sparse.col,\n",
    "    'cosine_similarity': cs_sparse.data\n",
    "}\n",
    "cosine_sim_df = pd.DataFrame(data)"
   ]
  },
  {
   "cell_type": "code",
   "execution_count": 381,
   "metadata": {},
   "outputs": [
    {
     "data": {
      "text/html": [
       "<div>\n",
       "<style scoped>\n",
       "    .dataframe tbody tr th:only-of-type {\n",
       "        vertical-align: middle;\n",
       "    }\n",
       "\n",
       "    .dataframe tbody tr th {\n",
       "        vertical-align: top;\n",
       "    }\n",
       "\n",
       "    .dataframe thead th {\n",
       "        text-align: right;\n",
       "    }\n",
       "</style>\n",
       "<table border=\"1\" class=\"dataframe\">\n",
       "  <thead>\n",
       "    <tr style=\"text-align: right;\">\n",
       "      <th></th>\n",
       "      <th>index_x</th>\n",
       "      <th>index_y</th>\n",
       "      <th>cosine_similarity</th>\n",
       "    </tr>\n",
       "  </thead>\n",
       "  <tbody>\n",
       "    <tr>\n",
       "      <th>0</th>\n",
       "      <td>7</td>\n",
       "      <td>9</td>\n",
       "      <td>0.851987</td>\n",
       "    </tr>\n",
       "    <tr>\n",
       "      <th>1</th>\n",
       "      <td>7</td>\n",
       "      <td>119</td>\n",
       "      <td>0.903366</td>\n",
       "    </tr>\n",
       "  </tbody>\n",
       "</table>\n",
       "</div>"
      ],
      "text/plain": [
       "   index_x  index_y  cosine_similarity\n",
       "0        7        9           0.851987\n",
       "1        7      119           0.903366"
      ]
     },
     "execution_count": 381,
     "metadata": {},
     "output_type": "execute_result"
    }
   ],
   "source": [
    "cosine_sim_df.head(2)"
   ]
  },
  {
   "cell_type": "code",
   "execution_count": 382,
   "metadata": {},
   "outputs": [
    {
     "data": {
      "text/plain": [
       "(379546, 3)"
      ]
     },
     "execution_count": 382,
     "metadata": {},
     "output_type": "execute_result"
    }
   ],
   "source": [
    "cosine_sim_df.shape"
   ]
  },
  {
   "cell_type": "code",
   "execution_count": 383,
   "metadata": {},
   "outputs": [],
   "source": [
    "corpus_df = corpus_df_full[['q_sentence', 'main_codes', 'coderid', 'manifesto_id', 'party', 'date',\n",
    "        'title', 'countryname', 'partyname', 'RILE']]"
   ]
  },
  {
   "cell_type": "code",
   "execution_count": 384,
   "metadata": {},
   "outputs": [],
   "source": [
    "# append the columns from the corpus_df, so that we get the info for both quasi sentences\n",
    "cosine_sim_df = pd.merge(cosine_sim_df, corpus_df, left_on='index_x', right_index=True, how='left')\n",
    "cosine_sim_df = pd.merge(cosine_sim_df, corpus_df, left_on='index_y', right_index=True, how='left')"
   ]
  },
  {
   "cell_type": "code",
   "execution_count": 385,
   "metadata": {},
   "outputs": [
    {
     "data": {
      "text/html": [
       "<div>\n",
       "<style scoped>\n",
       "    .dataframe tbody tr th:only-of-type {\n",
       "        vertical-align: middle;\n",
       "    }\n",
       "\n",
       "    .dataframe tbody tr th {\n",
       "        vertical-align: top;\n",
       "    }\n",
       "\n",
       "    .dataframe thead th {\n",
       "        text-align: right;\n",
       "    }\n",
       "</style>\n",
       "<table border=\"1\" class=\"dataframe\">\n",
       "  <thead>\n",
       "    <tr style=\"text-align: right;\">\n",
       "      <th></th>\n",
       "      <th>index_x</th>\n",
       "      <th>index_y</th>\n",
       "      <th>cosine_similarity</th>\n",
       "      <th>q_sentence_x</th>\n",
       "      <th>main_codes_x</th>\n",
       "      <th>coderid_x</th>\n",
       "      <th>manifesto_id_x</th>\n",
       "      <th>party_x</th>\n",
       "      <th>date_x</th>\n",
       "      <th>title_x</th>\n",
       "      <th>...</th>\n",
       "      <th>q_sentence_y</th>\n",
       "      <th>main_codes_y</th>\n",
       "      <th>coderid_y</th>\n",
       "      <th>manifesto_id_y</th>\n",
       "      <th>party_y</th>\n",
       "      <th>date_y</th>\n",
       "      <th>title_y</th>\n",
       "      <th>countryname_y</th>\n",
       "      <th>partyname_y</th>\n",
       "      <th>RILE_y</th>\n",
       "    </tr>\n",
       "  </thead>\n",
       "  <tbody>\n",
       "    <tr>\n",
       "      <th>0</th>\n",
       "      <td>7</td>\n",
       "      <td>9</td>\n",
       "      <td>0.851987</td>\n",
       "      <td>Our first priority is to:</td>\n",
       "      <td>-1</td>\n",
       "      <td>102</td>\n",
       "      <td>51421_199705</td>\n",
       "      <td>51421</td>\n",
       "      <td>199705</td>\n",
       "      <td>Make the Difference</td>\n",
       "      <td>...</td>\n",
       "      <td>Key priorities are to:</td>\n",
       "      <td>-1</td>\n",
       "      <td>102</td>\n",
       "      <td>51421_199705</td>\n",
       "      <td>51421</td>\n",
       "      <td>199705</td>\n",
       "      <td>Make the Difference</td>\n",
       "      <td>United Kingdom</td>\n",
       "      <td>Liberal Democrats</td>\n",
       "      <td>0</td>\n",
       "    </tr>\n",
       "    <tr>\n",
       "      <th>1</th>\n",
       "      <td>7</td>\n",
       "      <td>119</td>\n",
       "      <td>0.903366</td>\n",
       "      <td>Our first priority is to:</td>\n",
       "      <td>-1</td>\n",
       "      <td>102</td>\n",
       "      <td>51421_199705</td>\n",
       "      <td>51421</td>\n",
       "      <td>199705</td>\n",
       "      <td>Make the Difference</td>\n",
       "      <td>...</td>\n",
       "      <td>Our priorities are to:</td>\n",
       "      <td>-1</td>\n",
       "      <td>102</td>\n",
       "      <td>51421_199705</td>\n",
       "      <td>51421</td>\n",
       "      <td>199705</td>\n",
       "      <td>Make the Difference</td>\n",
       "      <td>United Kingdom</td>\n",
       "      <td>Liberal Democrats</td>\n",
       "      <td>0</td>\n",
       "    </tr>\n",
       "    <tr>\n",
       "      <th>2</th>\n",
       "      <td>7</td>\n",
       "      <td>215</td>\n",
       "      <td>0.903366</td>\n",
       "      <td>Our first priority is to:</td>\n",
       "      <td>-1</td>\n",
       "      <td>102</td>\n",
       "      <td>51421_199705</td>\n",
       "      <td>51421</td>\n",
       "      <td>199705</td>\n",
       "      <td>Make the Difference</td>\n",
       "      <td>...</td>\n",
       "      <td>Our priorities are to:</td>\n",
       "      <td>-1</td>\n",
       "      <td>102</td>\n",
       "      <td>51421_199705</td>\n",
       "      <td>51421</td>\n",
       "      <td>199705</td>\n",
       "      <td>Make the Difference</td>\n",
       "      <td>United Kingdom</td>\n",
       "      <td>Liberal Democrats</td>\n",
       "      <td>0</td>\n",
       "    </tr>\n",
       "  </tbody>\n",
       "</table>\n",
       "<p>3 rows × 23 columns</p>\n",
       "</div>"
      ],
      "text/plain": [
       "   index_x  index_y  cosine_similarity               q_sentence_x  \\\n",
       "0        7        9           0.851987  Our first priority is to:   \n",
       "1        7      119           0.903366  Our first priority is to:   \n",
       "2        7      215           0.903366  Our first priority is to:   \n",
       "\n",
       "   main_codes_x  coderid_x manifesto_id_x  party_x  date_x  \\\n",
       "0            -1        102   51421_199705    51421  199705   \n",
       "1            -1        102   51421_199705    51421  199705   \n",
       "2            -1        102   51421_199705    51421  199705   \n",
       "\n",
       "               title_x  ...            q_sentence_y main_codes_y  coderid_y  \\\n",
       "0  Make the Difference  ...  Key priorities are to:           -1        102   \n",
       "1  Make the Difference  ...  Our priorities are to:           -1        102   \n",
       "2  Make the Difference  ...  Our priorities are to:           -1        102   \n",
       "\n",
       "  manifesto_id_y  party_y  date_y              title_y   countryname_y  \\\n",
       "0   51421_199705    51421  199705  Make the Difference  United Kingdom   \n",
       "1   51421_199705    51421  199705  Make the Difference  United Kingdom   \n",
       "2   51421_199705    51421  199705  Make the Difference  United Kingdom   \n",
       "\n",
       "         partyname_y RILE_y  \n",
       "0  Liberal Democrats      0  \n",
       "1  Liberal Democrats      0  \n",
       "2  Liberal Democrats      0  \n",
       "\n",
       "[3 rows x 23 columns]"
      ]
     },
     "execution_count": 385,
     "metadata": {},
     "output_type": "execute_result"
    }
   ],
   "source": [
    "cosine_sim_df.head(3)"
   ]
  },
  {
   "cell_type": "code",
   "execution_count": 386,
   "metadata": {},
   "outputs": [
    {
     "data": {
      "text/plain": [
       "(0, 23)"
      ]
     },
     "execution_count": 386,
     "metadata": {},
     "output_type": "execute_result"
    }
   ],
   "source": [
    "# How many values do we have that are below -0.8?\n",
    "cosine_sim_df[cosine_sim_df[\"cosine_similarity\"] < 0].shape\n",
    "# --> none of them!"
   ]
  },
  {
   "cell_type": "code",
   "execution_count": 387,
   "metadata": {},
   "outputs": [
    {
     "data": {
      "text/plain": [
       "(379546, 23)"
      ]
     },
     "execution_count": 387,
     "metadata": {},
     "output_type": "execute_result"
    }
   ],
   "source": [
    "cosine_sim_df.shape"
   ]
  },
  {
   "cell_type": "code",
   "execution_count": 396,
   "metadata": {},
   "outputs": [
    {
     "name": "stdout",
     "output_type": "stream",
     "text": [
      "0.09033440319222762\n"
     ]
    }
   ],
   "source": [
    "# How often do coders agree that similar sentences have no content/useful meaning? So how often do both give 0 or -1? How often does only one give 0 or -1?\n",
    "\n",
    "# How often does either -1 or 0 appear in one or both of the codes:\n",
    "count_a = cosine_sim_df[(((cosine_sim_df['main_codes_x'] == -1) | (cosine_sim_df['main_codes_x'] == 0)) | (\n",
    "    (cosine_sim_df['main_codes_y'] == -1) | (cosine_sim_df['main_codes_y'] == 0)))].shape[0]\n",
    "\n",
    "# How often do both codes have either -1 or 0:\n",
    "count_b = cosine_sim_df[(((cosine_sim_df['main_codes_x'] == -1) | (cosine_sim_df['main_codes_x'] == 0)) & (\n",
    "    (cosine_sim_df['main_codes_y'] == -1) | (cosine_sim_df['main_codes_y'] == 0)))].shape[0]\n",
    "\n",
    "# How often does only one code have either -1 or 0:\n",
    "count_c = cosine_sim_df[(((cosine_sim_df['main_codes_x'] == -1) | (cosine_sim_df['main_codes_x'] == 0)) ^ (\n",
    "    (cosine_sim_df['main_codes_y'] == -1) | (cosine_sim_df['main_codes_y'] == 0)))].shape[0]\n",
    "\n",
    "# So, how often do coders disagree on these?\n",
    "print(count_c/count_a)"
   ]
  },
  {
   "cell_type": "markdown",
   "metadata": {},
   "source": [
    "--> In about 91% of the time, coders agree if there is no meaning in a q_sentence. 9% of the time, one of them sees a meaning!"
   ]
  },
  {
   "cell_type": "code",
   "execution_count": 369,
   "metadata": {},
   "outputs": [
    {
     "data": {
      "text/plain": [
       "(127867, 23)"
      ]
     },
     "execution_count": 369,
     "metadata": {},
     "output_type": "execute_result"
    }
   ],
   "source": [
    "# Remove all rows where both codes are -1; here the coders agree that it is not a topic that needs to be coded, likely just formating etc.\n",
    "#cosine_sim_df = cosine_sim_df[(cosine_sim_df['main_codes_x'] != -1) | (cosine_sim_df['main_codes_y'] != -1)]\n",
    "# same thing for both codes 0\n",
    "#cosine_sim_df = cosine_sim_df[(cosine_sim_df['main_codes_x'] != 0) | (cosine_sim_df['main_codes_y'] != 0)]\n",
    "\n",
    "\n",
    "# and now also where one is -1 and one is 0: the coders agree, there is no meaning in this\n",
    "\n",
    "# This does it all in one: removes all rows where both codes are either 0 or -1:\n",
    "cosine_sim_df = cosine_sim_df[~(((cosine_sim_df['main_codes_x'] == -1) | (cosine_sim_df['main_codes_x'] == 0)) & (\n",
    "    (cosine_sim_df['main_codes_y'] == -1) | (cosine_sim_df['main_codes_y'] == 0)))]\n",
    "\n",
    "\n",
    "cosine_sim_df.shape"
   ]
  },
  {
   "cell_type": "markdown",
   "metadata": {},
   "source": [
    "Looking at the lowest cosine similarities. Are they good enough?"
   ]
  },
  {
   "cell_type": "code",
   "execution_count": 215,
   "metadata": {},
   "outputs": [],
   "source": [
    "# Set display options to show full contents of each column\n",
    "pd.set_option('display.max_colwidth', None)\n",
    "# reverse with:\n",
    "# pd.reset_option('display.max_colwidth')"
   ]
  },
  {
   "cell_type": "code",
   "execution_count": 216,
   "metadata": {},
   "outputs": [
    {
     "data": {
      "text/html": [
       "<div>\n",
       "<style scoped>\n",
       "    .dataframe tbody tr th:only-of-type {\n",
       "        vertical-align: middle;\n",
       "    }\n",
       "\n",
       "    .dataframe tbody tr th {\n",
       "        vertical-align: top;\n",
       "    }\n",
       "\n",
       "    .dataframe thead th {\n",
       "        text-align: right;\n",
       "    }\n",
       "</style>\n",
       "<table border=\"1\" class=\"dataframe\">\n",
       "  <thead>\n",
       "    <tr style=\"text-align: right;\">\n",
       "      <th></th>\n",
       "      <th>q_sentence_x</th>\n",
       "      <th>main_codes_x</th>\n",
       "      <th>q_sentence_y</th>\n",
       "      <th>main_codes_y</th>\n",
       "      <th>cosine_similarity</th>\n",
       "    </tr>\n",
       "  </thead>\n",
       "  <tbody>\n",
       "    <tr>\n",
       "      <th>19423</th>\n",
       "      <td>Give higher priority to the physical healthcare of those with mental health problems.</td>\n",
       "      <td>504</td>\n",
       "      <td>Prioritising mental healthcare</td>\n",
       "      <td>0</td>\n",
       "      <td>0.800000</td>\n",
       "    </tr>\n",
       "    <tr>\n",
       "      <th>233298</th>\n",
       "      <td>and generate more local investment.</td>\n",
       "      <td>411</td>\n",
       "      <td>and stimulate their local economy.</td>\n",
       "      <td>409</td>\n",
       "      <td>0.800000</td>\n",
       "    </tr>\n",
       "    <tr>\n",
       "      <th>19646</th>\n",
       "      <td>End exploitative zero-hours contracts.</td>\n",
       "      <td>701</td>\n",
       "      <td>banning exploitative zero-hours contracts</td>\n",
       "      <td>412</td>\n",
       "      <td>0.800002</td>\n",
       "    </tr>\n",
       "    <tr>\n",
       "      <th>248096</th>\n",
       "      <td>Reducing unnecessary regulation.</td>\n",
       "      <td>703</td>\n",
       "      <td>Cut red tape and improved regulations</td>\n",
       "      <td>-1</td>\n",
       "      <td>0.800003</td>\n",
       "    </tr>\n",
       "    <tr>\n",
       "      <th>172041</th>\n",
       "      <td>every Australian has the right to access good quality health care, housing and income support.</td>\n",
       "      <td>503</td>\n",
       "      <td>Reasonable access to quality, affordable health care and education for all Australians, regardless of their location and personal circumstances.</td>\n",
       "      <td>504</td>\n",
       "      <td>0.800003</td>\n",
       "    </tr>\n",
       "    <tr>\n",
       "      <th>17946</th>\n",
       "      <td>An Independent Scotland will</td>\n",
       "      <td>301</td>\n",
       "      <td>In an independent Scotland: we will always get the governments people vote for,</td>\n",
       "      <td>202</td>\n",
       "      <td>0.800004</td>\n",
       "    </tr>\n",
       "    <tr>\n",
       "      <th>87466</th>\n",
       "      <td>We must offer people with disabilities choice and control</td>\n",
       "      <td>705</td>\n",
       "      <td>We believe that disabled people should be supported and encouraged to follow their aspirations, make their own choices, and to lead a quality life.</td>\n",
       "      <td>201</td>\n",
       "      <td>0.800005</td>\n",
       "    </tr>\n",
       "    <tr>\n",
       "      <th>143134</th>\n",
       "      <td>and the opening of global markets for American business and exports to thrive.</td>\n",
       "      <td>401</td>\n",
       "      <td>and open new markets for American goods and services in a competitive global economy.</td>\n",
       "      <td>410</td>\n",
       "      <td>0.800005</td>\n",
       "    </tr>\n",
       "    <tr>\n",
       "      <th>142021</th>\n",
       "      <td>and open new markets for American goods and services in a competitive global economy.</td>\n",
       "      <td>410</td>\n",
       "      <td>and the opening of global markets for American business and exports to thrive.</td>\n",
       "      <td>401</td>\n",
       "      <td>0.800005</td>\n",
       "    </tr>\n",
       "    <tr>\n",
       "      <th>21162</th>\n",
       "      <td>In particular, tackling climate change is an economic necessity and the most important thing we must do for our children, our grandchildren and future generations.</td>\n",
       "      <td>501</td>\n",
       "      <td>We have a duty to future generations to protect our environment and tackle climate change.</td>\n",
       "      <td>501</td>\n",
       "      <td>0.800005</td>\n",
       "    </tr>\n",
       "    <tr>\n",
       "      <th>87618</th>\n",
       "      <td>Family Friendly policy</td>\n",
       "      <td>-1</td>\n",
       "      <td>We will promote family-friendly policies</td>\n",
       "      <td>503</td>\n",
       "      <td>0.800007</td>\n",
       "    </tr>\n",
       "    <tr>\n",
       "      <th>86816</th>\n",
       "      <td>Family Friendly Policy</td>\n",
       "      <td>-1</td>\n",
       "      <td>We will promote family-friendly policies</td>\n",
       "      <td>503</td>\n",
       "      <td>0.800007</td>\n",
       "    </tr>\n",
       "    <tr>\n",
       "      <th>17214</th>\n",
       "      <td>We are committed to encouraging universal observance of human rights.</td>\n",
       "      <td>107</td>\n",
       "      <td>Through our participation in international insititutions, we  will work towards the international  recognition of the universality and indivisibilty of human rights.</td>\n",
       "      <td>201</td>\n",
       "      <td>0.800007</td>\n",
       "    </tr>\n",
       "    <tr>\n",
       "      <th>45714</th>\n",
       "      <td>and end automatic halfway release from prison for serious crimes.</td>\n",
       "      <td>605</td>\n",
       "      <td>and increase the maximum sentence for repeat offenders.</td>\n",
       "      <td>605</td>\n",
       "      <td>0.800008</td>\n",
       "    </tr>\n",
       "    <tr>\n",
       "      <th>104268</th>\n",
       "      <td>The Labour Party recognises that the Irish language is an important part of our national and cultural identity.</td>\n",
       "      <td>607</td>\n",
       "      <td>The Labour party recognises the important place the Gaeltachtaí have in our country.</td>\n",
       "      <td>607</td>\n",
       "      <td>0.800010</td>\n",
       "    </tr>\n",
       "    <tr>\n",
       "      <th>299361</th>\n",
       "      <td>Upgrading skills in the New Zealand workforce needs to begin urgently,</td>\n",
       "      <td>411</td>\n",
       "      <td>• A rapid expansion of the Skill New Zealand programme to extend systematic training across all industries.</td>\n",
       "      <td>411</td>\n",
       "      <td>0.800011</td>\n",
       "    </tr>\n",
       "    <tr>\n",
       "      <th>92312</th>\n",
       "      <td>and protect employment through building new skills.</td>\n",
       "      <td>408</td>\n",
       "      <td>and providing skills training for workers who have been laid off or who want to transition to more stable, long-term jobs.</td>\n",
       "      <td>411</td>\n",
       "      <td>0.800011</td>\n",
       "    </tr>\n",
       "    <tr>\n",
       "      <th>82204</th>\n",
       "      <td>Children’s Rights Referendum</td>\n",
       "      <td>-1</td>\n",
       "      <td>Labour will ensure that a children’s rights referendum is urgently progressed</td>\n",
       "      <td>204</td>\n",
       "      <td>0.800011</td>\n",
       "    </tr>\n",
       "    <tr>\n",
       "      <th>159029</th>\n",
       "      <td>working with the provinces and territories, Indigenous communities and other stakeholders.</td>\n",
       "      <td>301</td>\n",
       "      <td>Partnering with the provinces and territories,</td>\n",
       "      <td>301</td>\n",
       "      <td>0.800011</td>\n",
       "    </tr>\n",
       "    <tr>\n",
       "      <th>207081</th>\n",
       "      <td>A Shorten Labor Government will match the Queensland Labor Government’s $200 million commitment to the first stage of upgrading the Ipswich Motorway between Rocklea and Darra to tackle traffic congestion on Brisbane’s southside.</td>\n",
       "      <td>411</td>\n",
       "      <td>Labor will commit $200 million to the first stage of upgrading the Ipswich Motorway between Rocklea and Darra, tackling traffic congestion on Brisbane’s southside.</td>\n",
       "      <td>411</td>\n",
       "      <td>0.800013</td>\n",
       "    </tr>\n",
       "  </tbody>\n",
       "</table>\n",
       "</div>"
      ],
      "text/plain": [
       "                                                                                                                                                                                                                                q_sentence_x  \\\n",
       "19423                                                                                                                                                  Give higher priority to the physical healthcare of those with mental health problems.   \n",
       "233298                                                                                                                                                                                                   and generate more local investment.   \n",
       "19646                                                                                                                                                                                                 End exploitative zero-hours contracts.   \n",
       "248096                                                                                                                                                                                                      Reducing unnecessary regulation.   \n",
       "172041                                                                                                                                        every Australian has the right to access good quality health care, housing and income support.   \n",
       "17946                                                                                                                                                                                                           An Independent Scotland will   \n",
       "87466                                                                                                                                                                              We must offer people with disabilities choice and control   \n",
       "143134                                                                                                                                                        and the opening of global markets for American business and exports to thrive.   \n",
       "142021                                                                                                                                                 and open new markets for American goods and services in a competitive global economy.   \n",
       "21162                                                                    In particular, tackling climate change is an economic necessity and the most important thing we must do for our children, our grandchildren and future generations.   \n",
       "87618                                                                                                                                                                                                                 Family Friendly policy   \n",
       "86816                                                                                                                                                                                                                 Family Friendly Policy   \n",
       "17214                                                                                                                                                                  We are committed to encouraging universal observance of human rights.   \n",
       "45714                                                                                                                                                                      and end automatic halfway release from prison for serious crimes.   \n",
       "104268                                                                                                                       The Labour Party recognises that the Irish language is an important part of our national and cultural identity.   \n",
       "299361                                                                                                                                                                Upgrading skills in the New Zealand workforce needs to begin urgently,   \n",
       "92312                                                                                                                                                                                    and protect employment through building new skills.   \n",
       "82204                                                                                                                                                                                                           Children’s Rights Referendum   \n",
       "159029                                                                                                                                            working with the provinces and territories, Indigenous communities and other stakeholders.   \n",
       "207081  A Shorten Labor Government will match the Queensland Labor Government’s $200 million commitment to the first stage of upgrading the Ipswich Motorway between Rocklea and Darra to tackle traffic congestion on Brisbane’s southside.   \n",
       "\n",
       "        main_codes_x  \\\n",
       "19423            504   \n",
       "233298           411   \n",
       "19646            701   \n",
       "248096           703   \n",
       "172041           503   \n",
       "17946            301   \n",
       "87466            705   \n",
       "143134           401   \n",
       "142021           410   \n",
       "21162            501   \n",
       "87618             -1   \n",
       "86816             -1   \n",
       "17214            107   \n",
       "45714            605   \n",
       "104268           607   \n",
       "299361           411   \n",
       "92312            408   \n",
       "82204             -1   \n",
       "159029           301   \n",
       "207081           411   \n",
       "\n",
       "                                                                                                                                                                 q_sentence_y  \\\n",
       "19423                                                                                                                                          Prioritising mental healthcare   \n",
       "233298                                                                                                                                     and stimulate their local economy.   \n",
       "19646                                                                                                                               banning exploitative zero-hours contracts   \n",
       "248096                                                                                                                                  Cut red tape and improved regulations   \n",
       "172041                       Reasonable access to quality, affordable health care and education for all Australians, regardless of their location and personal circumstances.   \n",
       "17946                                                                                         In an independent Scotland: we will always get the governments people vote for,   \n",
       "87466                     We believe that disabled people should be supported and encouraged to follow their aspirations, make their own choices, and to lead a quality life.   \n",
       "143134                                                                                  and open new markets for American goods and services in a competitive global economy.   \n",
       "142021                                                                                         and the opening of global markets for American business and exports to thrive.   \n",
       "21162                                                                              We have a duty to future generations to protect our environment and tackle climate change.   \n",
       "87618                                                                                                                                We will promote family-friendly policies   \n",
       "86816                                                                                                                                We will promote family-friendly policies   \n",
       "17214   Through our participation in international insititutions, we  will work towards the international  recognition of the universality and indivisibilty of human rights.   \n",
       "45714                                                                                                                 and increase the maximum sentence for repeat offenders.   \n",
       "104268                                                                                   The Labour party recognises the important place the Gaeltachtaí have in our country.   \n",
       "299361                                                            • A rapid expansion of the Skill New Zealand programme to extend systematic training across all industries.   \n",
       "92312                                              and providing skills training for workers who have been laid off or who want to transition to more stable, long-term jobs.   \n",
       "82204                                                                                           Labour will ensure that a children’s rights referendum is urgently progressed   \n",
       "159029                                                                                                                         Partnering with the provinces and territories,   \n",
       "207081    Labor will commit $200 million to the first stage of upgrading the Ipswich Motorway between Rocklea and Darra, tackling traffic congestion on Brisbane’s southside.   \n",
       "\n",
       "        main_codes_y  cosine_similarity  \n",
       "19423              0           0.800000  \n",
       "233298           409           0.800000  \n",
       "19646            412           0.800002  \n",
       "248096            -1           0.800003  \n",
       "172041           504           0.800003  \n",
       "17946            202           0.800004  \n",
       "87466            201           0.800005  \n",
       "143134           410           0.800005  \n",
       "142021           401           0.800005  \n",
       "21162            501           0.800005  \n",
       "87618            503           0.800007  \n",
       "86816            503           0.800007  \n",
       "17214            201           0.800007  \n",
       "45714            605           0.800008  \n",
       "104268           607           0.800010  \n",
       "299361           411           0.800011  \n",
       "92312            411           0.800011  \n",
       "82204            204           0.800011  \n",
       "159029           301           0.800011  \n",
       "207081           411           0.800013  "
      ]
     },
     "execution_count": 216,
     "metadata": {},
     "output_type": "execute_result"
    }
   ],
   "source": [
    "cosine_sim_df.sort_values(by=\"cosine_similarity\",\n",
    "                          ascending=True)[[\"q_sentence_x\", \"main_codes_x\", \"q_sentence_y\", \"main_codes_y\", \"cosine_similarity\"]].head(20)"
   ]
  },
  {
   "cell_type": "markdown",
   "metadata": {},
   "source": [
    "How often do coders disagree on these similar sentences?"
   ]
  },
  {
   "cell_type": "code",
   "execution_count": 217,
   "metadata": {},
   "outputs": [],
   "source": [
    "# add a column that indicates if coders agreed\n",
    "cosine_sim_df[\"in_agreement\"] = cosine_sim_df['main_codes_x'] == cosine_sim_df['main_codes_y']"
   ]
  },
  {
   "cell_type": "code",
   "execution_count": 218,
   "metadata": {},
   "outputs": [
    {
     "data": {
      "text/plain": [
       "0.561893053942524"
      ]
     },
     "execution_count": 218,
     "metadata": {},
     "output_type": "execute_result"
    }
   ],
   "source": [
    "# How often are codes not equal?\n",
    "1 - sum(cosine_sim_df[\"in_agreement\"])/cosine_sim_df.shape[0]"
   ]
  },
  {
   "cell_type": "code",
   "execution_count": 219,
   "metadata": {},
   "outputs": [
    {
     "name": "stderr",
     "output_type": "stream",
     "text": [
      "C:\\Users\\Konstantin\\AppData\\Local\\Temp\\ipykernel_12992\\765672073.py:10: FutureWarning: The default of observed=False is deprecated and will be changed to True in a future version of pandas. Pass observed=False to retain current behavior or observed=True to adopt the future default and silence this warning.\n",
      "  bin_percentages = plot_df.groupby('Bin')['in_agreement'].mean() * 100\n",
      "C:\\Users\\Konstantin\\AppData\\Local\\Temp\\ipykernel_12992\\765672073.py:26: UserWarning: FixedFormatter should only be used together with FixedLocator\n",
      "  plt.gca().set_yticklabels(['{:.0f}%'.format(x) for x in plt.gca().get_yticks()])\n"
     ]
    },
    {
     "data": {
      "image/png": "[encoded data removed]",
      "text/plain": [
       "<Figure size 640x480 with 1 Axes>"
      ]
     },
     "metadata": {},
     "output_type": "display_data"
    }
   ],
   "source": [
    "# Define the bins for column A\n",
    "plot_df = cosine_sim_df.copy()\n",
    "\n",
    "bins = [0.8, 0.825, 0.85, 0.875, 0.9, 0.925, 0.95, 0.975, 1.0]\n",
    "\n",
    "# Create a new column 'Bin' which indicates the bin that each value in column A falls into\n",
    "plot_df['Bin'] = pd.cut(plot_df['cosine_similarity'], bins)\n",
    "\n",
    "# Calculate the percentage of True values in each bin\n",
    "bin_percentages = plot_df.groupby('Bin')['in_agreement'].mean() * 100\n",
    "\n",
    "# Create a bar plot\n",
    "bars = plt.bar(bin_percentages.index.astype(str), bin_percentages, color='skyblue', edgecolor='black')\n",
    "\n",
    "# Add percentage labels above the bars\n",
    "for bar, percentage in zip(bars, bin_percentages):\n",
    "    plt.text(bar.get_x() + bar.get_width() / 2, bar.get_height(), f'{percentage:.1f}%', \n",
    "             ha='center', va='bottom', fontsize=10)\n",
    "\n",
    "# Add labels and title\n",
    "plt.xlabel('Cosine Similarity')\n",
    "plt.ylabel('Percentage of codes in agreement')\n",
    "plt.title('How often do coders agree on the same codes?')\n",
    "plt.xticks(rotation=45, ha='right')  # Rotate x-axis labels for better visibility\n",
    "# Add '%' sign to the y-axis labels\n",
    "plt.gca().set_yticklabels(['{:.0f}%'.format(x) for x in plt.gca().get_yticks()])\n",
    "\n",
    "plt.show()"
   ]
  },
  {
   "cell_type": "code",
   "execution_count": 220,
   "metadata": {},
   "outputs": [],
   "source": [
    "plot_df = cosine_sim_df.copy()\n",
    "plot_df = plot_df[cosine_sim_df[\"manifesto_id_x\"] != cosine_sim_df[\"manifesto_id_y\"]]"
   ]
  },
  {
   "cell_type": "code",
   "execution_count": 221,
   "metadata": {},
   "outputs": [
    {
     "name": "stdout",
     "output_type": "stream",
     "text": [
      "(126190, 24)\n"
     ]
    },
    {
     "name": "stderr",
     "output_type": "stream",
     "text": [
      "C:\\Users\\Konstantin\\AppData\\Local\\Temp\\ipykernel_12992\\2374201835.py:16: FutureWarning: The default of observed=False is deprecated and will be changed to True in a future version of pandas. Pass observed=False to retain current behavior or observed=True to adopt the future default and silence this warning.\n",
      "  bin_percentages = plot_df.groupby('Bin')['in_agreement'].mean() * 100\n",
      "C:\\Users\\Konstantin\\AppData\\Local\\Temp\\ipykernel_12992\\2374201835.py:32: UserWarning: FixedFormatter should only be used together with FixedLocator\n",
      "  plt.gca().set_yticklabels(['{:.0f}%'.format(x) for x in plt.gca().get_yticks()])\n"
     ]
    },
    {
     "data": {
      "image/png": "[encoded data removed]",
      "text/plain": [
       "<Figure size 640x480 with 1 Axes>"
      ]
     },
     "metadata": {},
     "output_type": "display_data"
    }
   ],
   "source": [
    "# How does this change if we only take combinations of different documents?\n",
    "# (So coders dont just pick the same code for the sentence they see again and again?)\n",
    "\n",
    "# Define the bins for column A\n",
    "plot_df = cosine_sim_df.copy()\n",
    "# remove combinations from the same document:\n",
    "plot_df = plot_df[cosine_sim_df[\"manifesto_id_x\"] != cosine_sim_df[\"manifesto_id_y\"]]\n",
    "print(plot_df.shape)\n",
    "\n",
    "bins = [0.8, 0.825, 0.85, 0.875, 0.9, 0.925, 0.95, 0.975, 1.0]\n",
    "\n",
    "# Create a new column 'Bin' which indicates the bin that each value in column A falls into\n",
    "plot_df['Bin'] = pd.cut(plot_df['cosine_similarity'], bins)\n",
    "\n",
    "# Calculate the percentage of True values in each bin\n",
    "bin_percentages = plot_df.groupby('Bin')['in_agreement'].mean() * 100\n",
    "\n",
    "# Create a bar plot\n",
    "bars = plt.bar(bin_percentages.index.astype(str), bin_percentages, color='skyblue', edgecolor='black')\n",
    "\n",
    "# Add percentage labels above the bars\n",
    "for bar, percentage in zip(bars, bin_percentages):\n",
    "    plt.text(bar.get_x() + bar.get_width() / 2, bar.get_height(), f'{percentage:.1f}%', \n",
    "             ha='center', va='bottom', fontsize=10)\n",
    "\n",
    "# Add labels and title\n",
    "plt.xlabel('Cosine Similarity')\n",
    "plt.ylabel('Percentage of codes in agreement')\n",
    "plt.title('How often do coders agree on the same codes?\\nOnly looking at combinations from different manifestos')\n",
    "plt.xticks(rotation=45, ha='right')  # Rotate x-axis labels for better visibility\n",
    "# Add '%' sign to the y-axis labels\n",
    "plt.gca().set_yticklabels(['{:.0f}%'.format(x) for x in plt.gca().get_yticks()])\n",
    "\n",
    "plt.show()"
   ]
  },
  {
   "cell_type": "markdown",
   "metadata": {},
   "source": [
    "Which codes appear most often? Which most often in agreement? Which most often when not in agreement?"
   ]
  },
  {
   "cell_type": "code",
   "execution_count": 231,
   "metadata": {},
   "outputs": [],
   "source": [
    "codes = np.union1d(cosine_sim_df[\"main_codes_x\"].unique(), cosine_sim_df[\"main_codes_y\"].unique())"
   ]
  },
  {
   "cell_type": "code",
   "execution_count": 249,
   "metadata": {},
   "outputs": [],
   "source": [
    "total_counts = dict()\n",
    "agreement_counts = dict()\n",
    "disagreement_counts = dict()\n",
    "for c in codes:\n",
    "    count = ((cosine_sim_df['main_codes_x'] == c) | (cosine_sim_df['main_codes_y'] == c)).sum()\n",
    "    total_counts[c] = count\n",
    "    \n",
    "    count = ((cosine_sim_df['main_codes_x'] == c) & (cosine_sim_df['main_codes_y'] == c)).sum()\n",
    "    agreement_counts[c] = count\n",
    "\n",
    "    count = ((cosine_sim_df['main_codes_x'] != c) ^ (cosine_sim_df['main_codes_y'] != c)).sum()\n",
    "    disagreement_counts[c] = count\n"
   ]
  },
  {
   "cell_type": "code",
   "execution_count": 258,
   "metadata": {},
   "outputs": [],
   "source": [
    "# Create a dictionary with the percentage of disagreement for this code\n",
    "# so disagreement_count/total_count\n",
    "\n",
    "perc_dict = dict()\n",
    "for k,v in total_counts.items():\n",
    "    perc_dict[k] = disagreement_counts[k]/v"
   ]
  },
  {
   "cell_type": "code",
   "execution_count": 275,
   "metadata": {},
   "outputs": [
    {
     "data": {
      "text/html": [
       "<div>\n",
       "<style scoped>\n",
       "    .dataframe tbody tr th:only-of-type {\n",
       "        vertical-align: middle;\n",
       "    }\n",
       "\n",
       "    .dataframe tbody tr th {\n",
       "        vertical-align: top;\n",
       "    }\n",
       "\n",
       "    .dataframe thead th {\n",
       "        text-align: right;\n",
       "    }\n",
       "</style>\n",
       "<table border=\"1\" class=\"dataframe\">\n",
       "  <thead>\n",
       "    <tr style=\"text-align: right;\">\n",
       "      <th></th>\n",
       "      <th>code</th>\n",
       "      <th>total_counts</th>\n",
       "      <th>perc_disagree</th>\n",
       "      <th>agreement_counts</th>\n",
       "      <th>disagreement_counts</th>\n",
       "      <th>perc_total_occurance</th>\n",
       "    </tr>\n",
       "  </thead>\n",
       "  <tbody>\n",
       "    <tr>\n",
       "      <th>0</th>\n",
       "      <td>-1</td>\n",
       "      <td>47184</td>\n",
       "      <td>1.000000</td>\n",
       "      <td>0</td>\n",
       "      <td>47184</td>\n",
       "      <td>0.291482</td>\n",
       "    </tr>\n",
       "    <tr>\n",
       "      <th>1</th>\n",
       "      <td>0</td>\n",
       "      <td>45827</td>\n",
       "      <td>1.000000</td>\n",
       "      <td>0</td>\n",
       "      <td>45827</td>\n",
       "      <td>0.283099</td>\n",
       "    </tr>\n",
       "    <tr>\n",
       "      <th>2</th>\n",
       "      <td>101</td>\n",
       "      <td>748</td>\n",
       "      <td>0.763369</td>\n",
       "      <td>177</td>\n",
       "      <td>571</td>\n",
       "      <td>0.004621</td>\n",
       "    </tr>\n",
       "  </tbody>\n",
       "</table>\n",
       "</div>"
      ],
      "text/plain": [
       "   code  total_counts  perc_disagree  agreement_counts  disagreement_counts  \\\n",
       "0    -1         47184       1.000000                 0                47184   \n",
       "1     0         45827       1.000000                 0                45827   \n",
       "2   101           748       0.763369               177                  571   \n",
       "\n",
       "   perc_total_occurance  \n",
       "0              0.291482  \n",
       "1              0.283099  \n",
       "2              0.004621  "
      ]
     },
     "execution_count": 275,
     "metadata": {},
     "output_type": "execute_result"
    }
   ],
   "source": [
    "# Getting the dicts into a df:\n",
    "\n",
    "merged_df = pd.merge(pd.DataFrame(list(total_counts.items()), columns=['code', 'total_counts']),\n",
    "                     pd.DataFrame(list(perc_dict.items()), columns=['code', 'perc_disagree']),\n",
    "                     on='code')\n",
    "\n",
    "merged_df_temp = pd.merge(pd.DataFrame(list(agreement_counts.items()), columns=['code', 'agreement_counts']),\n",
    "                     pd.DataFrame(list(disagreement_counts.items()), columns=['code', 'disagreement_counts']),\n",
    "                     on='code')\n",
    "\n",
    "code_combinations_df = pd.merge(merged_df, merged_df_temp, on='code')\n",
    "\n",
    "# add the percentage how often a code appears in the similar sentence combinations:\n",
    "code_combinations_df[\"perc_total_occurance\"] = code_combinations_df[\"total_counts\"]/cosine_sim_df.shape[0]\n",
    "\n",
    "code_combinations_df.head(3)"
   ]
  },
  {
   "cell_type": "code",
   "execution_count": null,
   "metadata": {},
   "outputs": [],
   "source": []
  },
  {
   "cell_type": "markdown",
   "metadata": {},
   "source": [
    "Deeper look into sentences that are exactly the same:"
   ]
  },
  {
   "cell_type": "code",
   "execution_count": 280,
   "metadata": {},
   "outputs": [
    {
     "data": {
      "text/plain": [
       "(42308, 24)"
      ]
     },
     "execution_count": 280,
     "metadata": {},
     "output_type": "execute_result"
    }
   ],
   "source": [
    "same_df = cosine_sim_df[cosine_sim_df[\"cosine_similarity\"] > 0.9999]\n",
    "same_df.shape"
   ]
  },
  {
   "cell_type": "code",
   "execution_count": 284,
   "metadata": {},
   "outputs": [
    {
     "data": {
      "text/html": [
       "<div>\n",
       "<style scoped>\n",
       "    .dataframe tbody tr th:only-of-type {\n",
       "        vertical-align: middle;\n",
       "    }\n",
       "\n",
       "    .dataframe tbody tr th {\n",
       "        vertical-align: top;\n",
       "    }\n",
       "\n",
       "    .dataframe thead th {\n",
       "        text-align: right;\n",
       "    }\n",
       "</style>\n",
       "<table border=\"1\" class=\"dataframe\">\n",
       "  <thead>\n",
       "    <tr style=\"text-align: right;\">\n",
       "      <th></th>\n",
       "      <th>q_sentence_x</th>\n",
       "      <th>main_codes_x</th>\n",
       "      <th>q_sentence_y</th>\n",
       "      <th>main_codes_y</th>\n",
       "      <th>cosine_similarity</th>\n",
       "    </tr>\n",
       "  </thead>\n",
       "  <tbody>\n",
       "    <tr>\n",
       "      <th>282700</th>\n",
       "      <td>By 2020-21 we will have restored Defence investment to 2 per cent of GDP.</td>\n",
       "      <td>104</td>\n",
       "      <td>By 2020-21 we will have restored Defence investment to 2 per cent of GDP.</td>\n",
       "      <td>104</td>\n",
       "      <td>1.0</td>\n",
       "    </tr>\n",
       "    <tr>\n",
       "      <th>88044</th>\n",
       "      <td>Terrorism</td>\n",
       "      <td>-1</td>\n",
       "      <td>Terrorism</td>\n",
       "      <td>0</td>\n",
       "      <td>1.0</td>\n",
       "    </tr>\n",
       "    <tr>\n",
       "      <th>217705</th>\n",
       "      <td>A Shorten Labor Government will renew investment in Australian multiculturalism, with $28.3 million of new funding to support social cohesion and economic inclusion.</td>\n",
       "      <td>0</td>\n",
       "      <td>A Shorten Labor Government will renew investment in Australian multiculturalism, with $28.3 million of new funding to support social cohesion and economic inclusion.</td>\n",
       "      <td>607</td>\n",
       "      <td>1.0</td>\n",
       "    </tr>\n",
       "    <tr>\n",
       "      <th>322385</th>\n",
       "      <td>•  $30.4 million  of P was seized in 2010.</td>\n",
       "      <td>605</td>\n",
       "      <td>•  $30.4 million  of P  was seized in 2010.</td>\n",
       "      <td>605</td>\n",
       "      <td>1.0</td>\n",
       "    </tr>\n",
       "    <tr>\n",
       "      <th>262805</th>\n",
       "      <td>Central Queensland cannot afford Labor governments at both the federal and state levels.</td>\n",
       "      <td>305</td>\n",
       "      <td>Central Queensland cannot afford Labor governments at both the federal and state levels.</td>\n",
       "      <td>305</td>\n",
       "      <td>1.0</td>\n",
       "    </tr>\n",
       "    <tr>\n",
       "      <th>...</th>\n",
       "      <td>...</td>\n",
       "      <td>...</td>\n",
       "      <td>...</td>\n",
       "      <td>...</td>\n",
       "      <td>...</td>\n",
       "    </tr>\n",
       "    <tr>\n",
       "      <th>293814</th>\n",
       "      <td>and improved safety features and standards.</td>\n",
       "      <td>501</td>\n",
       "      <td>and improved safety features and standards.</td>\n",
       "      <td>501</td>\n",
       "      <td>1.0</td>\n",
       "    </tr>\n",
       "    <tr>\n",
       "      <th>293813</th>\n",
       "      <td>and improved safety features and standards.</td>\n",
       "      <td>501</td>\n",
       "      <td>and improved safety features and standards.</td>\n",
       "      <td>501</td>\n",
       "      <td>1.0</td>\n",
       "    </tr>\n",
       "    <tr>\n",
       "      <th>286212</th>\n",
       "      <td>To ensure all Australians have the skills they need for work, the Government will provide $62.4 million to establish a national program to deliver foundational skills training.</td>\n",
       "      <td>411</td>\n",
       "      <td>To ensure all Australians have the skills they need for work, the Government will provide $62.4 million to establish a national program to deliver foundational skills training.</td>\n",
       "      <td>411</td>\n",
       "      <td>1.0</td>\n",
       "    </tr>\n",
       "    <tr>\n",
       "      <th>232617</th>\n",
       "      <td>The Coalition Government is supporting apprentices through Trade Support Loans – helping apprentices with the costs of living, tools and training through loans of up to $20,000 each.</td>\n",
       "      <td>411</td>\n",
       "      <td>The Coalition Government is supporting apprentices through Trade Support Loans – helping apprentices with the costs of living, tools and training through loans of up to $20,000 each.</td>\n",
       "      <td>411</td>\n",
       "      <td>1.0</td>\n",
       "    </tr>\n",
       "    <tr>\n",
       "      <th>275429</th>\n",
       "      <td>And 50,000 pensioners in self-managed super funds would also be hit.</td>\n",
       "      <td>403</td>\n",
       "      <td>And 50,000 pensioners in self-managed super funds would also be hit.</td>\n",
       "      <td>403</td>\n",
       "      <td>1.0</td>\n",
       "    </tr>\n",
       "  </tbody>\n",
       "</table>\n",
       "<p>42308 rows × 5 columns</p>\n",
       "</div>"
      ],
      "text/plain": [
       "                                                                                                                                                                                  q_sentence_x  \\\n",
       "282700                                                                                                               By 2020-21 we will have restored Defence investment to 2 per cent of GDP.   \n",
       "88044                                                                                                                                                                                Terrorism   \n",
       "217705                   A Shorten Labor Government will renew investment in Australian multiculturalism, with $28.3 million of new funding to support social cohesion and economic inclusion.   \n",
       "322385                                                                                                                                              •  $30.4 million  of P was seized in 2010.   \n",
       "262805                                                                                                Central Queensland cannot afford Labor governments at both the federal and state levels.   \n",
       "...                                                                                                                                                                                        ...   \n",
       "293814                                                                                                                                             and improved safety features and standards.   \n",
       "293813                                                                                                                                             and improved safety features and standards.   \n",
       "286212        To ensure all Australians have the skills they need for work, the Government will provide $62.4 million to establish a national program to deliver foundational skills training.   \n",
       "232617  The Coalition Government is supporting apprentices through Trade Support Loans – helping apprentices with the costs of living, tools and training through loans of up to $20,000 each.   \n",
       "275429                                                                                                                    And 50,000 pensioners in self-managed super funds would also be hit.   \n",
       "\n",
       "        main_codes_x  \\\n",
       "282700           104   \n",
       "88044             -1   \n",
       "217705             0   \n",
       "322385           605   \n",
       "262805           305   \n",
       "...              ...   \n",
       "293814           501   \n",
       "293813           501   \n",
       "286212           411   \n",
       "232617           411   \n",
       "275429           403   \n",
       "\n",
       "                                                                                                                                                                                  q_sentence_y  \\\n",
       "282700                                                                                                               By 2020-21 we will have restored Defence investment to 2 per cent of GDP.   \n",
       "88044                                                                                                                                                                                Terrorism   \n",
       "217705                   A Shorten Labor Government will renew investment in Australian multiculturalism, with $28.3 million of new funding to support social cohesion and economic inclusion.   \n",
       "322385                                                                                                                                             •  $30.4 million  of P  was seized in 2010.   \n",
       "262805                                                                                                Central Queensland cannot afford Labor governments at both the federal and state levels.   \n",
       "...                                                                                                                                                                                        ...   \n",
       "293814                                                                                                                                             and improved safety features and standards.   \n",
       "293813                                                                                                                                             and improved safety features and standards.   \n",
       "286212        To ensure all Australians have the skills they need for work, the Government will provide $62.4 million to establish a national program to deliver foundational skills training.   \n",
       "232617  The Coalition Government is supporting apprentices through Trade Support Loans – helping apprentices with the costs of living, tools and training through loans of up to $20,000 each.   \n",
       "275429                                                                                                                    And 50,000 pensioners in self-managed super funds would also be hit.   \n",
       "\n",
       "        main_codes_y  cosine_similarity  \n",
       "282700           104                1.0  \n",
       "88044              0                1.0  \n",
       "217705           607                1.0  \n",
       "322385           605                1.0  \n",
       "262805           305                1.0  \n",
       "...              ...                ...  \n",
       "293814           501                1.0  \n",
       "293813           501                1.0  \n",
       "286212           411                1.0  \n",
       "232617           411                1.0  \n",
       "275429           403                1.0  \n",
       "\n",
       "[42308 rows x 5 columns]"
      ]
     },
     "execution_count": 284,
     "metadata": {},
     "output_type": "execute_result"
    }
   ],
   "source": [
    "same_df[[\"q_sentence_x\", \"main_codes_x\", \"q_sentence_y\", \"main_codes_y\", \"cosine_similarity\"]].sort_values(by=\"cosine_similarity\", ascending=True)"
   ]
  },
  {
   "cell_type": "code",
   "execution_count": null,
   "metadata": {},
   "outputs": [],
   "source": []
  }
 ],
 "metadata": {
  "kernelspec": {
   "display_name": "Python 3",
   "language": "python",
   "name": "python3"
  },
  "language_info": {
   "codemirror_mode": {
    "name": "ipython",
    "version": 3
   },
   "file_extension": ".py",
   "mimetype": "text/x-python",
   "name": "python",
   "nbconvert_exporter": "python",
   "pygments_lexer": "ipython3",
   "version": "3.10.4"
  }
 },
 "nbformat": 4,
 "nbformat_minor": 2
}
