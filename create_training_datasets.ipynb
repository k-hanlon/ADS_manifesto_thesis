{
 "cells": [
  {
   "cell_type": "code",
   "execution_count": 203,
   "metadata": {},
   "outputs": [],
   "source": [
    "import pandas as pd\n",
    "import numpy as np\n",
    "from sklearn.model_selection import train_test_split"
   ]
  },
  {
   "cell_type": "code",
   "execution_count": 204,
   "metadata": {},
   "outputs": [],
   "source": [
    "pd.options.display.max_columns = None"
   ]
  },
  {
   "cell_type": "code",
   "execution_count": 205,
   "metadata": {},
   "outputs": [],
   "source": [
    "# load the MP q_sentence data and the party split info\n",
    "corpus_df = pd.read_csv(\"data/english_annotated_full_df.csv\") # full df or reduced df?\n",
    "split_df = pd.read_csv(\"data/party_split.csv\")"
   ]
  },
  {
   "cell_type": "code",
   "execution_count": 206,
   "metadata": {},
   "outputs": [],
   "source": [
    "# reset the index of the corpus_df and save it as a column. This way we can always find and compare q_sentences later on\n",
    "corpus_df = corpus_df.reset_index(names=\"original_index\")"
   ]
  },
  {
   "cell_type": "code",
   "execution_count": 207,
   "metadata": {},
   "outputs": [],
   "source": [
    "# some q_sentences are very long (and don't follow the rules of max. 1 sentence)\n",
    "# this will be a problem for the max token input of roBERTa of 512 (esp. for the context model)\n",
    "# we we will remove all q_sentences that have 100 or more words\n",
    "#  these are 96 q_sentences in total, so not very many\n",
    "corpus_df = corpus_df[corpus_df[\"q_sentence_words\"] < 100]"
   ]
  },
  {
   "cell_type": "code",
   "execution_count": 208,
   "metadata": {},
   "outputs": [
    {
     "data": {
      "text/html": [
       "<div>\n",
       "<style scoped>\n",
       "    .dataframe tbody tr th:only-of-type {\n",
       "        vertical-align: middle;\n",
       "    }\n",
       "\n",
       "    .dataframe tbody tr th {\n",
       "        vertical-align: top;\n",
       "    }\n",
       "\n",
       "    .dataframe thead th {\n",
       "        text-align: right;\n",
       "    }\n",
       "</style>\n",
       "<table border=\"1\" class=\"dataframe\">\n",
       "  <thead>\n",
       "    <tr style=\"text-align: right;\">\n",
       "      <th></th>\n",
       "      <th>original_index</th>\n",
       "      <th>q_sentence</th>\n",
       "      <th>q_sentence_nr</th>\n",
       "      <th>codes</th>\n",
       "      <th>manifesto_id</th>\n",
       "      <th>party</th>\n",
       "      <th>date</th>\n",
       "      <th>language</th>\n",
       "      <th>handbook</th>\n",
       "      <th>title</th>\n",
       "      <th>coderid</th>\n",
       "      <th>countryname</th>\n",
       "      <th>partyname</th>\n",
       "      <th>pervote</th>\n",
       "      <th>q_sentence_chars</th>\n",
       "      <th>q_sentence_words</th>\n",
       "      <th>main_codes</th>\n",
       "      <th>RILE</th>\n",
       "    </tr>\n",
       "  </thead>\n",
       "  <tbody>\n",
       "    <tr>\n",
       "      <th>0</th>\n",
       "      <td>0</td>\n",
       "      <td>Which party will make a real difference to my ...</td>\n",
       "      <td>1</td>\n",
       "      <td>NaN</td>\n",
       "      <td>51421_199705</td>\n",
       "      <td>51421</td>\n",
       "      <td>199705</td>\n",
       "      <td>english</td>\n",
       "      <td>1</td>\n",
       "      <td>Make the Difference</td>\n",
       "      <td>102</td>\n",
       "      <td>United Kingdom</td>\n",
       "      <td>Liberal Democrats</td>\n",
       "      <td>16.758</td>\n",
       "      <td>64</td>\n",
       "      <td>11</td>\n",
       "      <td>-1</td>\n",
       "      <td>0</td>\n",
       "    </tr>\n",
       "    <tr>\n",
       "      <th>1</th>\n",
       "      <td>1</td>\n",
       "      <td>Our aim: To make Britain the world's foremost ...</td>\n",
       "      <td>2</td>\n",
       "      <td>411</td>\n",
       "      <td>51421_199705</td>\n",
       "      <td>51421</td>\n",
       "      <td>199705</td>\n",
       "      <td>english</td>\n",
       "      <td>1</td>\n",
       "      <td>Make the Difference</td>\n",
       "      <td>102</td>\n",
       "      <td>United Kingdom</td>\n",
       "      <td>Liberal Democrats</td>\n",
       "      <td>16.758</td>\n",
       "      <td>71</td>\n",
       "      <td>12</td>\n",
       "      <td>411</td>\n",
       "      <td>0</td>\n",
       "    </tr>\n",
       "  </tbody>\n",
       "</table>\n",
       "</div>"
      ],
      "text/plain": [
       "   original_index                                         q_sentence  \\\n",
       "0               0  Which party will make a real difference to my ...   \n",
       "1               1  Our aim: To make Britain the world's foremost ...   \n",
       "\n",
       "   q_sentence_nr codes  manifesto_id  party    date language  handbook  \\\n",
       "0              1   NaN  51421_199705  51421  199705  english         1   \n",
       "1              2   411  51421_199705  51421  199705  english         1   \n",
       "\n",
       "                 title  coderid     countryname          partyname  pervote  \\\n",
       "0  Make the Difference      102  United Kingdom  Liberal Democrats   16.758   \n",
       "1  Make the Difference      102  United Kingdom  Liberal Democrats   16.758   \n",
       "\n",
       "   q_sentence_chars  q_sentence_words  main_codes  RILE  \n",
       "0                64                11          -1     0  \n",
       "1                71                12         411     0  "
      ]
     },
     "execution_count": 208,
     "metadata": {},
     "output_type": "execute_result"
    }
   ],
   "source": [
    "corpus_df.head(2)"
   ]
  },
  {
   "cell_type": "code",
   "execution_count": 209,
   "metadata": {},
   "outputs": [
    {
     "data": {
      "text/html": [
       "<div>\n",
       "<style scoped>\n",
       "    .dataframe tbody tr th:only-of-type {\n",
       "        vertical-align: middle;\n",
       "    }\n",
       "\n",
       "    .dataframe tbody tr th {\n",
       "        vertical-align: top;\n",
       "    }\n",
       "\n",
       "    .dataframe thead th {\n",
       "        text-align: right;\n",
       "    }\n",
       "</style>\n",
       "<table border=\"1\" class=\"dataframe\">\n",
       "  <thead>\n",
       "    <tr style=\"text-align: right;\">\n",
       "      <th></th>\n",
       "      <th>manifesto_id</th>\n",
       "      <th>year</th>\n",
       "      <th>countryname</th>\n",
       "      <th>partyname</th>\n",
       "      <th>migration_positive</th>\n",
       "      <th>left_right</th>\n",
       "      <th>green</th>\n",
       "    </tr>\n",
       "  </thead>\n",
       "  <tbody>\n",
       "    <tr>\n",
       "      <th>0</th>\n",
       "      <td>51421_199705</td>\n",
       "      <td>1997</td>\n",
       "      <td>United Kingdom</td>\n",
       "      <td>Liberal Democrats</td>\n",
       "      <td>NaN</td>\n",
       "      <td>Center</td>\n",
       "      <td>No</td>\n",
       "    </tr>\n",
       "    <tr>\n",
       "      <th>1</th>\n",
       "      <td>51902_199705</td>\n",
       "      <td>1997</td>\n",
       "      <td>United Kingdom</td>\n",
       "      <td>Scottish National Party</td>\n",
       "      <td>NaN</td>\n",
       "      <td>Left</td>\n",
       "      <td>No</td>\n",
       "    </tr>\n",
       "  </tbody>\n",
       "</table>\n",
       "</div>"
      ],
      "text/plain": [
       "   manifesto_id  year     countryname                partyname  \\\n",
       "0  51421_199705  1997  United Kingdom        Liberal Democrats   \n",
       "1  51902_199705  1997  United Kingdom  Scottish National Party   \n",
       "\n",
       "   migration_positive left_right green  \n",
       "0                 NaN     Center    No  \n",
       "1                 NaN       Left    No  "
      ]
     },
     "execution_count": 209,
     "metadata": {},
     "output_type": "execute_result"
    }
   ],
   "source": [
    "split_df.head(2)"
   ]
  },
  {
   "cell_type": "code",
   "execution_count": 210,
   "metadata": {},
   "outputs": [],
   "source": [
    "# replace NAs in left_right with \"Unknown\"\n",
    "split_df['left_right'] = split_df['left_right'].fillna(\"Unknown\")"
   ]
  },
  {
   "cell_type": "code",
   "execution_count": 211,
   "metadata": {},
   "outputs": [],
   "source": [
    "# Recode the columns\n",
    "# LEFT = 0, RIGHT = 1, Unknown = -1\n",
    "left_right_dict = {\"Far-left\": 0,\n",
    "                   \"Left\": 0,\n",
    "                   \"Center-left\": 0,\n",
    "                   \"Center\": 1,\n",
    "                   \"Center-right\": 1,\n",
    "                   \"Right\": 1,\n",
    "                   \"Unknown\": -1}\n",
    "split_df = split_df.assign(left_right  = split_df.left_right.map(left_right_dict))\n",
    "\n",
    "# Green = 1\n",
    "green_dict = {\"Yes\": 1,\n",
    "              \"No\": 0}\n",
    "split_df = split_df.assign(green  = split_df.green.map(green_dict))\n"
   ]
  },
  {
   "cell_type": "code",
   "execution_count": 212,
   "metadata": {},
   "outputs": [
    {
     "data": {
      "text/html": [
       "<div>\n",
       "<style scoped>\n",
       "    .dataframe tbody tr th:only-of-type {\n",
       "        vertical-align: middle;\n",
       "    }\n",
       "\n",
       "    .dataframe tbody tr th {\n",
       "        vertical-align: top;\n",
       "    }\n",
       "\n",
       "    .dataframe thead th {\n",
       "        text-align: right;\n",
       "    }\n",
       "</style>\n",
       "<table border=\"1\" class=\"dataframe\">\n",
       "  <thead>\n",
       "    <tr style=\"text-align: right;\">\n",
       "      <th></th>\n",
       "      <th>manifesto_id</th>\n",
       "      <th>year</th>\n",
       "      <th>countryname</th>\n",
       "      <th>partyname</th>\n",
       "      <th>migration_positive</th>\n",
       "      <th>left_right</th>\n",
       "      <th>green</th>\n",
       "    </tr>\n",
       "  </thead>\n",
       "  <tbody>\n",
       "    <tr>\n",
       "      <th>0</th>\n",
       "      <td>51421_199705</td>\n",
       "      <td>1997</td>\n",
       "      <td>United Kingdom</td>\n",
       "      <td>Liberal Democrats</td>\n",
       "      <td>NaN</td>\n",
       "      <td>1</td>\n",
       "      <td>0</td>\n",
       "    </tr>\n",
       "    <tr>\n",
       "      <th>1</th>\n",
       "      <td>51902_199705</td>\n",
       "      <td>1997</td>\n",
       "      <td>United Kingdom</td>\n",
       "      <td>Scottish National Party</td>\n",
       "      <td>NaN</td>\n",
       "      <td>0</td>\n",
       "      <td>0</td>\n",
       "    </tr>\n",
       "  </tbody>\n",
       "</table>\n",
       "</div>"
      ],
      "text/plain": [
       "   manifesto_id  year     countryname                partyname  \\\n",
       "0  51421_199705  1997  United Kingdom        Liberal Democrats   \n",
       "1  51902_199705  1997  United Kingdom  Scottish National Party   \n",
       "\n",
       "   migration_positive  left_right  green  \n",
       "0                 NaN           1      0  \n",
       "1                 NaN           0      0  "
      ]
     },
     "execution_count": 212,
     "metadata": {},
     "output_type": "execute_result"
    }
   ],
   "source": [
    "split_df.head(2)"
   ]
  },
  {
   "cell_type": "code",
   "execution_count": 213,
   "metadata": {},
   "outputs": [],
   "source": [
    "# merge left_right to the corpus_df:\n",
    "corpus_df = corpus_df.merge(split_df, on=\"manifesto_id\", how=\"left\")"
   ]
  },
  {
   "cell_type": "code",
   "execution_count": 214,
   "metadata": {},
   "outputs": [
    {
     "data": {
      "text/html": [
       "<div>\n",
       "<style scoped>\n",
       "    .dataframe tbody tr th:only-of-type {\n",
       "        vertical-align: middle;\n",
       "    }\n",
       "\n",
       "    .dataframe tbody tr th {\n",
       "        vertical-align: top;\n",
       "    }\n",
       "\n",
       "    .dataframe thead th {\n",
       "        text-align: right;\n",
       "    }\n",
       "</style>\n",
       "<table border=\"1\" class=\"dataframe\">\n",
       "  <thead>\n",
       "    <tr style=\"text-align: right;\">\n",
       "      <th></th>\n",
       "      <th>original_index</th>\n",
       "      <th>q_sentence</th>\n",
       "      <th>q_sentence_nr</th>\n",
       "      <th>codes</th>\n",
       "      <th>manifesto_id</th>\n",
       "      <th>party</th>\n",
       "      <th>date</th>\n",
       "      <th>language</th>\n",
       "      <th>handbook</th>\n",
       "      <th>title</th>\n",
       "      <th>coderid</th>\n",
       "      <th>countryname_x</th>\n",
       "      <th>partyname_x</th>\n",
       "      <th>pervote</th>\n",
       "      <th>q_sentence_chars</th>\n",
       "      <th>q_sentence_words</th>\n",
       "      <th>main_codes</th>\n",
       "      <th>RILE</th>\n",
       "      <th>year</th>\n",
       "      <th>countryname_y</th>\n",
       "      <th>partyname_y</th>\n",
       "      <th>migration_positive</th>\n",
       "      <th>left_right</th>\n",
       "      <th>green</th>\n",
       "    </tr>\n",
       "  </thead>\n",
       "  <tbody>\n",
       "    <tr>\n",
       "      <th>0</th>\n",
       "      <td>0</td>\n",
       "      <td>Which party will make a real difference to my ...</td>\n",
       "      <td>1</td>\n",
       "      <td>NaN</td>\n",
       "      <td>51421_199705</td>\n",
       "      <td>51421</td>\n",
       "      <td>199705</td>\n",
       "      <td>english</td>\n",
       "      <td>1</td>\n",
       "      <td>Make the Difference</td>\n",
       "      <td>102</td>\n",
       "      <td>United Kingdom</td>\n",
       "      <td>Liberal Democrats</td>\n",
       "      <td>16.758</td>\n",
       "      <td>64</td>\n",
       "      <td>11</td>\n",
       "      <td>-1</td>\n",
       "      <td>0</td>\n",
       "      <td>1997</td>\n",
       "      <td>United Kingdom</td>\n",
       "      <td>Liberal Democrats</td>\n",
       "      <td>NaN</td>\n",
       "      <td>1</td>\n",
       "      <td>0</td>\n",
       "    </tr>\n",
       "    <tr>\n",
       "      <th>1</th>\n",
       "      <td>1</td>\n",
       "      <td>Our aim: To make Britain the world's foremost ...</td>\n",
       "      <td>2</td>\n",
       "      <td>411</td>\n",
       "      <td>51421_199705</td>\n",
       "      <td>51421</td>\n",
       "      <td>199705</td>\n",
       "      <td>english</td>\n",
       "      <td>1</td>\n",
       "      <td>Make the Difference</td>\n",
       "      <td>102</td>\n",
       "      <td>United Kingdom</td>\n",
       "      <td>Liberal Democrats</td>\n",
       "      <td>16.758</td>\n",
       "      <td>71</td>\n",
       "      <td>12</td>\n",
       "      <td>411</td>\n",
       "      <td>0</td>\n",
       "      <td>1997</td>\n",
       "      <td>United Kingdom</td>\n",
       "      <td>Liberal Democrats</td>\n",
       "      <td>NaN</td>\n",
       "      <td>1</td>\n",
       "      <td>0</td>\n",
       "    </tr>\n",
       "  </tbody>\n",
       "</table>\n",
       "</div>"
      ],
      "text/plain": [
       "   original_index                                         q_sentence  \\\n",
       "0               0  Which party will make a real difference to my ...   \n",
       "1               1  Our aim: To make Britain the world's foremost ...   \n",
       "\n",
       "   q_sentence_nr codes  manifesto_id  party    date language  handbook  \\\n",
       "0              1   NaN  51421_199705  51421  199705  english         1   \n",
       "1              2   411  51421_199705  51421  199705  english         1   \n",
       "\n",
       "                 title  coderid   countryname_x        partyname_x  pervote  \\\n",
       "0  Make the Difference      102  United Kingdom  Liberal Democrats   16.758   \n",
       "1  Make the Difference      102  United Kingdom  Liberal Democrats   16.758   \n",
       "\n",
       "   q_sentence_chars  q_sentence_words  main_codes  RILE  year   countryname_y  \\\n",
       "0                64                11          -1     0  1997  United Kingdom   \n",
       "1                71                12         411     0  1997  United Kingdom   \n",
       "\n",
       "         partyname_y  migration_positive  left_right  green  \n",
       "0  Liberal Democrats                 NaN           1      0  \n",
       "1  Liberal Democrats                 NaN           1      0  "
      ]
     },
     "execution_count": 214,
     "metadata": {},
     "output_type": "execute_result"
    }
   ],
   "source": [
    "corpus_df.head(2)"
   ]
  },
  {
   "cell_type": "markdown",
   "metadata": {},
   "source": [
    "## Left-Right Split:"
   ]
  },
  {
   "cell_type": "markdown",
   "metadata": {},
   "source": [
    "### Creating training data based on left-right Parties\n",
    "\n",
    "Training data using only center/right parties (as that is more documents/q_sentences), split on a manifesto level into train and test sets (10% Test)\n",
    "\n",
    "Inference dataset with all the rest"
   ]
  },
  {
   "cell_type": "code",
   "execution_count": 215,
   "metadata": {},
   "outputs": [
    {
     "data": {
      "text/plain": [
       "left_right\n",
       " 1    118197\n",
       " 0     82879\n",
       "-1      1015\n",
       "Name: count, dtype: int64"
      ]
     },
     "execution_count": 215,
     "metadata": {},
     "output_type": "execute_result"
    }
   ],
   "source": [
    "corpus_df[\"left_right\"].value_counts()"
   ]
  },
  {
   "cell_type": "code",
   "execution_count": 216,
   "metadata": {},
   "outputs": [],
   "source": [
    "left_df = corpus_df[corpus_df[\"left_right\"] == 0]\n",
    "other_df = corpus_df[corpus_df[\"left_right\"] == 1] # removing the 4 unknown documents"
   ]
  },
  {
   "cell_type": "code",
   "execution_count": 217,
   "metadata": {},
   "outputs": [],
   "source": [
    "# what columns do we need in the data for the model?\n",
    "relevant_cols = [\"q_sentence\", \"q_sentence_nr\", \"manifesto_id\", \"main_codes\", \"RILE\", \"original_index\"]\n",
    "left_df = left_df[relevant_cols]\n",
    "other_df = other_df[relevant_cols]"
   ]
  },
  {
   "cell_type": "code",
   "execution_count": 218,
   "metadata": {},
   "outputs": [],
   "source": [
    "manifesto_ids = other_df[\"manifesto_id\"].unique()\n",
    "# shuffle them\n",
    "np.random.seed(2) # keep it reproducible (and so that ca. 10% of the q_sentences land in the test set)\n",
    "np.random.shuffle(manifesto_ids)\n",
    "\n",
    "train_manifesto_ids = manifesto_ids[10:] # this is 98 manifestos\n",
    "test_manifesto_ids = manifesto_ids[:10] # this is 10 manifestos\n",
    "\n",
    "train_df = other_df[other_df[\"manifesto_id\"].isin(train_manifesto_ids)]\n",
    "test_df = other_df[other_df[\"manifesto_id\"].isin(test_manifesto_ids)]"
   ]
  },
  {
   "cell_type": "code",
   "execution_count": 219,
   "metadata": {},
   "outputs": [
    {
     "name": "stdout",
     "output_type": "stream",
     "text": [
      "Number of q_sentences in the training set: 105626\n",
      "Number of q_sentences in the test set: 12571\n",
      "Percentage of the test set: 0.10635633730128514\n"
     ]
    }
   ],
   "source": [
    "print(\"Number of q_sentences in the training set:\", train_df.shape[0])\n",
    "print(\"Number of q_sentences in the test set:\", test_df.shape[0])\n",
    "print(\"Percentage of the test set:\", test_df.shape[0]/(test_df.shape[0]+train_df.shape[0]))"
   ]
  },
  {
   "cell_type": "code",
   "execution_count": 220,
   "metadata": {},
   "outputs": [],
   "source": [
    "# make sure that all the dfs are sorted correctly (so all the q_sentences of a manifesto are in the right order)\n",
    "# This should already be the case, but just to make sure:\n",
    "left_df = left_df.sort_values([\"manifesto_id\", \"q_sentence_nr\"], ascending=True)\n",
    "train_df = train_df.sort_values([\"manifesto_id\", \"q_sentence_nr\"], ascending=True)\n",
    "test_df = test_df.sort_values([\"manifesto_id\", \"q_sentence_nr\"], ascending=True)\n",
    "\n",
    "# and reset the indicies\n",
    "left_df.reset_index(drop=True, inplace=True)\n",
    "train_df.reset_index(drop=True, inplace=True)\n",
    "test_df.reset_index(drop=True, inplace=True)"
   ]
  },
  {
   "cell_type": "code",
   "execution_count": 221,
   "metadata": {},
   "outputs": [],
   "source": [
    "# and now save them as csv so that they can be loaded into huggingface\n",
    "train_df.to_csv(\"data/model_splits/left_right_split/l_r_split_full_df/train_other.csv\", index=False)\n",
    "test_df.to_csv(\"data/model_splits/left_right_split/l_r_split_full_df/test_other.csv\", index=False)\n",
    "left_df.to_csv(\"data/model_splits/left_right_split/l_r_split_full_df/validation_inference_left.csv\", index=False)"
   ]
  },
  {
   "cell_type": "code",
   "execution_count": null,
   "metadata": {},
   "outputs": [],
   "source": []
  },
  {
   "cell_type": "code",
   "execution_count": null,
   "metadata": {},
   "outputs": [],
   "source": []
  }
 ],
 "metadata": {
  "kernelspec": {
   "display_name": "Python 3",
   "language": "python",
   "name": "python3"
  },
  "language_info": {
   "codemirror_mode": {
    "name": "ipython",
    "version": 3
   },
   "file_extension": ".py",
   "mimetype": "text/x-python",
   "name": "python",
   "nbconvert_exporter": "python",
   "pygments_lexer": "ipython3",
   "version": "3.10.4"
  }
 },
 "nbformat": 4,
 "nbformat_minor": 2
}
