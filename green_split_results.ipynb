{
 "cells": [
  {
   "cell_type": "code",
   "execution_count": 28,
   "metadata": {},
   "outputs": [],
   "source": [
    "import numpy as np\n",
    "import pandas as pd\n",
    "from sklearn.metrics import accuracy_score, recall_score, f1_score, confusion_matrix, precision_score\n",
    "from scipy.stats import chi2_contingency\n",
    "import matplotlib.pyplot as plt\n",
    "import seaborn as sns"
   ]
  },
  {
   "cell_type": "markdown",
   "metadata": {},
   "source": [
    "### Analysis of the Green Model"
   ]
  },
  {
   "cell_type": "code",
   "execution_count": 46,
   "metadata": {},
   "outputs": [],
   "source": [
    "df_test = pd.read_csv(\"data/model_splits/green_split/green_as_train/green_test_predictions.csv\")\n",
    "df_inference = pd.read_csv(\"data/model_splits/green_split/green_as_train/green_inference_predictions.csv\")\n",
    "df_train = pd.read_csv(\"data/model_splits/green_split/green_as_train/train-00000-of-00001.csv\")"
   ]
  },
  {
   "cell_type": "code",
   "execution_count": 5,
   "metadata": {},
   "outputs": [
    {
     "data": {
      "text/plain": [
       "(3497, 9)"
      ]
     },
     "execution_count": 5,
     "metadata": {},
     "output_type": "execute_result"
    }
   ],
   "source": [
    "df_test.shape"
   ]
  },
  {
   "cell_type": "code",
   "execution_count": 6,
   "metadata": {},
   "outputs": [
    {
     "data": {
      "text/plain": [
       "(178827, 9)"
      ]
     },
     "execution_count": 6,
     "metadata": {},
     "output_type": "execute_result"
    }
   ],
   "source": [
    "df_inference.shape"
   ]
  },
  {
   "cell_type": "code",
   "execution_count": 47,
   "metadata": {},
   "outputs": [
    {
     "data": {
      "text/plain": [
       "(16189, 6)"
      ]
     },
     "execution_count": 47,
     "metadata": {},
     "output_type": "execute_result"
    }
   ],
   "source": [
    "df_train.shape"
   ]
  },
  {
   "cell_type": "code",
   "execution_count": 7,
   "metadata": {},
   "outputs": [
    {
     "data": {
      "text/html": [
       "<div>\n",
       "<style scoped>\n",
       "    .dataframe tbody tr th:only-of-type {\n",
       "        vertical-align: middle;\n",
       "    }\n",
       "\n",
       "    .dataframe tbody tr th {\n",
       "        vertical-align: top;\n",
       "    }\n",
       "\n",
       "    .dataframe thead th {\n",
       "        text-align: right;\n",
       "    }\n",
       "</style>\n",
       "<table border=\"1\" class=\"dataframe\">\n",
       "  <thead>\n",
       "    <tr style=\"text-align: right;\">\n",
       "      <th></th>\n",
       "      <th>q_sentence</th>\n",
       "      <th>q_sentence_nr</th>\n",
       "      <th>manifesto_id</th>\n",
       "      <th>main_codes</th>\n",
       "      <th>label</th>\n",
       "      <th>original_index</th>\n",
       "      <th>input_ids</th>\n",
       "      <th>attention_mask</th>\n",
       "      <th>preds</th>\n",
       "    </tr>\n",
       "  </thead>\n",
       "  <tbody>\n",
       "    <tr>\n",
       "      <th>0</th>\n",
       "      <td>The Green Party for a confident and caring Bri...</td>\n",
       "      <td>1</td>\n",
       "      <td>51110_201706</td>\n",
       "      <td>0</td>\n",
       "      <td>0</td>\n",
       "      <td>16696</td>\n",
       "      <td>[0, 133, 1628, 1643, 13, 10, 3230, 8, 10837, 1...</td>\n",
       "      <td>[1, 1, 1, 1, 1, 1, 1, 1, 1, 1, 1, 1, 1, 1, 1, ...</td>\n",
       "      <td>0</td>\n",
       "    </tr>\n",
       "  </tbody>\n",
       "</table>\n",
       "</div>"
      ],
      "text/plain": [
       "                                          q_sentence  q_sentence_nr  \\\n",
       "0  The Green Party for a confident and caring Bri...              1   \n",
       "\n",
       "   manifesto_id  main_codes  label  original_index  \\\n",
       "0  51110_201706           0      0           16696   \n",
       "\n",
       "                                           input_ids  \\\n",
       "0  [0, 133, 1628, 1643, 13, 10, 3230, 8, 10837, 1...   \n",
       "\n",
       "                                      attention_mask  preds  \n",
       "0  [1, 1, 1, 1, 1, 1, 1, 1, 1, 1, 1, 1, 1, 1, 1, ...      0  "
      ]
     },
     "execution_count": 7,
     "metadata": {},
     "output_type": "execute_result"
    }
   ],
   "source": [
    "df_test.head(1)"
   ]
  },
  {
   "cell_type": "markdown",
   "metadata": {},
   "source": [
    "## Test predictions (green): How well does the model perform? Are the predictions significantly different than the actual codes regarding environmental protection?"
   ]
  },
  {
   "cell_type": "code",
   "execution_count": 9,
   "metadata": {},
   "outputs": [
    {
     "name": "stdout",
     "output_type": "stream",
     "text": [
      "Test set accuracy: 0.9239348012582214\n",
      "Test set precision: 0.6955602536997886\n",
      "Test set recall: 0.729490022172949\n",
      "Test set F1-score: 0.7121212121212122\n"
     ]
    }
   ],
   "source": [
    "print(\"Test set accuracy:\", accuracy_score(df_test[\"label\"], df_test[\"preds\"]))\n",
    "print(\"Test set precision:\", precision_score(df_test[\"label\"], df_test[\"preds\"]))\n",
    "print(\"Test set recall:\", recall_score(df_test[\"label\"], df_test[\"preds\"]))\n",
    "print(\"Test set F1-score:\", f1_score(df_test[\"label\"], df_test[\"preds\"]))"
   ]
  },
  {
   "cell_type": "code",
   "execution_count": 50,
   "metadata": {},
   "outputs": [
    {
     "name": "stdout",
     "output_type": "stream",
     "text": [
      "Percentage of target code in the training data: 0.14855766261041448\n",
      "Percentage of target code in real codes: 0.12896768658850444\n",
      "Percentage of target code in predicted codes: 0.1352587932513583\n"
     ]
    }
   ],
   "source": [
    "print(\"Percentage of target code in the training data:\", df_train[df_train[\"green_code\"] == 1].shape[0]/df_train.shape[0])\n",
    "print(\"Percentage of target code in real codes:\", df_test[df_test[\"label\"] == 1].shape[0]/df_test.shape[0])\n",
    "print(\"Percentage of target code in predicted codes:\", df_test[df_test[\"preds\"] == 1].shape[0]/df_test.shape[0])"
   ]
  },
  {
   "cell_type": "code",
   "execution_count": 22,
   "metadata": {},
   "outputs": [
    {
     "name": "stdout",
     "output_type": "stream",
     "text": [
      "[[True Neg -- False Pos]\n",
      "[ False Neg -- True Pos]]\n",
      "\n",
      "Absolut confusion matrix\n",
      " [[2902  144]\n",
      " [ 122  329]]\n"
     ]
    }
   ],
   "source": [
    "#                    Pred. Neg:   Pred. Pos\n",
    "#    Real Neg:       True Neg --- False Pos\n",
    "#    Real Pos:       False Neg --- True Pos\n",
    "print(\"[[True Neg -- False Pos]\\n[ False Neg -- True Pos]]\")\n",
    "print(\"\\nAbsolut confusion matrix\\n\", confusion_matrix(df_test[\"label\"], df_test[\"preds\"]))\n",
    "#print(\"Relativ confusion matrix\\n\", confusion_matrix(df_test[\"label\"], df_test[\"preds\"])/df_test.shape[0])"
   ]
  },
  {
   "cell_type": "code",
   "execution_count": 58,
   "metadata": {},
   "outputs": [
    {
     "data": {
      "text/plain": [
       "main_codes\n",
       " 416    0.354167\n",
       "-1      0.111111\n",
       " 411    0.090278\n",
       " 703    0.069444\n",
       " 305    0.069444\n",
       " 403    0.041667\n",
       " 304    0.034722\n",
       " 504    0.027778\n",
       " 503    0.020833\n",
       " 706    0.020833\n",
       " 108    0.013889\n",
       " 201    0.013889\n",
       " 107    0.013889\n",
       " 601    0.013889\n",
       " 404    0.013889\n",
       " 606    0.013889\n",
       " 502    0.013889\n",
       " 0      0.013889\n",
       " 301    0.006944\n",
       " 413    0.006944\n",
       " 406    0.006944\n",
       " 303    0.006944\n",
       " 410    0.006944\n",
       " 701    0.006944\n",
       " 605    0.006944\n",
       "Name: count, dtype: float64"
      ]
     },
     "execution_count": 58,
     "metadata": {},
     "output_type": "execute_result"
    }
   ],
   "source": [
    "# Better look at the False Positives: What real codes do they have?\n",
    "df_false_pos = df_test[(df_test[\"preds\"] == 1) & (df_test[\"label\"] == 0)]\n",
    "codes_distributions = df_false_pos[\"main_codes\"].value_counts()/df_false_pos.shape[0]\n",
    "codes_distributions"
   ]
  },
  {
   "cell_type": "code",
   "execution_count": 59,
   "metadata": {},
   "outputs": [
    {
     "data": {
      "image/png": "[encoded data removed]",
      "text/plain": [
       "<Figure size 700x400 with 1 Axes>"
      ]
     },
     "metadata": {},
     "output_type": "display_data"
    }
   ],
   "source": [
    "# Create a bar plot\n",
    "plt.figure(figsize=(7, 4))\n",
    "codes_distributions[0:5].plot(kind='bar')\n",
    "\n",
    "# Add labels and title\n",
    "plt.xlabel('Codes')\n",
    "plt.ylabel('Frequency')\n",
    "plt.title('Distribution of real codes for false positives in Green Model test set')\n",
    "\n",
    "# Show the plot\n",
    "plt.show()"
   ]
  },
  {
   "cell_type": "code",
   "execution_count": 39,
   "metadata": {},
   "outputs": [
    {
     "data": {
      "text/html": [
       "<div>\n",
       "<style scoped>\n",
       "    .dataframe tbody tr th:only-of-type {\n",
       "        vertical-align: middle;\n",
       "    }\n",
       "\n",
       "    .dataframe tbody tr th {\n",
       "        vertical-align: top;\n",
       "    }\n",
       "\n",
       "    .dataframe thead th {\n",
       "        text-align: right;\n",
       "    }\n",
       "</style>\n",
       "<table border=\"1\" class=\"dataframe\">\n",
       "  <thead>\n",
       "    <tr style=\"text-align: right;\">\n",
       "      <th></th>\n",
       "      <th>q_sentence</th>\n",
       "      <th>q_sentence_nr</th>\n",
       "      <th>manifesto_id</th>\n",
       "      <th>main_codes</th>\n",
       "      <th>label</th>\n",
       "      <th>original_index</th>\n",
       "      <th>input_ids</th>\n",
       "      <th>attention_mask</th>\n",
       "      <th>preds</th>\n",
       "    </tr>\n",
       "  </thead>\n",
       "  <tbody>\n",
       "    <tr>\n",
       "      <th>78</th>\n",
       "      <td>and investing in flood defences and natural flood management to make every c...</td>\n",
       "      <td>79</td>\n",
       "      <td>51110_201706</td>\n",
       "      <td>411</td>\n",
       "      <td>0</td>\n",
       "      <td>16774</td>\n",
       "      <td>[0, 463, 4848, 11, 5005, 30356, 8, 1632, 5005, 1052, 7, 146, 358, 435, 8788,...</td>\n",
       "      <td>[1, 1, 1, 1, 1, 1, 1, 1, 1, 1, 1, 1, 1, 1, 1, 1, 1, 1, 1, 1, 1, 1, 1, 1, 1, ...</td>\n",
       "      <td>1</td>\n",
       "    </tr>\n",
       "    <tr>\n",
       "      <th>496</th>\n",
       "      <td>We support the relocation of existing storage facilities on the South Docks ...</td>\n",
       "      <td>242</td>\n",
       "      <td>53110_201602</td>\n",
       "      <td>411</td>\n",
       "      <td>0</td>\n",
       "      <td>54841</td>\n",
       "      <td>[0, 170, 323, 5, 21326, 9, 2210, 3521, 2644, 15, 5, 391, 211, 6368, 11, 7378...</td>\n",
       "      <td>[1, 1, 1, 1, 1, 1, 1, 1, 1, 1, 1, 1, 1, 1, 1, 1, 1, 1, 1, 1, 1, 1, 1, 1, 1, ...</td>\n",
       "      <td>1</td>\n",
       "    </tr>\n",
       "    <tr>\n",
       "      <th>497</th>\n",
       "      <td>We will lobby the EU to include the shipping and aviation sector in either t...</td>\n",
       "      <td>243</td>\n",
       "      <td>53110_201602</td>\n",
       "      <td>411</td>\n",
       "      <td>0</td>\n",
       "      <td>54842</td>\n",
       "      <td>[0, 170, 40, 10181, 5, 1281, 7, 680, 5, 6738, 8, 9848, 1293, 11, 1169, 5, 36...</td>\n",
       "      <td>[1, 1, 1, 1, 1, 1, 1, 1, 1, 1, 1, 1, 1, 1, 1, 1, 1, 1, 1, 1, 1, 1, 1, 1, 1, ...</td>\n",
       "      <td>1</td>\n",
       "    </tr>\n",
       "    <tr>\n",
       "      <th>498</th>\n",
       "      <td>The volume of ferry usage for passenger traffic can be increased by improvin...</td>\n",
       "      <td>244</td>\n",
       "      <td>53110_201602</td>\n",
       "      <td>411</td>\n",
       "      <td>0</td>\n",
       "      <td>54843</td>\n",
       "      <td>[0, 133, 3149, 9, 15169, 9453, 13, 4408, 1703, 64, 28, 1130, 30, 3927, 4240,...</td>\n",
       "      <td>[1, 1, 1, 1, 1, 1, 1, 1, 1, 1, 1, 1, 1, 1, 1, 1, 1, 1, 1, 1, 1, 1, 1, 1, 1, ...</td>\n",
       "      <td>1</td>\n",
       "    </tr>\n",
       "    <tr>\n",
       "      <th>582</th>\n",
       "      <td>Investment should be provided via joint EU/Central exchequer funding along w...</td>\n",
       "      <td>328</td>\n",
       "      <td>53110_201602</td>\n",
       "      <td>411</td>\n",
       "      <td>0</td>\n",
       "      <td>54927</td>\n",
       "      <td>[0, 19923, 1757, 197, 28, 1286, 1241, 2660, 1281, 73, 25674, 1931, 2871, 187...</td>\n",
       "      <td>[1, 1, 1, 1, 1, 1, 1, 1, 1, 1, 1, 1, 1, 1, 1, 1, 1, 1, 1, 1, 1, 1, 1, 1, 1, ...</td>\n",
       "      <td>1</td>\n",
       "    </tr>\n",
       "  </tbody>\n",
       "</table>\n",
       "</div>"
      ],
      "text/plain": [
       "                                                                          q_sentence  \\\n",
       "78   and investing in flood defences and natural flood management to make every c...   \n",
       "496  We support the relocation of existing storage facilities on the South Docks ...   \n",
       "497  We will lobby the EU to include the shipping and aviation sector in either t...   \n",
       "498  The volume of ferry usage for passenger traffic can be increased by improvin...   \n",
       "582  Investment should be provided via joint EU/Central exchequer funding along w...   \n",
       "\n",
       "     q_sentence_nr  manifesto_id  main_codes  label  original_index  \\\n",
       "78              79  51110_201706         411      0           16774   \n",
       "496            242  53110_201602         411      0           54841   \n",
       "497            243  53110_201602         411      0           54842   \n",
       "498            244  53110_201602         411      0           54843   \n",
       "582            328  53110_201602         411      0           54927   \n",
       "\n",
       "                                                                           input_ids  \\\n",
       "78   [0, 463, 4848, 11, 5005, 30356, 8, 1632, 5005, 1052, 7, 146, 358, 435, 8788,...   \n",
       "496  [0, 170, 323, 5, 21326, 9, 2210, 3521, 2644, 15, 5, 391, 211, 6368, 11, 7378...   \n",
       "497  [0, 170, 40, 10181, 5, 1281, 7, 680, 5, 6738, 8, 9848, 1293, 11, 1169, 5, 36...   \n",
       "498  [0, 133, 3149, 9, 15169, 9453, 13, 4408, 1703, 64, 28, 1130, 30, 3927, 4240,...   \n",
       "582  [0, 19923, 1757, 197, 28, 1286, 1241, 2660, 1281, 73, 25674, 1931, 2871, 187...   \n",
       "\n",
       "                                                                      attention_mask  \\\n",
       "78   [1, 1, 1, 1, 1, 1, 1, 1, 1, 1, 1, 1, 1, 1, 1, 1, 1, 1, 1, 1, 1, 1, 1, 1, 1, ...   \n",
       "496  [1, 1, 1, 1, 1, 1, 1, 1, 1, 1, 1, 1, 1, 1, 1, 1, 1, 1, 1, 1, 1, 1, 1, 1, 1, ...   \n",
       "497  [1, 1, 1, 1, 1, 1, 1, 1, 1, 1, 1, 1, 1, 1, 1, 1, 1, 1, 1, 1, 1, 1, 1, 1, 1, ...   \n",
       "498  [1, 1, 1, 1, 1, 1, 1, 1, 1, 1, 1, 1, 1, 1, 1, 1, 1, 1, 1, 1, 1, 1, 1, 1, 1, ...   \n",
       "582  [1, 1, 1, 1, 1, 1, 1, 1, 1, 1, 1, 1, 1, 1, 1, 1, 1, 1, 1, 1, 1, 1, 1, 1, 1, ...   \n",
       "\n",
       "     preds  \n",
       "78       1  \n",
       "496      1  \n",
       "497      1  \n",
       "498      1  \n",
       "582      1  "
      ]
     },
     "execution_count": 39,
     "metadata": {},
     "output_type": "execute_result"
    }
   ],
   "source": [
    "# looking at examples\n",
    "pd.set_option('display.max_colwidth', 80)\n",
    "target_code = 411\n",
    "df_false_pos[df_false_pos[\"main_codes\"] == target_code].head(5)"
   ]
  },
  {
   "cell_type": "code",
   "execution_count": 41,
   "metadata": {},
   "outputs": [
    {
     "data": {
      "text/html": [
       "<div>\n",
       "<style scoped>\n",
       "    .dataframe tbody tr th:only-of-type {\n",
       "        vertical-align: middle;\n",
       "    }\n",
       "\n",
       "    .dataframe tbody tr th {\n",
       "        vertical-align: top;\n",
       "    }\n",
       "\n",
       "    .dataframe thead th {\n",
       "        text-align: right;\n",
       "    }\n",
       "</style>\n",
       "<table border=\"1\" class=\"dataframe\">\n",
       "  <thead>\n",
       "    <tr style=\"text-align: right;\">\n",
       "      <th></th>\n",
       "      <th>Model</th>\n",
       "      <th>Coders</th>\n",
       "    </tr>\n",
       "  </thead>\n",
       "  <tbody>\n",
       "    <tr>\n",
       "      <th>0</th>\n",
       "      <td>3024</td>\n",
       "      <td>3046</td>\n",
       "    </tr>\n",
       "    <tr>\n",
       "      <th>1</th>\n",
       "      <td>473</td>\n",
       "      <td>451</td>\n",
       "    </tr>\n",
       "  </tbody>\n",
       "</table>\n",
       "</div>"
      ],
      "text/plain": [
       "   Model  Coders\n",
       "0   3024    3046\n",
       "1    473     451"
      ]
     },
     "execution_count": 41,
     "metadata": {},
     "output_type": "execute_result"
    }
   ],
   "source": [
    "# Testing whether the predictions significantly differ from the real codes\n",
    "\n",
    "# set up contingency table\n",
    "contingency_table = pd.DataFrame({#\"Group\": [\"# 501 codes\", \"# non-501 codes\"],\n",
    "                                  \"Model\": [df_test[df_test[\"preds\"] == 0].shape[0],\n",
    "                                            df_test[df_test[\"preds\"] == 1].shape[0]],\n",
    "                                  \"Coders\": [df_test[df_test[\"label\"] == 0].shape[0],\n",
    "                                             df_test[df_test[\"label\"] == 1].shape[0]]})\n",
    "\n",
    "\n",
    "contingency_table"
   ]
  },
  {
   "cell_type": "code",
   "execution_count": 42,
   "metadata": {},
   "outputs": [
    {
     "data": {
      "text/plain": [
       "(0.5499251160700913,\n",
       " 0.4583482932772982,\n",
       " 1,\n",
       " array([[3035., 3035.],\n",
       "        [ 462.,  462.]]))"
      ]
     },
     "execution_count": 42,
     "metadata": {},
     "output_type": "execute_result"
    }
   ],
   "source": [
    "chi2_contingency(contingency_table)"
   ]
  },
  {
   "cell_type": "markdown",
   "metadata": {},
   "source": [
    "This shows: the model creates predictions that are very similarly distributed compared to the original codes, as we would have expected."
   ]
  },
  {
   "cell_type": "markdown",
   "metadata": {},
   "source": [
    "### Inference Predictions (green)"
   ]
  },
  {
   "cell_type": "code",
   "execution_count": 60,
   "metadata": {},
   "outputs": [
    {
     "name": "stdout",
     "output_type": "stream",
     "text": [
      "Test set accuracy: 0.9638365571194506\n",
      "Test set precision: 0.5248933143669986\n",
      "Test set recall: 0.7916189931350115\n",
      "Test set F1-score: 0.6312368135941154\n"
     ]
    }
   ],
   "source": [
    "print(\"Test set accuracy:\", accuracy_score(df_inference[\"label\"], df_inference[\"preds\"]))\n",
    "print(\"Test set precision:\", precision_score(df_inference[\"label\"], df_inference[\"preds\"]))\n",
    "print(\"Test set recall:\", recall_score(df_inference[\"label\"], df_inference[\"preds\"]))\n",
    "print(\"Test set F1-score:\", f1_score(df_inference[\"label\"], df_inference[\"preds\"]))"
   ]
  },
  {
   "cell_type": "code",
   "execution_count": 61,
   "metadata": {},
   "outputs": [
    {
     "name": "stdout",
     "output_type": "stream",
     "text": [
      "Percentage of target code in the training data: 0.14855766261041448\n",
      "Percentage of target code in real codes: 0.03909924116604316\n",
      "Percentage of target code in predicted codes: 0.05896760556291835\n"
     ]
    }
   ],
   "source": [
    "print(\"Percentage of target code in the training data:\", df_train[df_train[\"green_code\"] == 1].shape[0]/df_train.shape[0])\n",
    "print(\"Percentage of target code in real codes:\", df_inference[df_inference[\"label\"] == 1].shape[0]/df_inference.shape[0])\n",
    "print(\"Percentage of target code in predicted codes:\", df_inference[df_inference[\"preds\"] == 1].shape[0]/df_inference.shape[0])"
   ]
  },
  {
   "cell_type": "code",
   "execution_count": 62,
   "metadata": {},
   "outputs": [
    {
     "name": "stdout",
     "output_type": "stream",
     "text": [
      "[[True Neg -- False Pos]\n",
      "[ False Neg -- True Pos]]\n",
      "\n",
      "Absolut confusion matrix\n",
      " [[166825   5010]\n",
      " [  1457   5535]]\n"
     ]
    }
   ],
   "source": [
    "#                    Pred. Neg:   Pred. Pos\n",
    "#    Real Neg:       True Neg --- False Pos\n",
    "#    Real Pos:       False Neg --- True Pos\n",
    "print(\"[[True Neg -- False Pos]\\n[ False Neg -- True Pos]]\")\n",
    "print(\"\\nAbsolut confusion matrix\\n\", confusion_matrix(df_inference[\"label\"], df_inference[\"preds\"]))\n",
    "#print(\"Relativ confusion matrix\\n\", confusion_matrix(df_test[\"label\"], df_test[\"preds\"])/df_test.shape[0])"
   ]
  },
  {
   "cell_type": "code",
   "execution_count": 63,
   "metadata": {},
   "outputs": [
    {
     "data": {
      "text/plain": [
       "main_codes\n",
       " 703    0.243313\n",
       " 416    0.180040\n",
       " 411    0.088623\n",
       "-1      0.042315\n",
       " 502    0.041517\n",
       " 410    0.036327\n",
       " 303    0.031537\n",
       " 0      0.029940\n",
       " 305    0.028144\n",
       " 401    0.026747\n",
       " 403    0.026148\n",
       " 107    0.026148\n",
       " 601    0.020359\n",
       " 402    0.017365\n",
       " 301    0.016766\n",
       " 202    0.013573\n",
       " 406    0.012575\n",
       " 504    0.011377\n",
       " 605    0.010778\n",
       " 503    0.009381\n",
       " 110    0.007984\n",
       " 302    0.007585\n",
       " 408    0.007385\n",
       " 414    0.006986\n",
       " 108    0.006786\n",
       " 606    0.005589\n",
       " 607    0.004391\n",
       " 104    0.004192\n",
       " 404    0.003992\n",
       " 413    0.003992\n",
       " 109    0.003593\n",
       " 701    0.003593\n",
       " 412    0.002794\n",
       " 506    0.002395\n",
       " 201    0.002395\n",
       " 603    0.002395\n",
       " 706    0.001796\n",
       " 407    0.001597\n",
       " 105    0.001198\n",
       " 405    0.000998\n",
       " 101    0.000998\n",
       " 304    0.000798\n",
       " 203    0.000798\n",
       " 102    0.000599\n",
       " 608    0.000599\n",
       " 409    0.000399\n",
       " 705    0.000399\n",
       " 204    0.000200\n",
       " 602    0.000200\n",
       " 604    0.000200\n",
       " 415    0.000200\n",
       "Name: count, dtype: float64"
      ]
     },
     "execution_count": 63,
     "metadata": {},
     "output_type": "execute_result"
    }
   ],
   "source": [
    "# This now has a lot of false positives (as we would expect)\n",
    "# Better look at the False Positives: What real codes do they have?\n",
    "df_false_pos = df_inference[(df_inference[\"preds\"] == 1) & (df_inference[\"label\"] == 0)]\n",
    "codes_distributions = df_false_pos[\"main_codes\"].value_counts()/df_false_pos.shape[0]\n",
    "codes_distributions"
   ]
  },
  {
   "cell_type": "code",
   "execution_count": 64,
   "metadata": {},
   "outputs": [
    {
     "data": {
      "image/png": "[encoded data removed]",
      "text/plain": [
       "<Figure size 700x400 with 1 Axes>"
      ]
     },
     "metadata": {},
     "output_type": "display_data"
    }
   ],
   "source": [
    "# Create a bar plot\n",
    "plt.figure(figsize=(7, 4))\n",
    "codes_distributions[0:5].plot(kind='bar')\n",
    "\n",
    "# Add labels and title\n",
    "plt.xlabel('Codes')\n",
    "plt.ylabel('Frequency')\n",
    "plt.title('Distribution of real codes for false positives in Green Model inference set')\n",
    "\n",
    "# Show the plot\n",
    "plt.show()"
   ]
  },
  {
   "cell_type": "code",
   "execution_count": 65,
   "metadata": {},
   "outputs": [
    {
     "data": {
      "text/html": [
       "<div>\n",
       "<style scoped>\n",
       "    .dataframe tbody tr th:only-of-type {\n",
       "        vertical-align: middle;\n",
       "    }\n",
       "\n",
       "    .dataframe tbody tr th {\n",
       "        vertical-align: top;\n",
       "    }\n",
       "\n",
       "    .dataframe thead th {\n",
       "        text-align: right;\n",
       "    }\n",
       "</style>\n",
       "<table border=\"1\" class=\"dataframe\">\n",
       "  <thead>\n",
       "    <tr style=\"text-align: right;\">\n",
       "      <th></th>\n",
       "      <th>q_sentence</th>\n",
       "      <th>q_sentence_nr</th>\n",
       "      <th>manifesto_id</th>\n",
       "      <th>main_codes</th>\n",
       "      <th>label</th>\n",
       "      <th>original_index</th>\n",
       "      <th>input_ids</th>\n",
       "      <th>attention_mask</th>\n",
       "      <th>preds</th>\n",
       "    </tr>\n",
       "  </thead>\n",
       "  <tbody>\n",
       "    <tr>\n",
       "      <th>397</th>\n",
       "      <td>8) The EFF government shall pass laws to prohibit the production of Genetica...</td>\n",
       "      <td>398</td>\n",
       "      <td>181210_201405</td>\n",
       "      <td>703</td>\n",
       "      <td>0</td>\n",
       "      <td>192644</td>\n",
       "      <td>[0, 398, 43, 20, 18625, 168, 5658, 1323, 2074, 7, 18262, 5, 931, 9, 4380, 36...</td>\n",
       "      <td>[1, 1, 1, 1, 1, 1, 1, 1, 1, 1, 1, 1, 1, 1, 1, 1, 1, 1, 1, 1, 1, 1, 1, 1, 1, ...</td>\n",
       "      <td>1</td>\n",
       "    </tr>\n",
       "    <tr>\n",
       "      <th>398</th>\n",
       "      <td>9) National campaigns shall be undertaken to educate the nation about the da...</td>\n",
       "      <td>399</td>\n",
       "      <td>181210_201405</td>\n",
       "      <td>703</td>\n",
       "      <td>0</td>\n",
       "      <td>192645</td>\n",
       "      <td>[0, 466, 43, 496, 6392, 5658, 28, 15050, 7, 11427, 5, 1226, 59, 5, 12114, 9,...</td>\n",
       "      <td>[1, 1, 1, 1, 1, 1, 1, 1, 1, 1, 1, 1, 1, 1, 1, 1, 1, 1, 1, 1, 1, 1, 1, 1, 1, ...</td>\n",
       "      <td>1</td>\n",
       "    </tr>\n",
       "    <tr>\n",
       "      <th>1383</th>\n",
       "      <td>This will also include abalone, especially in Hermanus - Western Cape.</td>\n",
       "      <td>801</td>\n",
       "      <td>181210_201905</td>\n",
       "      <td>703</td>\n",
       "      <td>0</td>\n",
       "      <td>195625</td>\n",
       "      <td>[0, 713, 40, 67, 680, 4091, 22446, 6, 941, 11, 14358, 687, 111, 2027, 6268, ...</td>\n",
       "      <td>[1, 1, 1, 1, 1, 1, 1, 1, 1, 1, 1, 1, 1, 1, 1, 1, 1, 1, 1, 1, 1, 1, 1, 1, 1, ...</td>\n",
       "      <td>1</td>\n",
       "    </tr>\n",
       "    <tr>\n",
       "      <th>1402</th>\n",
       "      <td>which has led to the collapse of the local poultry industry.</td>\n",
       "      <td>820</td>\n",
       "      <td>181210_201905</td>\n",
       "      <td>703</td>\n",
       "      <td>0</td>\n",
       "      <td>195644</td>\n",
       "      <td>[0, 5488, 34, 669, 7, 5, 6277, 9, 5, 400, 19768, 539, 4, 2, 2, 1549, 4, 20, ...</td>\n",
       "      <td>[1, 1, 1, 1, 1, 1, 1, 1, 1, 1, 1, 1, 1, 1, 1, 1, 1, 1, 1, 1, 1, 1, 1, 1, 1, ...</td>\n",
       "      <td>1</td>\n",
       "    </tr>\n",
       "    <tr>\n",
       "      <th>1406</th>\n",
       "      <td>21. The  EFF   government  will  construct and  maintain central abattoirs i...</td>\n",
       "      <td>824</td>\n",
       "      <td>181210_201905</td>\n",
       "      <td>703</td>\n",
       "      <td>0</td>\n",
       "      <td>195648</td>\n",
       "      <td>[0, 2146, 4, 20, 1437, 18625, 1437, 1437, 168, 1437, 40, 1437, 12558, 8, 143...</td>\n",
       "      <td>[1, 1, 1, 1, 1, 1, 1, 1, 1, 1, 1, 1, 1, 1, 1, 1, 1, 1, 1, 1, 1, 1, 1, 1, 1, ...</td>\n",
       "      <td>1</td>\n",
       "    </tr>\n",
       "  </tbody>\n",
       "</table>\n",
       "</div>"
      ],
      "text/plain": [
       "                                                                           q_sentence  \\\n",
       "397   8) The EFF government shall pass laws to prohibit the production of Genetica...   \n",
       "398   9) National campaigns shall be undertaken to educate the nation about the da...   \n",
       "1383           This will also include abalone, especially in Hermanus - Western Cape.   \n",
       "1402                     which has led to the collapse of the local poultry industry.   \n",
       "1406  21. The  EFF   government  will  construct and  maintain central abattoirs i...   \n",
       "\n",
       "      q_sentence_nr   manifesto_id  main_codes  label  original_index  \\\n",
       "397             398  181210_201405         703      0          192644   \n",
       "398             399  181210_201405         703      0          192645   \n",
       "1383            801  181210_201905         703      0          195625   \n",
       "1402            820  181210_201905         703      0          195644   \n",
       "1406            824  181210_201905         703      0          195648   \n",
       "\n",
       "                                                                            input_ids  \\\n",
       "397   [0, 398, 43, 20, 18625, 168, 5658, 1323, 2074, 7, 18262, 5, 931, 9, 4380, 36...   \n",
       "398   [0, 466, 43, 496, 6392, 5658, 28, 15050, 7, 11427, 5, 1226, 59, 5, 12114, 9,...   \n",
       "1383  [0, 713, 40, 67, 680, 4091, 22446, 6, 941, 11, 14358, 687, 111, 2027, 6268, ...   \n",
       "1402  [0, 5488, 34, 669, 7, 5, 6277, 9, 5, 400, 19768, 539, 4, 2, 2, 1549, 4, 20, ...   \n",
       "1406  [0, 2146, 4, 20, 1437, 18625, 1437, 1437, 168, 1437, 40, 1437, 12558, 8, 143...   \n",
       "\n",
       "                                                                       attention_mask  \\\n",
       "397   [1, 1, 1, 1, 1, 1, 1, 1, 1, 1, 1, 1, 1, 1, 1, 1, 1, 1, 1, 1, 1, 1, 1, 1, 1, ...   \n",
       "398   [1, 1, 1, 1, 1, 1, 1, 1, 1, 1, 1, 1, 1, 1, 1, 1, 1, 1, 1, 1, 1, 1, 1, 1, 1, ...   \n",
       "1383  [1, 1, 1, 1, 1, 1, 1, 1, 1, 1, 1, 1, 1, 1, 1, 1, 1, 1, 1, 1, 1, 1, 1, 1, 1, ...   \n",
       "1402  [1, 1, 1, 1, 1, 1, 1, 1, 1, 1, 1, 1, 1, 1, 1, 1, 1, 1, 1, 1, 1, 1, 1, 1, 1, ...   \n",
       "1406  [1, 1, 1, 1, 1, 1, 1, 1, 1, 1, 1, 1, 1, 1, 1, 1, 1, 1, 1, 1, 1, 1, 1, 1, 1, ...   \n",
       "\n",
       "      preds  \n",
       "397       1  \n",
       "398       1  \n",
       "1383      1  \n",
       "1402      1  \n",
       "1406      1  "
      ]
     },
     "execution_count": 65,
     "metadata": {},
     "output_type": "execute_result"
    }
   ],
   "source": [
    "# looking at examples\n",
    "pd.set_option('display.max_colwidth', 80)\n",
    "target_code = 703\n",
    "df_false_pos[df_false_pos[\"main_codes\"] == target_code].head(5)"
   ]
  },
  {
   "cell_type": "code",
   "execution_count": 66,
   "metadata": {},
   "outputs": [
    {
     "data": {
      "text/html": [
       "<div>\n",
       "<style scoped>\n",
       "    .dataframe tbody tr th:only-of-type {\n",
       "        vertical-align: middle;\n",
       "    }\n",
       "\n",
       "    .dataframe tbody tr th {\n",
       "        vertical-align: top;\n",
       "    }\n",
       "\n",
       "    .dataframe thead th {\n",
       "        text-align: right;\n",
       "    }\n",
       "</style>\n",
       "<table border=\"1\" class=\"dataframe\">\n",
       "  <thead>\n",
       "    <tr style=\"text-align: right;\">\n",
       "      <th></th>\n",
       "      <th>Model</th>\n",
       "      <th>Coders</th>\n",
       "    </tr>\n",
       "  </thead>\n",
       "  <tbody>\n",
       "    <tr>\n",
       "      <th>0</th>\n",
       "      <td>168282</td>\n",
       "      <td>171835</td>\n",
       "    </tr>\n",
       "    <tr>\n",
       "      <th>1</th>\n",
       "      <td>10545</td>\n",
       "      <td>6992</td>\n",
       "    </tr>\n",
       "  </tbody>\n",
       "</table>\n",
       "</div>"
      ],
      "text/plain": [
       "    Model  Coders\n",
       "0  168282  171835\n",
       "1   10545    6992"
      ]
     },
     "execution_count": 66,
     "metadata": {},
     "output_type": "execute_result"
    }
   ],
   "source": [
    "# Testing whether the predictions significantly differ from the real codes\n",
    "\n",
    "# set up contingency table\n",
    "contingency_table = pd.DataFrame({#\"Group\": [\"# 501 codes\", \"# non-501 codes\"],\n",
    "                                  \"Model\": [df_inference[df_inference[\"preds\"] == 0].shape[0],\n",
    "                                            df_inference[df_inference[\"preds\"] == 1].shape[0]],\n",
    "                                  \"Coders\": [df_inference[df_inference[\"label\"] == 0].shape[0],\n",
    "                                             df_inference[df_inference[\"label\"] == 1].shape[0]]})\n",
    "\n",
    "\n",
    "contingency_table"
   ]
  },
  {
   "cell_type": "code",
   "execution_count": 67,
   "metadata": {},
   "outputs": [
    {
     "data": {
      "text/plain": [
       "(756.528614302172,\n",
       " 1.5270522873206464e-166,\n",
       " 1,\n",
       " array([[170058.5, 170058.5],\n",
       "        [  8768.5,   8768.5]]))"
      ]
     },
     "execution_count": 67,
     "metadata": {},
     "output_type": "execute_result"
    }
   ],
   "source": [
    "chi2_contingency(contingency_table)"
   ]
  },
  {
   "cell_type": "markdown",
   "metadata": {},
   "source": [
    "So the model predictions are very clearly significantly different that the real predictions!"
   ]
  },
  {
   "cell_type": "markdown",
   "metadata": {},
   "source": [
    "## Now the same thing, but for the NonGreen Model"
   ]
  },
  {
   "cell_type": "code",
   "execution_count": 68,
   "metadata": {},
   "outputs": [],
   "source": [
    "df_test = pd.read_csv(\"data/model_splits/green_split/non_green_as_train/nongreen_test_predictions.csv\")\n",
    "df_inference = pd.read_csv(\"data/model_splits/green_split/non_green_as_train/nongreen_inference_predictions.csv\")\n",
    "df_train = pd.read_csv(\"data/model_splits/green_split/non_green_as_train/train-00000-of-00001.csv\")\n"
   ]
  },
  {
   "cell_type": "code",
   "execution_count": 69,
   "metadata": {},
   "outputs": [
    {
     "data": {
      "text/plain": [
       "(28791, 9)"
      ]
     },
     "execution_count": 69,
     "metadata": {},
     "output_type": "execute_result"
    }
   ],
   "source": [
    "df_test.shape"
   ]
  },
  {
   "cell_type": "code",
   "execution_count": 70,
   "metadata": {},
   "outputs": [
    {
     "data": {
      "text/plain": [
       "(23264, 9)"
      ]
     },
     "execution_count": 70,
     "metadata": {},
     "output_type": "execute_result"
    }
   ],
   "source": [
    "df_inference.shape"
   ]
  },
  {
   "cell_type": "code",
   "execution_count": 71,
   "metadata": {},
   "outputs": [
    {
     "data": {
      "text/plain": [
       "(123816, 6)"
      ]
     },
     "execution_count": 71,
     "metadata": {},
     "output_type": "execute_result"
    }
   ],
   "source": [
    "df_train.shape"
   ]
  },
  {
   "cell_type": "code",
   "execution_count": 72,
   "metadata": {},
   "outputs": [
    {
     "data": {
      "text/html": [
       "<div>\n",
       "<style scoped>\n",
       "    .dataframe tbody tr th:only-of-type {\n",
       "        vertical-align: middle;\n",
       "    }\n",
       "\n",
       "    .dataframe tbody tr th {\n",
       "        vertical-align: top;\n",
       "    }\n",
       "\n",
       "    .dataframe thead th {\n",
       "        text-align: right;\n",
       "    }\n",
       "</style>\n",
       "<table border=\"1\" class=\"dataframe\">\n",
       "  <thead>\n",
       "    <tr style=\"text-align: right;\">\n",
       "      <th></th>\n",
       "      <th>q_sentence</th>\n",
       "      <th>q_sentence_nr</th>\n",
       "      <th>manifesto_id</th>\n",
       "      <th>main_codes</th>\n",
       "      <th>label</th>\n",
       "      <th>original_index</th>\n",
       "      <th>input_ids</th>\n",
       "      <th>attention_mask</th>\n",
       "      <th>preds</th>\n",
       "    </tr>\n",
       "  </thead>\n",
       "  <tbody>\n",
       "    <tr>\n",
       "      <th>0</th>\n",
       "      <td>OUR VISION AND PLAN</td>\n",
       "      <td>1</td>\n",
       "      <td>181310_201405</td>\n",
       "      <td>-1</td>\n",
       "      <td>0</td>\n",
       "      <td>192831</td>\n",
       "      <td>[0, 14257, 468, 36296, 4248, 37330, 2, 2, 14257, 468, 36296, 4248, 37330, 10...</td>\n",
       "      <td>[1, 1, 1, 1, 1, 1, 1, 1, 1, 1, 1, 1, 1, 1, 1, 1, 1, 1, 1, 1, 1, 1, 1, 1, 1, ...</td>\n",
       "      <td>0</td>\n",
       "    </tr>\n",
       "  </tbody>\n",
       "</table>\n",
       "</div>"
      ],
      "text/plain": [
       "            q_sentence  q_sentence_nr   manifesto_id  main_codes  label  \\\n",
       "0  OUR VISION AND PLAN              1  181310_201405          -1      0   \n",
       "\n",
       "   original_index  \\\n",
       "0          192831   \n",
       "\n",
       "                                                                         input_ids  \\\n",
       "0  [0, 14257, 468, 36296, 4248, 37330, 2, 2, 14257, 468, 36296, 4248, 37330, 10...   \n",
       "\n",
       "                                                                    attention_mask  \\\n",
       "0  [1, 1, 1, 1, 1, 1, 1, 1, 1, 1, 1, 1, 1, 1, 1, 1, 1, 1, 1, 1, 1, 1, 1, 1, 1, ...   \n",
       "\n",
       "   preds  \n",
       "0      0  "
      ]
     },
     "execution_count": 72,
     "metadata": {},
     "output_type": "execute_result"
    }
   ],
   "source": [
    "df_test.head(1)"
   ]
  },
  {
   "cell_type": "markdown",
   "metadata": {},
   "source": [
    "### Test predictions (NonGreen): How well does the model perform? Are the predictions significantly different than the actual codes regarding environmental protection?\n"
   ]
  },
  {
   "cell_type": "code",
   "execution_count": 73,
   "metadata": {},
   "outputs": [
    {
     "name": "stdout",
     "output_type": "stream",
     "text": [
      "Test set accuracy: 0.975929978118162\n",
      "Test set precision: 0.6751497005988024\n",
      "Test set recall: 0.7769164513350559\n",
      "Test set F1-score: 0.722466960352423\n"
     ]
    }
   ],
   "source": [
    "print(\"Test set accuracy:\", accuracy_score(df_test[\"label\"], df_test[\"preds\"]))\n",
    "print(\"Test set precision:\", precision_score(df_test[\"label\"], df_test[\"preds\"]))\n",
    "print(\"Test set recall:\", recall_score(df_test[\"label\"], df_test[\"preds\"]))\n",
    "print(\"Test set F1-score:\", f1_score(df_test[\"label\"], df_test[\"preds\"]))"
   ]
  },
  {
   "cell_type": "code",
   "execution_count": 74,
   "metadata": {},
   "outputs": [
    {
     "name": "stdout",
     "output_type": "stream",
     "text": [
      "Percentage of target code in the training data: 0.03909026297085998\n",
      "Percentage of target code in real codes: 0.0403251015942482\n",
      "Percentage of target code in predicted codes: 0.04640338994824772\n"
     ]
    }
   ],
   "source": [
    "print(\"Percentage of target code in the training data:\", df_train[df_train[\"green_code\"] == 1].shape[0]/df_train.shape[0])\n",
    "print(\"Percentage of target code in real codes:\", df_test[df_test[\"label\"] == 1].shape[0]/df_test.shape[0])\n",
    "print(\"Percentage of target code in predicted codes:\", df_test[df_test[\"preds\"] == 1].shape[0]/df_test.shape[0])"
   ]
  },
  {
   "cell_type": "code",
   "execution_count": 75,
   "metadata": {},
   "outputs": [
    {
     "name": "stdout",
     "output_type": "stream",
     "text": [
      "[[True Neg -- False Pos]\n",
      "[ False Neg -- True Pos]]\n",
      "\n",
      "Absolut confusion matrix\n",
      " [[27196   434]\n",
      " [  259   902]]\n"
     ]
    }
   ],
   "source": [
    "#                    Pred. Neg:   Pred. Pos\n",
    "#    Real Neg:       True Neg --- False Pos\n",
    "#    Real Pos:       False Neg --- True Pos\n",
    "print(\"[[True Neg -- False Pos]\\n[ False Neg -- True Pos]]\")\n",
    "print(\"\\nAbsolut confusion matrix\\n\", confusion_matrix(df_test[\"label\"], df_test[\"preds\"]))\n",
    "#print(\"Relativ confusion matrix\\n\", confusion_matrix(df_test[\"label\"], df_test[\"preds\"])/df_test.shape[0])"
   ]
  },
  {
   "cell_type": "code",
   "execution_count": 76,
   "metadata": {},
   "outputs": [
    {
     "data": {
      "text/plain": [
       "main_codes\n",
       " 416    0.308756\n",
       " 703    0.122120\n",
       " 411    0.071429\n",
       " 303    0.055300\n",
       "-1      0.048387\n",
       " 107    0.043779\n",
       " 410    0.032258\n",
       " 202    0.032258\n",
       " 502    0.029954\n",
       " 601    0.027650\n",
       " 302    0.023041\n",
       " 605    0.023041\n",
       " 402    0.016129\n",
       " 305    0.016129\n",
       " 401    0.016129\n",
       " 403    0.013825\n",
       " 301    0.013825\n",
       " 606    0.011521\n",
       " 503    0.011521\n",
       " 414    0.011521\n",
       " 201    0.009217\n",
       " 701    0.006912\n",
       " 406    0.006912\n",
       " 603    0.006912\n",
       " 0      0.004608\n",
       " 404    0.004608\n",
       " 607    0.004608\n",
       " 108    0.004608\n",
       " 304    0.004608\n",
       " 412    0.002304\n",
       " 407    0.002304\n",
       " 504    0.002304\n",
       " 102    0.002304\n",
       " 109    0.002304\n",
       " 706    0.002304\n",
       " 413    0.002304\n",
       " 506    0.002304\n",
       "Name: count, dtype: float64"
      ]
     },
     "execution_count": 76,
     "metadata": {},
     "output_type": "execute_result"
    }
   ],
   "source": [
    "# Better look at the False Positives: What real codes do they have?\n",
    "df_false_pos = df_test[(df_test[\"preds\"] == 1) & (df_test[\"label\"] == 0)]\n",
    "codes_distributions = df_false_pos[\"main_codes\"].value_counts()/df_false_pos.shape[0]\n",
    "codes_distributions"
   ]
  },
  {
   "cell_type": "code",
   "execution_count": 78,
   "metadata": {},
   "outputs": [
    {
     "data": {
      "image/png": "[encoded data removed]",
      "text/plain": [
       "<Figure size 700x400 with 1 Axes>"
      ]
     },
     "metadata": {},
     "output_type": "display_data"
    }
   ],
   "source": [
    "# Create a bar plot\n",
    "plt.figure(figsize=(7, 4))\n",
    "codes_distributions[0:5].plot(kind='bar')\n",
    "\n",
    "# Add labels and title\n",
    "plt.xlabel('Codes')\n",
    "plt.ylabel('Frequency')\n",
    "plt.title('Distribution of real codes for false positives in Non-Green Model test set')\n",
    "\n",
    "# Show the plot\n",
    "plt.show()"
   ]
  },
  {
   "cell_type": "code",
   "execution_count": 79,
   "metadata": {},
   "outputs": [
    {
     "data": {
      "text/html": [
       "<div>\n",
       "<style scoped>\n",
       "    .dataframe tbody tr th:only-of-type {\n",
       "        vertical-align: middle;\n",
       "    }\n",
       "\n",
       "    .dataframe tbody tr th {\n",
       "        vertical-align: top;\n",
       "    }\n",
       "\n",
       "    .dataframe thead th {\n",
       "        text-align: right;\n",
       "    }\n",
       "</style>\n",
       "<table border=\"1\" class=\"dataframe\">\n",
       "  <thead>\n",
       "    <tr style=\"text-align: right;\">\n",
       "      <th></th>\n",
       "      <th>q_sentence</th>\n",
       "      <th>q_sentence_nr</th>\n",
       "      <th>manifesto_id</th>\n",
       "      <th>main_codes</th>\n",
       "      <th>label</th>\n",
       "      <th>original_index</th>\n",
       "      <th>input_ids</th>\n",
       "      <th>attention_mask</th>\n",
       "      <th>preds</th>\n",
       "    </tr>\n",
       "  </thead>\n",
       "  <tbody>\n",
       "    <tr>\n",
       "      <th>1247</th>\n",
       "      <td>Public transport must also make it possible for people to reduce their use o...</td>\n",
       "      <td>521</td>\n",
       "      <td>181411_201405</td>\n",
       "      <td>411</td>\n",
       "      <td>0</td>\n",
       "      <td>194078</td>\n",
       "      <td>[0, 22649, 4240, 531, 67, 146, 24, 678, 13, 82, 7, 1888, 49, 304, 9, 940, 17...</td>\n",
       "      <td>[1, 1, 1, 1, 1, 1, 1, 1, 1, 1, 1, 1, 1, 1, 1, 1, 1, 1, 1, 1, 1, 1, 1, 1, 1, ...</td>\n",
       "      <td>1</td>\n",
       "    </tr>\n",
       "    <tr>\n",
       "      <th>3348</th>\n",
       "      <td>Audit the existing UK flooding infrastructure to establish which areas need ...</td>\n",
       "      <td>307</td>\n",
       "      <td>51430_201912</td>\n",
       "      <td>411</td>\n",
       "      <td>0</td>\n",
       "      <td>30425</td>\n",
       "      <td>[0, 37779, 405, 5, 2210, 987, 5681, 2112, 7, 5242, 61, 911, 240, 3887, 915, ...</td>\n",
       "      <td>[1, 1, 1, 1, 1, 1, 1, 1, 1, 1, 1, 1, 1, 1, 1, 1, 1, 1, 1, 1, 1, 1, 1, 1, 1, ...</td>\n",
       "      <td>1</td>\n",
       "    </tr>\n",
       "    <tr>\n",
       "      <th>7350</th>\n",
       "      <td>Despite the rhetoric, environmental destruction is continuing apace. We call...</td>\n",
       "      <td>104</td>\n",
       "      <td>53250_201602</td>\n",
       "      <td>411</td>\n",
       "      <td>0</td>\n",
       "      <td>56197</td>\n",
       "      <td>[0, 15243, 5, 8770, 6, 3039, 8181, 16, 3348, 6256, 4450, 4, 166, 486, 13, 53...</td>\n",
       "      <td>[1, 1, 1, 1, 1, 1, 1, 1, 1, 1, 1, 1, 1, 1, 1, 1, 1, 1, 1, 1, 1, 1, 1, 1, 1, ...</td>\n",
       "      <td>1</td>\n",
       "    </tr>\n",
       "    <tr>\n",
       "      <th>9258</th>\n",
       "      <td>We will prioritise the establishment of an all-Ireland animal health system ...</td>\n",
       "      <td>57</td>\n",
       "      <td>53520_200705</td>\n",
       "      <td>411</td>\n",
       "      <td>0</td>\n",
       "      <td>41457</td>\n",
       "      <td>[0, 170, 40, 13993, 1496, 5, 7147, 9, 41, 70, 12, 26737, 3477, 474, 467, 11,...</td>\n",
       "      <td>[1, 1, 1, 1, 1, 1, 1, 1, 1, 1, 1, 1, 1, 1, 1, 1, 1, 1, 1, 1, 1, 1, 1, 1, 1, ...</td>\n",
       "      <td>1</td>\n",
       "    </tr>\n",
       "    <tr>\n",
       "      <th>10079</th>\n",
       "      <td>We will place a requirement on all public transport vehicles and public serv...</td>\n",
       "      <td>878</td>\n",
       "      <td>53520_200705</td>\n",
       "      <td>411</td>\n",
       "      <td>0</td>\n",
       "      <td>42278</td>\n",
       "      <td>[0, 170, 40, 317, 10, 7404, 15, 70, 285, 4240, 1734, 8, 285, 544, 1734, 7, 1...</td>\n",
       "      <td>[1, 1, 1, 1, 1, 1, 1, 1, 1, 1, 1, 1, 1, 1, 1, 1, 1, 1, 1, 1, 1, 1, 1, 1, 1, ...</td>\n",
       "      <td>1</td>\n",
       "    </tr>\n",
       "  </tbody>\n",
       "</table>\n",
       "</div>"
      ],
      "text/plain": [
       "                                                                            q_sentence  \\\n",
       "1247   Public transport must also make it possible for people to reduce their use o...   \n",
       "3348   Audit the existing UK flooding infrastructure to establish which areas need ...   \n",
       "7350   Despite the rhetoric, environmental destruction is continuing apace. We call...   \n",
       "9258   We will prioritise the establishment of an all-Ireland animal health system ...   \n",
       "10079  We will place a requirement on all public transport vehicles and public serv...   \n",
       "\n",
       "       q_sentence_nr   manifesto_id  main_codes  label  original_index  \\\n",
       "1247             521  181411_201405         411      0          194078   \n",
       "3348             307   51430_201912         411      0           30425   \n",
       "7350             104   53250_201602         411      0           56197   \n",
       "9258              57   53520_200705         411      0           41457   \n",
       "10079            878   53520_200705         411      0           42278   \n",
       "\n",
       "                                                                             input_ids  \\\n",
       "1247   [0, 22649, 4240, 531, 67, 146, 24, 678, 13, 82, 7, 1888, 49, 304, 9, 940, 17...   \n",
       "3348   [0, 37779, 405, 5, 2210, 987, 5681, 2112, 7, 5242, 61, 911, 240, 3887, 915, ...   \n",
       "7350   [0, 15243, 5, 8770, 6, 3039, 8181, 16, 3348, 6256, 4450, 4, 166, 486, 13, 53...   \n",
       "9258   [0, 170, 40, 13993, 1496, 5, 7147, 9, 41, 70, 12, 26737, 3477, 474, 467, 11,...   \n",
       "10079  [0, 170, 40, 317, 10, 7404, 15, 70, 285, 4240, 1734, 8, 285, 544, 1734, 7, 1...   \n",
       "\n",
       "                                                                        attention_mask  \\\n",
       "1247   [1, 1, 1, 1, 1, 1, 1, 1, 1, 1, 1, 1, 1, 1, 1, 1, 1, 1, 1, 1, 1, 1, 1, 1, 1, ...   \n",
       "3348   [1, 1, 1, 1, 1, 1, 1, 1, 1, 1, 1, 1, 1, 1, 1, 1, 1, 1, 1, 1, 1, 1, 1, 1, 1, ...   \n",
       "7350   [1, 1, 1, 1, 1, 1, 1, 1, 1, 1, 1, 1, 1, 1, 1, 1, 1, 1, 1, 1, 1, 1, 1, 1, 1, ...   \n",
       "9258   [1, 1, 1, 1, 1, 1, 1, 1, 1, 1, 1, 1, 1, 1, 1, 1, 1, 1, 1, 1, 1, 1, 1, 1, 1, ...   \n",
       "10079  [1, 1, 1, 1, 1, 1, 1, 1, 1, 1, 1, 1, 1, 1, 1, 1, 1, 1, 1, 1, 1, 1, 1, 1, 1, ...   \n",
       "\n",
       "       preds  \n",
       "1247       1  \n",
       "3348       1  \n",
       "7350       1  \n",
       "9258       1  \n",
       "10079      1  "
      ]
     },
     "execution_count": 79,
     "metadata": {},
     "output_type": "execute_result"
    }
   ],
   "source": [
    "# looking at examples\n",
    "pd.set_option('display.max_colwidth', 80)\n",
    "target_code = 411\n",
    "df_false_pos[df_false_pos[\"main_codes\"] == target_code].head(5)"
   ]
  },
  {
   "cell_type": "code",
   "execution_count": 82,
   "metadata": {},
   "outputs": [
    {
     "data": {
      "text/html": [
       "<div>\n",
       "<style scoped>\n",
       "    .dataframe tbody tr th:only-of-type {\n",
       "        vertical-align: middle;\n",
       "    }\n",
       "\n",
       "    .dataframe tbody tr th {\n",
       "        vertical-align: top;\n",
       "    }\n",
       "\n",
       "    .dataframe thead th {\n",
       "        text-align: right;\n",
       "    }\n",
       "</style>\n",
       "<table border=\"1\" class=\"dataframe\">\n",
       "  <thead>\n",
       "    <tr style=\"text-align: right;\">\n",
       "      <th></th>\n",
       "      <th>Model</th>\n",
       "      <th>Coders</th>\n",
       "    </tr>\n",
       "  </thead>\n",
       "  <tbody>\n",
       "    <tr>\n",
       "      <th>0</th>\n",
       "      <td>27455</td>\n",
       "      <td>27630</td>\n",
       "    </tr>\n",
       "    <tr>\n",
       "      <th>1</th>\n",
       "      <td>1336</td>\n",
       "      <td>1161</td>\n",
       "    </tr>\n",
       "  </tbody>\n",
       "</table>\n",
       "</div>"
      ],
      "text/plain": [
       "   Model  Coders\n",
       "0  27455   27630\n",
       "1   1336    1161"
      ]
     },
     "execution_count": 82,
     "metadata": {},
     "output_type": "execute_result"
    }
   ],
   "source": [
    "# Testing whether the predictions significantly differ from the real codes\n",
    "\n",
    "# set up contingency table\n",
    "contingency_table = pd.DataFrame({#\"Group\": [\"# 501 codes\", \"# non-501 codes\"],\n",
    "                                  \"Model\": [df_test[df_test[\"preds\"] == 0].shape[0],\n",
    "                                            df_test[df_test[\"preds\"] == 1].shape[0]],\n",
    "                                  \"Coders\": [df_test[df_test[\"label\"] == 0].shape[0],\n",
    "                                             df_test[df_test[\"label\"] == 1].shape[0]]})\n",
    "\n",
    "\n",
    "contingency_table"
   ]
  },
  {
   "cell_type": "markdown",
   "metadata": {},
   "source": [
    "Our model overpredicts 501 already here."
   ]
  },
  {
   "cell_type": "code",
   "execution_count": 83,
   "metadata": {},
   "outputs": [
    {
     "data": {
      "text/plain": [
       "(12.674573249358794,\n",
       " 0.0003706618047049488,\n",
       " 1,\n",
       " array([[27542.5, 27542.5],\n",
       "        [ 1248.5,  1248.5]]))"
      ]
     },
     "execution_count": 83,
     "metadata": {},
     "output_type": "execute_result"
    }
   ],
   "source": [
    "chi2_contingency(contingency_table)"
   ]
  },
  {
   "cell_type": "markdown",
   "metadata": {},
   "source": [
    "So here the model does differ significantly from the predictions, but not an insane amount."
   ]
  },
  {
   "cell_type": "markdown",
   "metadata": {},
   "source": [
    "### Inference predictions (Non Green)"
   ]
  },
  {
   "cell_type": "code",
   "execution_count": 84,
   "metadata": {},
   "outputs": [
    {
     "name": "stdout",
     "output_type": "stream",
     "text": [
      "Inference set accuracy: 0.9094738651994498\n",
      "Inference set precision: 0.6907751091703057\n",
      "Inference set recall: 0.7223173515981736\n",
      "Inference set F1-score: 0.7061941964285715\n"
     ]
    }
   ],
   "source": [
    "print(\"Inference set accuracy:\", accuracy_score(df_inference[\"label\"], df_inference[\"preds\"]))\n",
    "print(\"Inference set precision:\", precision_score(df_inference[\"label\"], df_inference[\"preds\"]))\n",
    "print(\"Inference set recall:\", recall_score(df_inference[\"label\"], df_inference[\"preds\"]))\n",
    "print(\"Inference set F1-score:\", f1_score(df_inference[\"label\"], df_inference[\"preds\"]))"
   ]
  },
  {
   "cell_type": "code",
   "execution_count": 85,
   "metadata": {},
   "outputs": [
    {
     "name": "stdout",
     "output_type": "stream",
     "text": [
      "Percentage of target code in the training data: 0.03909026297085998\n",
      "Percentage of target code in real codes: 0.15061898211829436\n",
      "Percentage of target code in predicted codes: 0.1574965612104539\n"
     ]
    }
   ],
   "source": [
    "print(\"Percentage of target code in the training data:\", df_train[df_train[\"green_code\"] == 1].shape[0]/df_train.shape[0])\n",
    "print(\"Percentage of target code in real codes:\", df_inference[df_inference[\"label\"] == 1].shape[0]/df_inference.shape[0])\n",
    "print(\"Percentage of target code in predicted codes:\", df_inference[df_inference[\"preds\"] == 1].shape[0]/df_inference.shape[0])"
   ]
  },
  {
   "cell_type": "markdown",
   "metadata": {},
   "source": [
    "Very interesting that our model overpredicts in this case as well. We would definitely expect it to underpredict (if coders give less 501 codes to Non-Green parties)"
   ]
  },
  {
   "cell_type": "code",
   "execution_count": 86,
   "metadata": {},
   "outputs": [
    {
     "name": "stdout",
     "output_type": "stream",
     "text": [
      "[[True Neg -- False Pos]\n",
      "[ False Neg -- True Pos]]\n",
      "\n",
      "Absolut confusion matrix\n",
      " [[18627  1133]\n",
      " [  973  2531]]\n"
     ]
    }
   ],
   "source": [
    "#                    Pred. Neg:   Pred. Pos\n",
    "#    Real Neg:       True Neg --- False Pos\n",
    "#    Real Pos:       False Neg --- True Pos\n",
    "print(\"[[True Neg -- False Pos]\\n[ False Neg -- True Pos]]\")\n",
    "print(\"\\nAbsolut confusion matrix\\n\", confusion_matrix(df_inference[\"label\"], df_inference[\"preds\"]))\n",
    "#print(\"Relativ confusion matrix\\n\", confusion_matrix(df_test[\"label\"], df_test[\"preds\"])/df_test.shape[0])"
   ]
  },
  {
   "cell_type": "markdown",
   "metadata": {},
   "source": [
    "Looking at the False Negatives (need to look at the actual texts to find patterns) might be good!"
   ]
  },
  {
   "cell_type": "code",
   "execution_count": 87,
   "metadata": {},
   "outputs": [
    {
     "data": {
      "text/plain": [
       "main_codes\n",
       " 416    0.454545\n",
       " 107    0.068844\n",
       " 703    0.065313\n",
       " 411    0.052074\n",
       "-1      0.044131\n",
       " 410    0.034422\n",
       " 305    0.034422\n",
       " 403    0.029126\n",
       " 601    0.022948\n",
       " 504    0.019417\n",
       " 0      0.015887\n",
       " 503    0.013239\n",
       " 605    0.012357\n",
       " 301    0.012357\n",
       " 502    0.010591\n",
       " 408    0.010591\n",
       " 414    0.009709\n",
       " 302    0.007944\n",
       " 303    0.007944\n",
       " 506    0.007061\n",
       " 706    0.006178\n",
       " 406    0.006178\n",
       " 108    0.006178\n",
       " 607    0.005296\n",
       " 202    0.005296\n",
       " 606    0.005296\n",
       " 402    0.004413\n",
       " 401    0.004413\n",
       " 701    0.003530\n",
       " 412    0.002648\n",
       " 201    0.002648\n",
       " 105    0.002648\n",
       " 110    0.001765\n",
       " 705    0.001765\n",
       " 603    0.001765\n",
       " 602    0.001765\n",
       " 409    0.000883\n",
       " 407    0.000883\n",
       " 109    0.000883\n",
       " 106    0.000883\n",
       " 404    0.000883\n",
       " 104    0.000883\n",
       "Name: count, dtype: float64"
      ]
     },
     "execution_count": 87,
     "metadata": {},
     "output_type": "execute_result"
    }
   ],
   "source": [
    "# Better look at the False Positives: What real codes do they have?\n",
    "df_false_pos = df_inference[(df_inference[\"preds\"] == 1) & (df_inference[\"label\"] == 0)]\n",
    "codes_distributions = df_false_pos[\"main_codes\"].value_counts()/df_false_pos.shape[0]\n",
    "codes_distributions"
   ]
  },
  {
   "cell_type": "code",
   "execution_count": 88,
   "metadata": {},
   "outputs": [
    {
     "data": {
      "image/png": "[encoded data removed]",
      "text/plain": [
       "<Figure size 700x400 with 1 Axes>"
      ]
     },
     "metadata": {},
     "output_type": "display_data"
    }
   ],
   "source": [
    "# Create a bar plot\n",
    "plt.figure(figsize=(7, 4))\n",
    "codes_distributions[0:5].plot(kind='bar')\n",
    "\n",
    "# Add labels and title\n",
    "plt.xlabel('Codes')\n",
    "plt.ylabel('Frequency')\n",
    "plt.title('Distribution of real codes for false positives in Green Model inference set')\n",
    "\n",
    "# Show the plot\n",
    "plt.show()"
   ]
  },
  {
   "cell_type": "markdown",
   "metadata": {},
   "source": [
    "416 (anti-growth/sustainability): likely coded as 501 more often when party is Green!"
   ]
  },
  {
   "cell_type": "code",
   "execution_count": 89,
   "metadata": {},
   "outputs": [
    {
     "data": {
      "text/html": [
       "<div>\n",
       "<style scoped>\n",
       "    .dataframe tbody tr th:only-of-type {\n",
       "        vertical-align: middle;\n",
       "    }\n",
       "\n",
       "    .dataframe tbody tr th {\n",
       "        vertical-align: top;\n",
       "    }\n",
       "\n",
       "    .dataframe thead th {\n",
       "        text-align: right;\n",
       "    }\n",
       "</style>\n",
       "<table border=\"1\" class=\"dataframe\">\n",
       "  <thead>\n",
       "    <tr style=\"text-align: right;\">\n",
       "      <th></th>\n",
       "      <th>q_sentence</th>\n",
       "      <th>q_sentence_nr</th>\n",
       "      <th>manifesto_id</th>\n",
       "      <th>main_codes</th>\n",
       "      <th>label</th>\n",
       "      <th>original_index</th>\n",
       "      <th>input_ids</th>\n",
       "      <th>attention_mask</th>\n",
       "      <th>preds</th>\n",
       "    </tr>\n",
       "  </thead>\n",
       "  <tbody>\n",
       "    <tr>\n",
       "      <th>149</th>\n",
       "      <td>that operates within the Earth’s resource limits.</td>\n",
       "      <td>150</td>\n",
       "      <td>51110_201505</td>\n",
       "      <td>416</td>\n",
       "      <td>0</td>\n",
       "      <td>4599</td>\n",
       "      <td>[0, 6025, 4497, 624, 5, 3875, 17, 27, 29, 5799, 4971, 4, 2, 2, 8232, 6, 1363...</td>\n",
       "      <td>[1, 1, 1, 1, 1, 1, 1, 1, 1, 1, 1, 1, 1, 1, 1, 1, 1, 1, 1, 1, 1, 1, 1, 1, 1, ...</td>\n",
       "      <td>1</td>\n",
       "    </tr>\n",
       "    <tr>\n",
       "      <th>308</th>\n",
       "      <td>The rich and powerful, in particular, have spent too long treating the Earth...</td>\n",
       "      <td>309</td>\n",
       "      <td>51110_201505</td>\n",
       "      <td>416</td>\n",
       "      <td>0</td>\n",
       "      <td>4758</td>\n",
       "      <td>[0, 133, 4066, 8, 2247, 6, 11, 1989, 6, 33, 1240, 350, 251, 8959, 5, 3875, 1...</td>\n",
       "      <td>[1, 1, 1, 1, 1, 1, 1, 1, 1, 1, 1, 1, 1, 1, 1, 1, 1, 1, 1, 1, 1, 1, 1, 1, 1, ...</td>\n",
       "      <td>1</td>\n",
       "    </tr>\n",
       "    <tr>\n",
       "      <th>361</th>\n",
       "      <td>Prohibit developers from being allowed to destroy unique habitats by way of ...</td>\n",
       "      <td>362</td>\n",
       "      <td>51110_201505</td>\n",
       "      <td>416</td>\n",
       "      <td>0</td>\n",
       "      <td>4811</td>\n",
       "      <td>[0, 10653, 45529, 5485, 31, 145, 1220, 7, 8439, 2216, 29073, 30, 169, 9, 288...</td>\n",
       "      <td>[1, 1, 1, 1, 1, 1, 1, 1, 1, 1, 1, 1, 1, 1, 1, 1, 1, 1, 1, 1, 1, 1, 1, 1, 1, ...</td>\n",
       "      <td>1</td>\n",
       "    </tr>\n",
       "    <tr>\n",
       "      <th>371</th>\n",
       "      <td>This comes with great ‘external costs’ to the environment, human health, far...</td>\n",
       "      <td>372</td>\n",
       "      <td>51110_201505</td>\n",
       "      <td>416</td>\n",
       "      <td>0</td>\n",
       "      <td>4821</td>\n",
       "      <td>[0, 713, 606, 19, 372, 44, 711, 43166, 1042, 17, 27, 7, 5, 1737, 6, 1050, 47...</td>\n",
       "      <td>[1, 1, 1, 1, 1, 1, 1, 1, 1, 1, 1, 1, 1, 1, 1, 1, 1, 1, 1, 1, 1, 1, 1, 1, 1, ...</td>\n",
       "      <td>1</td>\n",
       "    </tr>\n",
       "    <tr>\n",
       "      <th>372</th>\n",
       "      <td>Soil erosion, depletion of water resources, pollution, loss of biodiversity ...</td>\n",
       "      <td>373</td>\n",
       "      <td>51110_201505</td>\n",
       "      <td>416</td>\n",
       "      <td>0</td>\n",
       "      <td>4822</td>\n",
       "      <td>[0, 2847, 718, 19407, 6, 39309, 9, 514, 1915, 6, 6631, 6, 872, 9, 28809, 8, ...</td>\n",
       "      <td>[1, 1, 1, 1, 1, 1, 1, 1, 1, 1, 1, 1, 1, 1, 1, 1, 1, 1, 1, 1, 1, 1, 1, 1, 1, ...</td>\n",
       "      <td>1</td>\n",
       "    </tr>\n",
       "  </tbody>\n",
       "</table>\n",
       "</div>"
      ],
      "text/plain": [
       "                                                                          q_sentence  \\\n",
       "149                                that operates within the Earth’s resource limits.   \n",
       "308  The rich and powerful, in particular, have spent too long treating the Earth...   \n",
       "361  Prohibit developers from being allowed to destroy unique habitats by way of ...   \n",
       "371  This comes with great ‘external costs’ to the environment, human health, far...   \n",
       "372  Soil erosion, depletion of water resources, pollution, loss of biodiversity ...   \n",
       "\n",
       "     q_sentence_nr  manifesto_id  main_codes  label  original_index  \\\n",
       "149            150  51110_201505         416      0            4599   \n",
       "308            309  51110_201505         416      0            4758   \n",
       "361            362  51110_201505         416      0            4811   \n",
       "371            372  51110_201505         416      0            4821   \n",
       "372            373  51110_201505         416      0            4822   \n",
       "\n",
       "                                                                           input_ids  \\\n",
       "149  [0, 6025, 4497, 624, 5, 3875, 17, 27, 29, 5799, 4971, 4, 2, 2, 8232, 6, 1363...   \n",
       "308  [0, 133, 4066, 8, 2247, 6, 11, 1989, 6, 33, 1240, 350, 251, 8959, 5, 3875, 1...   \n",
       "361  [0, 10653, 45529, 5485, 31, 145, 1220, 7, 8439, 2216, 29073, 30, 169, 9, 288...   \n",
       "371  [0, 713, 606, 19, 372, 44, 711, 43166, 1042, 17, 27, 7, 5, 1737, 6, 1050, 47...   \n",
       "372  [0, 2847, 718, 19407, 6, 39309, 9, 514, 1915, 6, 6631, 6, 872, 9, 28809, 8, ...   \n",
       "\n",
       "                                                                      attention_mask  \\\n",
       "149  [1, 1, 1, 1, 1, 1, 1, 1, 1, 1, 1, 1, 1, 1, 1, 1, 1, 1, 1, 1, 1, 1, 1, 1, 1, ...   \n",
       "308  [1, 1, 1, 1, 1, 1, 1, 1, 1, 1, 1, 1, 1, 1, 1, 1, 1, 1, 1, 1, 1, 1, 1, 1, 1, ...   \n",
       "361  [1, 1, 1, 1, 1, 1, 1, 1, 1, 1, 1, 1, 1, 1, 1, 1, 1, 1, 1, 1, 1, 1, 1, 1, 1, ...   \n",
       "371  [1, 1, 1, 1, 1, 1, 1, 1, 1, 1, 1, 1, 1, 1, 1, 1, 1, 1, 1, 1, 1, 1, 1, 1, 1, ...   \n",
       "372  [1, 1, 1, 1, 1, 1, 1, 1, 1, 1, 1, 1, 1, 1, 1, 1, 1, 1, 1, 1, 1, 1, 1, 1, 1, ...   \n",
       "\n",
       "     preds  \n",
       "149      1  \n",
       "308      1  \n",
       "361      1  \n",
       "371      1  \n",
       "372      1  "
      ]
     },
     "execution_count": 89,
     "metadata": {},
     "output_type": "execute_result"
    }
   ],
   "source": [
    "# looking at examples\n",
    "pd.set_option('display.max_colwidth', 80)\n",
    "target_code = 416\n",
    "df_false_pos[df_false_pos[\"main_codes\"] == target_code].head(5)"
   ]
  },
  {
   "cell_type": "code",
   "execution_count": 90,
   "metadata": {},
   "outputs": [
    {
     "data": {
      "text/html": [
       "<div>\n",
       "<style scoped>\n",
       "    .dataframe tbody tr th:only-of-type {\n",
       "        vertical-align: middle;\n",
       "    }\n",
       "\n",
       "    .dataframe tbody tr th {\n",
       "        vertical-align: top;\n",
       "    }\n",
       "\n",
       "    .dataframe thead th {\n",
       "        text-align: right;\n",
       "    }\n",
       "</style>\n",
       "<table border=\"1\" class=\"dataframe\">\n",
       "  <thead>\n",
       "    <tr style=\"text-align: right;\">\n",
       "      <th></th>\n",
       "      <th>Model</th>\n",
       "      <th>Coders</th>\n",
       "    </tr>\n",
       "  </thead>\n",
       "  <tbody>\n",
       "    <tr>\n",
       "      <th>0</th>\n",
       "      <td>19600</td>\n",
       "      <td>19760</td>\n",
       "    </tr>\n",
       "    <tr>\n",
       "      <th>1</th>\n",
       "      <td>3664</td>\n",
       "      <td>3504</td>\n",
       "    </tr>\n",
       "  </tbody>\n",
       "</table>\n",
       "</div>"
      ],
      "text/plain": [
       "   Model  Coders\n",
       "0  19600   19760\n",
       "1   3664    3504"
      ]
     },
     "execution_count": 90,
     "metadata": {},
     "output_type": "execute_result"
    }
   ],
   "source": [
    "# Testing whether the predictions significantly differ from the real codes\n",
    "\n",
    "# set up contingency table\n",
    "contingency_table = pd.DataFrame({#\"Group\": [\"# 501 codes\", \"# non-501 codes\"],\n",
    "                                  \"Model\": [df_inference[df_inference[\"preds\"] == 0].shape[0],\n",
    "                                            df_inference[df_inference[\"preds\"] == 1].shape[0]],\n",
    "                                  \"Coders\": [df_inference[df_inference[\"label\"] == 0].shape[0],\n",
    "                                             df_inference[df_inference[\"label\"] == 1].shape[0]]})\n",
    "\n",
    "\n",
    "contingency_table"
   ]
  },
  {
   "cell_type": "markdown",
   "metadata": {},
   "source": [
    "We are predicting MORE environmental codes compared to the coders. This is not what we would expect tbh..."
   ]
  },
  {
   "cell_type": "code",
   "execution_count": 91,
   "metadata": {},
   "outputs": [
    {
     "data": {
      "text/plain": [
       "(4.169227052482578,\n",
       " 0.041164575177359976,\n",
       " 1,\n",
       " array([[19680., 19680.],\n",
       "        [ 3584.,  3584.]]))"
      ]
     },
     "execution_count": 91,
     "metadata": {},
     "output_type": "execute_result"
    }
   ],
   "source": [
    "chi2_contingency(contingency_table)"
   ]
  },
  {
   "cell_type": "markdown",
   "metadata": {},
   "source": [
    "This is less significantly different than when comparing to the test set, also not what we would expect."
   ]
  }
 ],
 "metadata": {
  "kernelspec": {
   "display_name": "Python 3",
   "language": "python",
   "name": "python3"
  },
  "language_info": {
   "codemirror_mode": {
    "name": "ipython",
    "version": 3
   },
   "file_extension": ".py",
   "mimetype": "text/x-python",
   "name": "python",
   "nbconvert_exporter": "python",
   "pygments_lexer": "ipython3",
   "version": "3.10.4"
  }
 },
 "nbformat": 4,
 "nbformat_minor": 2
}
