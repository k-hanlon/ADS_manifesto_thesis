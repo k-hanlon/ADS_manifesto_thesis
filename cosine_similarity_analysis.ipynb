{
 "cells": [
  {
   "cell_type": "markdown",
   "metadata": {},
   "source": [
    "Prepare and analyze the cosine similarity results"
   ]
  },
  {
   "cell_type": "code",
   "execution_count": 1,
   "metadata": {},
   "outputs": [],
   "source": [
    "import numpy as np\n",
    "import pandas as pd\n",
    "from scipy.sparse import csr_matrix\n",
    "from scipy.sparse import coo_matrix\n",
    "from scipy.sparse import save_npz, load_npz"
   ]
  },
  {
   "cell_type": "code",
   "execution_count": 55,
   "metadata": {},
   "outputs": [],
   "source": [
    "# load the sparse matrix with the extreme similarity values:\n",
    "cs_sparse = load_npz('data/cos_sim_output_08_mpnet.npz')\n",
    "\n",
    "# also load the full corpus df, so that we can add create a df with q_sentences, information and their similarity score for extreme values\n",
    "corpus_df_full = pd.read_csv(\"data/english_annotated_full_df.csv\")"
   ]
  },
  {
   "cell_type": "code",
   "execution_count": 56,
   "metadata": {},
   "outputs": [
    {
     "data": {
      "text/plain": [
       "<202187x202187 sparse matrix of type '<class 'numpy.float32'>'\n",
       "\twith 379546 stored elements in Compressed Sparse Row format>"
      ]
     },
     "execution_count": 56,
     "metadata": {},
     "output_type": "execute_result"
    }
   ],
   "source": [
    "cs_sparse"
   ]
  },
  {
   "cell_type": "code",
   "execution_count": 57,
   "metadata": {},
   "outputs": [],
   "source": [
    "# convert the sparse matrix into a useful df:\n",
    "cs_sparse = coo_matrix(cs_sparse)\n",
    "data = {\n",
    "    'index_x': cs_sparse.row,\n",
    "    'index_y': cs_sparse.col,\n",
    "    'cosine_similarity': cs_sparse.data\n",
    "}\n",
    "cosine_sim_df = pd.DataFrame(data)"
   ]
  },
  {
   "cell_type": "code",
   "execution_count": 58,
   "metadata": {},
   "outputs": [
    {
     "data": {
      "text/html": [
       "<div>\n",
       "<style scoped>\n",
       "    .dataframe tbody tr th:only-of-type {\n",
       "        vertical-align: middle;\n",
       "    }\n",
       "\n",
       "    .dataframe tbody tr th {\n",
       "        vertical-align: top;\n",
       "    }\n",
       "\n",
       "    .dataframe thead th {\n",
       "        text-align: right;\n",
       "    }\n",
       "</style>\n",
       "<table border=\"1\" class=\"dataframe\">\n",
       "  <thead>\n",
       "    <tr style=\"text-align: right;\">\n",
       "      <th></th>\n",
       "      <th>index_x</th>\n",
       "      <th>index_y</th>\n",
       "      <th>cosine_similarity</th>\n",
       "    </tr>\n",
       "  </thead>\n",
       "  <tbody>\n",
       "    <tr>\n",
       "      <th>0</th>\n",
       "      <td>7</td>\n",
       "      <td>9</td>\n",
       "      <td>0.851987</td>\n",
       "    </tr>\n",
       "    <tr>\n",
       "      <th>1</th>\n",
       "      <td>7</td>\n",
       "      <td>119</td>\n",
       "      <td>0.903366</td>\n",
       "    </tr>\n",
       "  </tbody>\n",
       "</table>\n",
       "</div>"
      ],
      "text/plain": [
       "   index_x  index_y  cosine_similarity\n",
       "0        7        9           0.851987\n",
       "1        7      119           0.903366"
      ]
     },
     "execution_count": 58,
     "metadata": {},
     "output_type": "execute_result"
    }
   ],
   "source": [
    "cosine_sim_df.head(2)"
   ]
  },
  {
   "cell_type": "code",
   "execution_count": 59,
   "metadata": {},
   "outputs": [],
   "source": [
    "corpus_df = corpus_df_full[['q_sentence', 'main_codes', 'coderid', 'manifesto_id', 'party', 'date',\n",
    "        'title', 'countryname', 'partyname', 'RILE']]"
   ]
  },
  {
   "cell_type": "code",
   "execution_count": 60,
   "metadata": {},
   "outputs": [],
   "source": [
    "# append the columns from the corpus_df, so that we get the info for both quasi sentences\n",
    "cosine_sim_df = pd.merge(cosine_sim_df, corpus_df, left_on='index_x', right_index=True, how='left')\n",
    "cosine_sim_df = pd.merge(cosine_sim_df, corpus_df, left_on='index_y', right_index=True, how='left')"
   ]
  },
  {
   "cell_type": "code",
   "execution_count": 51,
   "metadata": {},
   "outputs": [
    {
     "data": {
      "text/html": [
       "<div>\n",
       "<style scoped>\n",
       "    .dataframe tbody tr th:only-of-type {\n",
       "        vertical-align: middle;\n",
       "    }\n",
       "\n",
       "    .dataframe tbody tr th {\n",
       "        vertical-align: top;\n",
       "    }\n",
       "\n",
       "    .dataframe thead th {\n",
       "        text-align: right;\n",
       "    }\n",
       "</style>\n",
       "<table border=\"1\" class=\"dataframe\">\n",
       "  <thead>\n",
       "    <tr style=\"text-align: right;\">\n",
       "      <th></th>\n",
       "      <th>index_x</th>\n",
       "      <th>index_y</th>\n",
       "      <th>cosine_similarity</th>\n",
       "      <th>q_sentence_x</th>\n",
       "      <th>manifesto_id_x</th>\n",
       "      <th>party_x</th>\n",
       "      <th>date_x</th>\n",
       "      <th>title_x</th>\n",
       "      <th>coderid_x</th>\n",
       "      <th>countryname_x</th>\n",
       "      <th>...</th>\n",
       "      <th>q_sentence_y</th>\n",
       "      <th>manifesto_id_y</th>\n",
       "      <th>party_y</th>\n",
       "      <th>date_y</th>\n",
       "      <th>title_y</th>\n",
       "      <th>coderid_y</th>\n",
       "      <th>countryname_y</th>\n",
       "      <th>partyname_y</th>\n",
       "      <th>main_codes_y</th>\n",
       "      <th>RILE_y</th>\n",
       "    </tr>\n",
       "  </thead>\n",
       "  <tbody>\n",
       "    <tr>\n",
       "      <th>0</th>\n",
       "      <td>7</td>\n",
       "      <td>9</td>\n",
       "      <td>0.851987</td>\n",
       "      <td>Our first priority is to:</td>\n",
       "      <td>51421_199705</td>\n",
       "      <td>51421</td>\n",
       "      <td>199705</td>\n",
       "      <td>Make the Difference</td>\n",
       "      <td>102</td>\n",
       "      <td>United Kingdom</td>\n",
       "      <td>...</td>\n",
       "      <td>Key priorities are to:</td>\n",
       "      <td>51421_199705</td>\n",
       "      <td>51421</td>\n",
       "      <td>199705</td>\n",
       "      <td>Make the Difference</td>\n",
       "      <td>102</td>\n",
       "      <td>United Kingdom</td>\n",
       "      <td>Liberal Democrats</td>\n",
       "      <td>-1</td>\n",
       "      <td>0</td>\n",
       "    </tr>\n",
       "    <tr>\n",
       "      <th>1</th>\n",
       "      <td>7</td>\n",
       "      <td>119</td>\n",
       "      <td>0.903366</td>\n",
       "      <td>Our first priority is to:</td>\n",
       "      <td>51421_199705</td>\n",
       "      <td>51421</td>\n",
       "      <td>199705</td>\n",
       "      <td>Make the Difference</td>\n",
       "      <td>102</td>\n",
       "      <td>United Kingdom</td>\n",
       "      <td>...</td>\n",
       "      <td>Our priorities are to:</td>\n",
       "      <td>51421_199705</td>\n",
       "      <td>51421</td>\n",
       "      <td>199705</td>\n",
       "      <td>Make the Difference</td>\n",
       "      <td>102</td>\n",
       "      <td>United Kingdom</td>\n",
       "      <td>Liberal Democrats</td>\n",
       "      <td>-1</td>\n",
       "      <td>0</td>\n",
       "    </tr>\n",
       "    <tr>\n",
       "      <th>2</th>\n",
       "      <td>7</td>\n",
       "      <td>215</td>\n",
       "      <td>0.903366</td>\n",
       "      <td>Our first priority is to:</td>\n",
       "      <td>51421_199705</td>\n",
       "      <td>51421</td>\n",
       "      <td>199705</td>\n",
       "      <td>Make the Difference</td>\n",
       "      <td>102</td>\n",
       "      <td>United Kingdom</td>\n",
       "      <td>...</td>\n",
       "      <td>Our priorities are to:</td>\n",
       "      <td>51421_199705</td>\n",
       "      <td>51421</td>\n",
       "      <td>199705</td>\n",
       "      <td>Make the Difference</td>\n",
       "      <td>102</td>\n",
       "      <td>United Kingdom</td>\n",
       "      <td>Liberal Democrats</td>\n",
       "      <td>-1</td>\n",
       "      <td>0</td>\n",
       "    </tr>\n",
       "  </tbody>\n",
       "</table>\n",
       "<p>3 rows × 23 columns</p>\n",
       "</div>"
      ],
      "text/plain": [
       "   index_x  index_y  cosine_similarity               q_sentence_x  \\\n",
       "0        7        9           0.851987  Our first priority is to:   \n",
       "1        7      119           0.903366  Our first priority is to:   \n",
       "2        7      215           0.903366  Our first priority is to:   \n",
       "\n",
       "  manifesto_id_x  party_x  date_x              title_x  coderid_x  \\\n",
       "0   51421_199705    51421  199705  Make the Difference        102   \n",
       "1   51421_199705    51421  199705  Make the Difference        102   \n",
       "2   51421_199705    51421  199705  Make the Difference        102   \n",
       "\n",
       "    countryname_x  ...            q_sentence_y  manifesto_id_y  party_y  \\\n",
       "0  United Kingdom  ...  Key priorities are to:    51421_199705    51421   \n",
       "1  United Kingdom  ...  Our priorities are to:    51421_199705    51421   \n",
       "2  United Kingdom  ...  Our priorities are to:    51421_199705    51421   \n",
       "\n",
       "   date_y              title_y  coderid_y   countryname_y        partyname_y  \\\n",
       "0  199705  Make the Difference        102  United Kingdom  Liberal Democrats   \n",
       "1  199705  Make the Difference        102  United Kingdom  Liberal Democrats   \n",
       "2  199705  Make the Difference        102  United Kingdom  Liberal Democrats   \n",
       "\n",
       "   main_codes_y RILE_y  \n",
       "0            -1      0  \n",
       "1            -1      0  \n",
       "2            -1      0  \n",
       "\n",
       "[3 rows x 23 columns]"
      ]
     },
     "execution_count": 51,
     "metadata": {},
     "output_type": "execute_result"
    }
   ],
   "source": [
    "cosine_sim_df.head(3)"
   ]
  },
  {
   "cell_type": "code",
   "execution_count": 64,
   "metadata": {},
   "outputs": [
    {
     "data": {
      "text/plain": [
       "(0, 23)"
      ]
     },
     "execution_count": 64,
     "metadata": {},
     "output_type": "execute_result"
    }
   ],
   "source": [
    "# How many values do we have that are below -0.8?\n",
    "cosine_sim_df[cosine_sim_df[\"cosine_similarity\"] < 0].shape\n",
    "# --> none of them!"
   ]
  },
  {
   "cell_type": "code",
   "execution_count": 65,
   "metadata": {},
   "outputs": [
    {
     "data": {
      "text/plain": [
       "0.23964684122609645"
      ]
     },
     "execution_count": 65,
     "metadata": {},
     "output_type": "execute_result"
    }
   ],
   "source": [
    "# How often are codes not equal?\n",
    "len(cosine_sim_df[cosine_sim_df['main_codes_x'] != cosine_sim_df['main_codes_y']])/cosine_sim_df.shape[0]\n",
    "# --> about 24% of the similar codes (>0.8) are not equal, needs a closer look of course."
   ]
  },
  {
   "cell_type": "code",
   "execution_count": null,
   "metadata": {},
   "outputs": [],
   "source": []
  }
 ],
 "metadata": {
  "kernelspec": {
   "display_name": "Python 3",
   "language": "python",
   "name": "python3"
  },
  "language_info": {
   "codemirror_mode": {
    "name": "ipython",
    "version": 3
   },
   "file_extension": ".py",
   "mimetype": "text/x-python",
   "name": "python",
   "nbconvert_exporter": "python",
   "pygments_lexer": "ipython3",
   "version": "3.10.4"
  }
 },
 "nbformat": 4,
 "nbformat_minor": 2
}
