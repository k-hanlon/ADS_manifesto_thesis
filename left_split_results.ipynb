{
 "cells": [
  {
   "cell_type": "code",
   "execution_count": 1,
   "metadata": {},
   "outputs": [],
   "source": [
    "import numpy as np\n",
    "import pandas as pd\n",
    "from sklearn.metrics import accuracy_score, recall_score, f1_score, confusion_matrix, precision_score\n",
    "from scipy.stats import chi2_contingency\n",
    "import matplotlib.pyplot as plt\n",
    "import seaborn as sns"
   ]
  },
  {
   "cell_type": "markdown",
   "metadata": {},
   "source": [
    "### Analysis of the Left Model"
   ]
  },
  {
   "cell_type": "markdown",
   "metadata": {},
   "source": [
    "RILE:\n",
    "neutral = 0\n",
    "left = 1\n",
    "right = 2\n",
    "\n",
    "Parties:\n",
    "    center = 0\n",
    "    left = 1\n",
    "    right = 2"
   ]
  },
  {
   "cell_type": "code",
   "execution_count": 2,
   "metadata": {},
   "outputs": [],
   "source": [
    "df_test = pd.read_csv(\"data/model_splits/left_right_split/left_as_train/left_test_predictions.csv\")\n",
    "df_inference = pd.read_csv(\"data/model_splits/left_right_split/left_as_train/left_inference_right_predictions.csv\")\n",
    "df_inference_center = pd.read_csv(\"data/model_splits/left_right_split/left_as_train/left_inference_center_predictions.csv\")\n",
    "df_train = pd.read_csv(\"data/model_splits/left_right_split/left_as_train/train-00000-of-00001.csv\")"
   ]
  },
  {
   "cell_type": "code",
   "execution_count": 3,
   "metadata": {},
   "outputs": [
    {
     "data": {
      "text/plain": [
       "(12528, 9)"
      ]
     },
     "execution_count": 3,
     "metadata": {},
     "output_type": "execute_result"
    }
   ],
   "source": [
    "df_test.shape"
   ]
  },
  {
   "cell_type": "code",
   "execution_count": 4,
   "metadata": {},
   "outputs": [
    {
     "data": {
      "text/plain": [
       "(91672, 9)"
      ]
     },
     "execution_count": 4,
     "metadata": {},
     "output_type": "execute_result"
    }
   ],
   "source": [
    "df_inference.shape"
   ]
  },
  {
   "cell_type": "code",
   "execution_count": 5,
   "metadata": {},
   "outputs": [
    {
     "data": {
      "text/plain": [
       "(26525, 9)"
      ]
     },
     "execution_count": 5,
     "metadata": {},
     "output_type": "execute_result"
    }
   ],
   "source": [
    "df_inference_center.shape"
   ]
  },
  {
   "cell_type": "code",
   "execution_count": 6,
   "metadata": {},
   "outputs": [
    {
     "data": {
      "text/plain": [
       "(58067, 6)"
      ]
     },
     "execution_count": 6,
     "metadata": {},
     "output_type": "execute_result"
    }
   ],
   "source": [
    "df_train.shape"
   ]
  },
  {
   "cell_type": "code",
   "execution_count": 7,
   "metadata": {},
   "outputs": [
    {
     "data": {
      "text/html": [
       "<div>\n",
       "<style scoped>\n",
       "    .dataframe tbody tr th:only-of-type {\n",
       "        vertical-align: middle;\n",
       "    }\n",
       "\n",
       "    .dataframe tbody tr th {\n",
       "        vertical-align: top;\n",
       "    }\n",
       "\n",
       "    .dataframe thead th {\n",
       "        text-align: right;\n",
       "    }\n",
       "</style>\n",
       "<table border=\"1\" class=\"dataframe\">\n",
       "  <thead>\n",
       "    <tr style=\"text-align: right;\">\n",
       "      <th></th>\n",
       "      <th>q_sentence</th>\n",
       "      <th>q_sentence_nr</th>\n",
       "      <th>manifesto_id</th>\n",
       "      <th>main_codes</th>\n",
       "      <th>label</th>\n",
       "      <th>original_index</th>\n",
       "      <th>input_ids</th>\n",
       "      <th>attention_mask</th>\n",
       "      <th>preds</th>\n",
       "    </tr>\n",
       "  </thead>\n",
       "  <tbody>\n",
       "    <tr>\n",
       "      <th>0</th>\n",
       "      <td>OUR VISION AND PLAN</td>\n",
       "      <td>1</td>\n",
       "      <td>181310_201905</td>\n",
       "      <td>0</td>\n",
       "      <td>0</td>\n",
       "      <td>196238</td>\n",
       "      <td>[0, 14257, 468, 36296, 4248, 37330, 2, 2, 1425...</td>\n",
       "      <td>[1, 1, 1, 1, 1, 1, 1, 1, 1, 1, 1, 1, 1, 1, 1, ...</td>\n",
       "      <td>0</td>\n",
       "    </tr>\n",
       "  </tbody>\n",
       "</table>\n",
       "</div>"
      ],
      "text/plain": [
       "            q_sentence  q_sentence_nr   manifesto_id  main_codes  label  \\\n",
       "0  OUR VISION AND PLAN              1  181310_201905           0      0   \n",
       "\n",
       "   original_index                                          input_ids  \\\n",
       "0          196238  [0, 14257, 468, 36296, 4248, 37330, 2, 2, 1425...   \n",
       "\n",
       "                                      attention_mask  preds  \n",
       "0  [1, 1, 1, 1, 1, 1, 1, 1, 1, 1, 1, 1, 1, 1, 1, ...      0  "
      ]
     },
     "execution_count": 7,
     "metadata": {},
     "output_type": "execute_result"
    }
   ],
   "source": [
    "df_test.head(1)"
   ]
  },
  {
   "cell_type": "markdown",
   "metadata": {},
   "source": [
    "## Test predictions: How well does the model perform? Are the predictions significantly different than the actual codes regarding RILE?"
   ]
  },
  {
   "cell_type": "code",
   "execution_count": 8,
   "metadata": {},
   "outputs": [
    {
     "data": {
      "image/png": "[encoded data removed]",
      "text/plain": [
       "<Figure size 640x480 with 2 Axes>"
      ]
     },
     "metadata": {},
     "output_type": "display_data"
    }
   ],
   "source": [
    "# model training graph:\n",
    "val_f1s = [0.7050, 0.7093, 0.7035, 0.7061, 0.7004, 0.6936, 0.7046, 0.6979, 0.7019, 0.7046,\n",
    "           0.7030, 0.7085, 0.6997, 0.7046, 0.7032, 0.7036, 0.7038, 0.7072, 0.7051, 0.7066]\n",
    "val_loss = [0.6205, 0.7307, 0.8032, 1.0851, 1.3747, 1.7668, 1.7892, 2.0678, 2.2576, 2.2779,\n",
    "            2.4922, 2.6629, 2.7028, 2.7458, 2.7886, 2.9100, 2.8942, 2.9562, 3.0273, 3.0530]\n",
    "epochs = range(1,21)\n",
    "\n",
    "fig, ax1 = plt.subplots()\n",
    "\n",
    "# Plotting the first dataset with left y-axis\n",
    "ax1.plot(epochs, val_f1s, 'g-')\n",
    "ax1.set_xlabel('Epochs')\n",
    "ax1.set_ylabel('F1 Score (macro)', color='g')\n",
    "\n",
    "# Creating a second y-axis with shared x-axis\n",
    "ax2 = ax1.twinx()\n",
    "ax2.plot(epochs, val_loss, 'b-')\n",
    "ax2.set_ylabel('Validation Loss', color='b')\n",
    "\n",
    "# Setting x-axis ticks every two steps\n",
    "ax1.set_xticks(range(0, len(epochs)+1, 2))\n",
    "ax2.set_xticks(range(0, len(epochs)+1, 2))\n",
    "\n",
    "plt.title('Validation F1-Score and Validation Loss\\nfor Left Party Model training')\n",
    "plt.show()"
   ]
  },
  {
   "cell_type": "code",
   "execution_count": 9,
   "metadata": {},
   "outputs": [
    {
     "name": "stdout",
     "output_type": "stream",
     "text": [
      "Test set accuracy: 0.7851213282247765\n",
      "Test set precision: 0.7186944504350028\n",
      "Test set recall: 0.7363571459713937\n",
      "Test set F1-score: 0.7267660837498994\n"
     ]
    }
   ],
   "source": [
    "print(\"Test set accuracy:\", accuracy_score(df_test[\"label\"], df_test[\"preds\"]))\n",
    "print(\"Test set precision:\", precision_score(df_test[\"label\"], df_test[\"preds\"], average=\"macro\"))\n",
    "print(\"Test set recall:\", recall_score(df_test[\"label\"], df_test[\"preds\"], average=\"macro\"))\n",
    "print(\"Test set F1-score:\", f1_score(df_test[\"label\"], df_test[\"preds\"], average=\"macro\"))"
   ]
  },
  {
   "cell_type": "code",
   "execution_count": 10,
   "metadata": {},
   "outputs": [
    {
     "name": "stdout",
     "output_type": "stream",
     "text": [
      "RILE distribution in training data:\n"
     ]
    },
    {
     "data": {
      "text/plain": [
       "RILE\n",
       "0    0.545404\n",
       "1    0.322524\n",
       "2    0.132072\n",
       "Name: count, dtype: float64"
      ]
     },
     "execution_count": 10,
     "metadata": {},
     "output_type": "execute_result"
    }
   ],
   "source": [
    "print(\"RILE distribution in training data:\")\n",
    "df_train[\"RILE\"].value_counts()/df_train.shape[0]"
   ]
  },
  {
   "cell_type": "code",
   "execution_count": 11,
   "metadata": {},
   "outputs": [
    {
     "name": "stdout",
     "output_type": "stream",
     "text": [
      "RILE distribution in test predictions:\n"
     ]
    },
    {
     "data": {
      "text/plain": [
       "preds\n",
       "0    0.555316\n",
       "1    0.320003\n",
       "2    0.124681\n",
       "Name: count, dtype: float64"
      ]
     },
     "execution_count": 11,
     "metadata": {},
     "output_type": "execute_result"
    }
   ],
   "source": [
    "print(\"RILE distribution in test predictions:\")\n",
    "df_test[\"preds\"].value_counts()/df_test.shape[0]"
   ]
  },
  {
   "cell_type": "code",
   "execution_count": 12,
   "metadata": {},
   "outputs": [
    {
     "name": "stdout",
     "output_type": "stream",
     "text": [
      "RILE distribution in real test labels:\n"
     ]
    },
    {
     "data": {
      "text/plain": [
       "label\n",
       "0    0.582934\n",
       "1    0.303400\n",
       "2    0.113665\n",
       "Name: count, dtype: float64"
      ]
     },
     "execution_count": 12,
     "metadata": {},
     "output_type": "execute_result"
    }
   ],
   "source": [
    "print(\"RILE distribution in real test labels:\")\n",
    "df_test[\"label\"].value_counts()/df_test.shape[0]"
   ]
  },
  {
   "cell_type": "code",
   "execution_count": 13,
   "metadata": {},
   "outputs": [
    {
     "name": "stdout",
     "output_type": "stream",
     "text": [
      "                Pred. Neutral   Pred. Left  Pred. Right\n",
      "Real Neutral:\n",
      "Real Left:\n",
      "Real Right:\n",
      "\n",
      "Absolut confusion matrix\n",
      " [[6030  843  430]\n",
      " [ 603 2936  262]\n",
      " [ 324  230  870]]\n"
     ]
    }
   ],
   "source": [
    "#                    Pred. Neg:   Pred. Pos\n",
    "#    Real Neg:       True Neg --- False Pos\n",
    "#    Real Pos:       False Neg --- True Pos\n",
    "print(\"                Pred. Neutral   Pred. Left  Pred. Right\")\n",
    "print(\"Real Neutral:\")\n",
    "print(\"Real Left:\")\n",
    "print(\"Real Right:\")\n",
    "print(\"\\nAbsolut confusion matrix\\n\", confusion_matrix(df_test[\"label\"], df_test[\"preds\"]))\n",
    "#print(\"Relativ confusion matrix\\n\", confusion_matrix(df_test[\"label\"], df_test[\"preds\"])/df_test.shape[0])"
   ]
  },
  {
   "cell_type": "markdown",
   "metadata": {},
   "source": [
    "So, higher chance of predicting Neutral by mistake than going from left to right/right to left (makes sense!)"
   ]
  },
  {
   "cell_type": "code",
   "execution_count": 14,
   "metadata": {},
   "outputs": [
    {
     "name": "stdout",
     "output_type": "stream",
     "text": [
      "main_codes\n",
      "706    0.165890\n",
      "503    0.153774\n",
      "305    0.068966\n",
      "411    0.067102\n",
      "705    0.046598\n",
      "303    0.046598\n",
      "501    0.044734\n",
      "201    0.033551\n",
      "410    0.031687\n",
      "605    0.025163\n",
      "Name: count, dtype: float64\n"
     ]
    },
    {
     "data": {
      "image/png": "[encoded data removed]",
      "text/plain": [
       "<Figure size 700x400 with 1 Axes>"
      ]
     },
     "metadata": {},
     "output_type": "display_data"
    }
   ],
   "source": [
    "# Better look at the False Positives: PREDICTED LEFT but REAL RIGHT/CENTER\n",
    "df_false_pos = df_test[(df_test[\"preds\"] == 1) & (df_test[\"label\"] != 1)]\n",
    "codes_distributions = df_false_pos[\"main_codes\"].value_counts()/df_false_pos.shape[0]\n",
    "print(codes_distributions[0:10])\n",
    "\n",
    "# Create a bar plot\n",
    "plt.figure(figsize=(7, 4))\n",
    "codes_distributions[0:5].plot(kind='bar')\n",
    "\n",
    "# Add labels and title\n",
    "plt.xlabel('Codes')\n",
    "plt.ylabel('Frequency')\n",
    "plt.title('Distribution of real codes for false left predictions in Left Model test set')\n",
    "\n",
    "# Show the plot\n",
    "plt.show()"
   ]
  },
  {
   "cell_type": "markdown",
   "metadata": {},
   "source": [
    "--> 305 is a RIGHT code (Political Authority: Positive)"
   ]
  },
  {
   "cell_type": "code",
   "execution_count": 15,
   "metadata": {},
   "outputs": [
    {
     "data": {
      "text/html": [
       "<div>\n",
       "<style scoped>\n",
       "    .dataframe tbody tr th:only-of-type {\n",
       "        vertical-align: middle;\n",
       "    }\n",
       "\n",
       "    .dataframe tbody tr th {\n",
       "        vertical-align: top;\n",
       "    }\n",
       "\n",
       "    .dataframe thead th {\n",
       "        text-align: right;\n",
       "    }\n",
       "</style>\n",
       "<table border=\"1\" class=\"dataframe\">\n",
       "  <thead>\n",
       "    <tr style=\"text-align: right;\">\n",
       "      <th></th>\n",
       "      <th>q_sentence</th>\n",
       "      <th>q_sentence_nr</th>\n",
       "      <th>manifesto_id</th>\n",
       "      <th>main_codes</th>\n",
       "      <th>label</th>\n",
       "      <th>original_index</th>\n",
       "      <th>input_ids</th>\n",
       "      <th>attention_mask</th>\n",
       "      <th>preds</th>\n",
       "    </tr>\n",
       "  </thead>\n",
       "  <tbody>\n",
       "    <tr>\n",
       "      <th>10822</th>\n",
       "      <td>Under Rogemomics and Ruthenasia unemployment has almost trebled since 1984.</td>\n",
       "      <td>27</td>\n",
       "      <td>64321_199311</td>\n",
       "      <td>305</td>\n",
       "      <td>2</td>\n",
       "      <td>139949</td>\n",
       "      <td>[0, 17245, 19748, 991, 26382, 8, 18825, 2457, 19036, 5755, 34, 818, 6110, 10288, 187, 11724, 4, 2, 2, 133, 6529, 40, 797, 188, 3324, 518, 98, 4886, 3168, 109, 45, 14958, 188, 3324, 268, 4, 38664, ...</td>\n",
       "      <td>[1, 1, 1, 1, 1, 1, 1, 1, 1, 1, 1, 1, 1, 1, 1, 1, 1, 1, 1, 1, 1, 1, 1, 1, 1, 1, 1, 1, 1, 1, 1, 1, 1, 1, 1, 1, 1, 1, 1, 1, 1, 1, 1, 1, 1, 1, 1, 1, 1, 1, 1, 1, 1, 1, 1, 1, 1, 1, 1, 1, 1, 1, 1, 1, 1, ...</td>\n",
       "      <td>1</td>\n",
       "    </tr>\n",
       "    <tr>\n",
       "      <th>10831</th>\n",
       "      <td>Under the Labour Government unemployment doubled.</td>\n",
       "      <td>36</td>\n",
       "      <td>64321_199311</td>\n",
       "      <td>305</td>\n",
       "      <td>2</td>\n",
       "      <td>139958</td>\n",
       "      <td>[0, 17245, 5, 4165, 1621, 5755, 7113, 4, 2, 2, 40, 2968, 4894, 812, 124, 20693, 188, 3324, 18, 866, 7, 1733, 92, 14275, 6, 36427, 84, 35043, 268, 6, 1304, 8, 3197, 4, 25761, 154, 1583, 9, 92, 1315...</td>\n",
       "      <td>[1, 1, 1, 1, 1, 1, 1, 1, 1, 1, 1, 1, 1, 1, 1, 1, 1, 1, 1, 1, 1, 1, 1, 1, 1, 1, 1, 1, 1, 1, 1, 1, 1, 1, 1, 1, 1, 1, 1, 1, 1, 1, 1, 1, 1, 1, 1, 1, 1, 1, 1, 1, 1, 1, 1, 1, 1, 1, 1, 1, 1, 1, 1, 1, 1, ...</td>\n",
       "      <td>1</td>\n",
       "    </tr>\n",
       "    <tr>\n",
       "      <th>10832</th>\n",
       "      <td>Under National it has risen a farther 30%.</td>\n",
       "      <td>37</td>\n",
       "      <td>64321_199311</td>\n",
       "      <td>305</td>\n",
       "      <td>2</td>\n",
       "      <td>139959</td>\n",
       "      <td>[0, 17245, 496, 24, 34, 7408, 10, 18156, 389, 2153, 2, 2, 36427, 84, 35043, 268, 6, 1304, 8, 3197, 4, 25761, 154, 1583, 9, 92, 1315, 4, 133, 1065, 924, 141, 6, 8, 596, 6, 5, 4044, 11, 1408, 476, 2...</td>\n",
       "      <td>[1, 1, 1, 1, 1, 1, 1, 1, 1, 1, 1, 1, 1, 1, 1, 1, 1, 1, 1, 1, 1, 1, 1, 1, 1, 1, 1, 1, 1, 1, 1, 1, 1, 1, 1, 1, 1, 1, 1, 1, 1, 1, 1, 1, 1, 1, 1, 1, 1, 1, 1, 1, 1, 1, 1, 1, 1, 1, 1, 1, 1, 1, 1, 1, 1, ...</td>\n",
       "      <td>1</td>\n",
       "    </tr>\n",
       "    <tr>\n",
       "      <th>10872</th>\n",
       "      <td>And 300,000 jobless reckon there must be an alternative.</td>\n",
       "      <td>77</td>\n",
       "      <td>64321_199311</td>\n",
       "      <td>305</td>\n",
       "      <td>2</td>\n",
       "      <td>139999</td>\n",
       "      <td>[0, 2409, 2993, 6, 151, 633, 1672, 29057, 89, 531, 28, 41, 3626, 4, 2, 2, 5488, 32, 6533, 8, 1904, 8094, 4, 713, 16, 16894, 430, 31, 5, 22, 8766, 12, 3955, 113, 1548, 9, 97, 1799, 4, 133, 6035, 20...</td>\n",
       "      <td>[1, 1, 1, 1, 1, 1, 1, 1, 1, 1, 1, 1, 1, 1, 1, 1, 1, 1, 1, 1, 1, 1, 1, 1, 1, 1, 1, 1, 1, 1, 1, 1, 1, 1, 1, 1, 1, 1, 1, 1, 1, 1, 1, 1, 1, 1, 1, 1, 1, 1, 1, 1, 1, 1, 1, 1, 1, 1, 1, 1, 1, 1, 1, 1, 1, ...</td>\n",
       "      <td>1</td>\n",
       "    </tr>\n",
       "    <tr>\n",
       "      <th>10873</th>\n",
       "      <td>The Alliance is it.</td>\n",
       "      <td>78</td>\n",
       "      <td>64321_199311</td>\n",
       "      <td>305</td>\n",
       "      <td>2</td>\n",
       "      <td>140000</td>\n",
       "      <td>[0, 133, 6035, 16, 24, 4, 2, 2, 713, 16, 16894, 430, 31, 5, 22, 8766, 12, 3955, 113, 1548, 9, 97, 1799, 4, 133, 6035, 2046, 14, 1976, 709, 1884, 8, 1435, 23, 2174, 672, 40, 342, 476, 11, 400, 1420...</td>\n",
       "      <td>[1, 1, 1, 1, 1, 1, 1, 1, 1, 1, 1, 1, 1, 1, 1, 1, 1, 1, 1, 1, 1, 1, 1, 1, 1, 1, 1, 1, 1, 1, 1, 1, 1, 1, 1, 1, 1, 1, 1, 1, 1, 1, 1, 1, 1, 1, 1, 1, 1, 1, 1, 1, 1, 1, 1, 1, 1, 1, 1, 1, 1, 1, 1, 1, 1, ...</td>\n",
       "      <td>1</td>\n",
       "    </tr>\n",
       "  </tbody>\n",
       "</table>\n",
       "</div>"
      ],
      "text/plain": [
       "                                                                        q_sentence  \\\n",
       "10822  Under Rogemomics and Ruthenasia unemployment has almost trebled since 1984.   \n",
       "10831                            Under the Labour Government unemployment doubled.   \n",
       "10832                                   Under National it has risen a farther 30%.   \n",
       "10872                     And 300,000 jobless reckon there must be an alternative.   \n",
       "10873                                                          The Alliance is it.   \n",
       "\n",
       "       q_sentence_nr  manifesto_id  main_codes  label  original_index  \\\n",
       "10822             27  64321_199311         305      2          139949   \n",
       "10831             36  64321_199311         305      2          139958   \n",
       "10832             37  64321_199311         305      2          139959   \n",
       "10872             77  64321_199311         305      2          139999   \n",
       "10873             78  64321_199311         305      2          140000   \n",
       "\n",
       "                                                                                                                                                                                                     input_ids  \\\n",
       "10822  [0, 17245, 19748, 991, 26382, 8, 18825, 2457, 19036, 5755, 34, 818, 6110, 10288, 187, 11724, 4, 2, 2, 133, 6529, 40, 797, 188, 3324, 518, 98, 4886, 3168, 109, 45, 14958, 188, 3324, 268, 4, 38664, ...   \n",
       "10831  [0, 17245, 5, 4165, 1621, 5755, 7113, 4, 2, 2, 40, 2968, 4894, 812, 124, 20693, 188, 3324, 18, 866, 7, 1733, 92, 14275, 6, 36427, 84, 35043, 268, 6, 1304, 8, 3197, 4, 25761, 154, 1583, 9, 92, 1315...   \n",
       "10832  [0, 17245, 496, 24, 34, 7408, 10, 18156, 389, 2153, 2, 2, 36427, 84, 35043, 268, 6, 1304, 8, 3197, 4, 25761, 154, 1583, 9, 92, 1315, 4, 133, 1065, 924, 141, 6, 8, 596, 6, 5, 4044, 11, 1408, 476, 2...   \n",
       "10872  [0, 2409, 2993, 6, 151, 633, 1672, 29057, 89, 531, 28, 41, 3626, 4, 2, 2, 5488, 32, 6533, 8, 1904, 8094, 4, 713, 16, 16894, 430, 31, 5, 22, 8766, 12, 3955, 113, 1548, 9, 97, 1799, 4, 133, 6035, 20...   \n",
       "10873  [0, 133, 6035, 16, 24, 4, 2, 2, 713, 16, 16894, 430, 31, 5, 22, 8766, 12, 3955, 113, 1548, 9, 97, 1799, 4, 133, 6035, 2046, 14, 1976, 709, 1884, 8, 1435, 23, 2174, 672, 40, 342, 476, 11, 400, 1420...   \n",
       "\n",
       "                                                                                                                                                                                                attention_mask  \\\n",
       "10822  [1, 1, 1, 1, 1, 1, 1, 1, 1, 1, 1, 1, 1, 1, 1, 1, 1, 1, 1, 1, 1, 1, 1, 1, 1, 1, 1, 1, 1, 1, 1, 1, 1, 1, 1, 1, 1, 1, 1, 1, 1, 1, 1, 1, 1, 1, 1, 1, 1, 1, 1, 1, 1, 1, 1, 1, 1, 1, 1, 1, 1, 1, 1, 1, 1, ...   \n",
       "10831  [1, 1, 1, 1, 1, 1, 1, 1, 1, 1, 1, 1, 1, 1, 1, 1, 1, 1, 1, 1, 1, 1, 1, 1, 1, 1, 1, 1, 1, 1, 1, 1, 1, 1, 1, 1, 1, 1, 1, 1, 1, 1, 1, 1, 1, 1, 1, 1, 1, 1, 1, 1, 1, 1, 1, 1, 1, 1, 1, 1, 1, 1, 1, 1, 1, ...   \n",
       "10832  [1, 1, 1, 1, 1, 1, 1, 1, 1, 1, 1, 1, 1, 1, 1, 1, 1, 1, 1, 1, 1, 1, 1, 1, 1, 1, 1, 1, 1, 1, 1, 1, 1, 1, 1, 1, 1, 1, 1, 1, 1, 1, 1, 1, 1, 1, 1, 1, 1, 1, 1, 1, 1, 1, 1, 1, 1, 1, 1, 1, 1, 1, 1, 1, 1, ...   \n",
       "10872  [1, 1, 1, 1, 1, 1, 1, 1, 1, 1, 1, 1, 1, 1, 1, 1, 1, 1, 1, 1, 1, 1, 1, 1, 1, 1, 1, 1, 1, 1, 1, 1, 1, 1, 1, 1, 1, 1, 1, 1, 1, 1, 1, 1, 1, 1, 1, 1, 1, 1, 1, 1, 1, 1, 1, 1, 1, 1, 1, 1, 1, 1, 1, 1, 1, ...   \n",
       "10873  [1, 1, 1, 1, 1, 1, 1, 1, 1, 1, 1, 1, 1, 1, 1, 1, 1, 1, 1, 1, 1, 1, 1, 1, 1, 1, 1, 1, 1, 1, 1, 1, 1, 1, 1, 1, 1, 1, 1, 1, 1, 1, 1, 1, 1, 1, 1, 1, 1, 1, 1, 1, 1, 1, 1, 1, 1, 1, 1, 1, 1, 1, 1, 1, 1, ...   \n",
       "\n",
       "       preds  \n",
       "10822      1  \n",
       "10831      1  \n",
       "10832      1  \n",
       "10872      1  \n",
       "10873      1  "
      ]
     },
     "execution_count": 15,
     "metadata": {},
     "output_type": "execute_result"
    }
   ],
   "source": [
    "# looking at examples\n",
    "pd.set_option('display.max_colwidth', 200)\n",
    "target_code = 305\n",
    "df_false_pos[df_false_pos[\"main_codes\"] == target_code].tail(5)"
   ]
  },
  {
   "cell_type": "code",
   "execution_count": 16,
   "metadata": {},
   "outputs": [
    {
     "name": "stdout",
     "output_type": "stream",
     "text": [
      "main_codes\n",
      " 504    0.115607\n",
      " 503    0.066474\n",
      " 202    0.063584\n",
      " 706    0.062139\n",
      " 403    0.060694\n",
      " 410    0.056358\n",
      " 705    0.054913\n",
      "-1      0.044798\n",
      " 607    0.043353\n",
      " 411    0.043353\n",
      "Name: count, dtype: float64\n"
     ]
    },
    {
     "data": {
      "image/png": "[encoded data removed]",
      "text/plain": [
       "<Figure size 700x400 with 1 Axes>"
      ]
     },
     "metadata": {},
     "output_type": "display_data"
    }
   ],
   "source": [
    "# Better look at the False Positives: PREDICTED RIGHT but REAL LEFT/CENTER\n",
    "df_false_pos = df_test[(df_test[\"preds\"] == 2) & (df_test[\"label\"] != 2)]\n",
    "codes_distributions = df_false_pos[\"main_codes\"].value_counts()/df_false_pos.shape[0]\n",
    "print(codes_distributions[0:10])\n",
    "\n",
    "# Create a bar plot\n",
    "plt.figure(figsize=(7, 4))\n",
    "codes_distributions[0:5].plot(kind='bar')\n",
    "\n",
    "# Add labels and title\n",
    "plt.xlabel('Codes')\n",
    "plt.ylabel('Frequency')\n",
    "plt.title('Distribution of real codes for false right predictions in Left Model test set')\n",
    "\n",
    "# Show the plot\n",
    "plt.show()"
   ]
  },
  {
   "cell_type": "markdown",
   "metadata": {},
   "source": [
    "--> 504 (Welfare State Expansion), 202 (Democracy), 403 (Market Regulation) are LEFT categories"
   ]
  },
  {
   "cell_type": "code",
   "execution_count": 17,
   "metadata": {},
   "outputs": [
    {
     "data": {
      "text/html": [
       "<div>\n",
       "<style scoped>\n",
       "    .dataframe tbody tr th:only-of-type {\n",
       "        vertical-align: middle;\n",
       "    }\n",
       "\n",
       "    .dataframe tbody tr th {\n",
       "        vertical-align: top;\n",
       "    }\n",
       "\n",
       "    .dataframe thead th {\n",
       "        text-align: right;\n",
       "    }\n",
       "</style>\n",
       "<table border=\"1\" class=\"dataframe\">\n",
       "  <thead>\n",
       "    <tr style=\"text-align: right;\">\n",
       "      <th></th>\n",
       "      <th>q_sentence</th>\n",
       "      <th>q_sentence_nr</th>\n",
       "      <th>manifesto_id</th>\n",
       "      <th>main_codes</th>\n",
       "      <th>label</th>\n",
       "      <th>original_index</th>\n",
       "      <th>input_ids</th>\n",
       "      <th>attention_mask</th>\n",
       "      <th>preds</th>\n",
       "    </tr>\n",
       "  </thead>\n",
       "  <tbody>\n",
       "    <tr>\n",
       "      <th>11187</th>\n",
       "      <td>If you want 'what is in our manifesto, we ask you to support your candidate.</td>\n",
       "      <td>392</td>\n",
       "      <td>64321_199311</td>\n",
       "      <td>202</td>\n",
       "      <td>1</td>\n",
       "      <td>140314</td>\n",
       "      <td>[0, 1106, 47, 236, 128, 12196, 16, 11, 84, 20467, 6, 52, 1394, 47, 7, 323, 110, 1984, 4, 2, 2, 5, 1582, 26335, 21, 1419, 4, 1106, 5, 6035, 56, 45, 57, 1455, 3562, 82, 74, 45, 33, 5, 9476, 122, 293...</td>\n",
       "      <td>[1, 1, 1, 1, 1, 1, 1, 1, 1, 1, 1, 1, 1, 1, 1, 1, 1, 1, 1, 1, 1, 1, 1, 1, 1, 1, 1, 1, 1, 1, 1, 1, 1, 1, 1, 1, 1, 1, 1, 1, 1, 1, 1, 1, 1, 1, 1, 1, 1, 1, 1, 1, 1, 1, 1, 1, 1, 1, 1, 1, 1, 1, 1, 1, 1, ...</td>\n",
       "      <td>2</td>\n",
       "    </tr>\n",
       "    <tr>\n",
       "      <th>11189</th>\n",
       "      <td>When elected, I undertake during this Parliamentary term to work to implement the policies contained in the Alliance 1993 election manifesto and to remain part of the Alliance.</td>\n",
       "      <td>394</td>\n",
       "      <td>64321_199311</td>\n",
       "      <td>202</td>\n",
       "      <td>1</td>\n",
       "      <td>140316</td>\n",
       "      <td>[0, 1779, 2736, 6, 38, 15802, 148, 42, 21879, 1385, 7, 173, 7, 5731, 5, 1986, 5558, 11, 5, 6035, 9095, 729, 20467, 8, 7, 1091, 233, 9, 5, 6035, 4, 2, 2, 113, 170, 240, 55, 6035, 6714, 11, 3879, 4,...</td>\n",
       "      <td>[1, 1, 1, 1, 1, 1, 1, 1, 1, 1, 1, 1, 1, 1, 1, 1, 1, 1, 1, 1, 1, 1, 1, 1, 1, 1, 1, 1, 1, 1, 1, 1, 1, 1, 1, 1, 1, 1, 1, 1, 1, 1, 1, 1, 1, 1, 1, 1, 1, 1, 1, 1, 1, 1, 1, 1, 1, 1, 1, 1, 1, 1, 1, 1, 1, ...</td>\n",
       "      <td>2</td>\n",
       "    </tr>\n",
       "    <tr>\n",
       "      <th>11190</th>\n",
       "      <td>Should I vote against, or obstruct the implementation of these policies, or leave the Alliance, I undertake to resign from Parliament and seek a new mandate from the electorate.</td>\n",
       "      <td>395</td>\n",
       "      <td>64321_199311</td>\n",
       "      <td>202</td>\n",
       "      <td>1</td>\n",
       "      <td>140317</td>\n",
       "      <td>[0, 31231, 38, 900, 136, 6, 50, 17092, 5, 5574, 9, 209, 1986, 6, 50, 989, 5, 6035, 6, 38, 15802, 7, 6749, 31, 3879, 8, 2639, 10, 92, 7184, 31, 5, 17412, 4, 2, 2, 170, 240, 47, 7, 323, 110, 1984, 1...</td>\n",
       "      <td>[1, 1, 1, 1, 1, 1, 1, 1, 1, 1, 1, 1, 1, 1, 1, 1, 1, 1, 1, 1, 1, 1, 1, 1, 1, 1, 1, 1, 1, 1, 1, 1, 1, 1, 1, 1, 1, 1, 1, 1, 1, 1, 1, 1, 1, 1, 1, 1, 1, 1, 1, 1, 1, 1, 1, 1, 1, 1, 1, 1, 1, 1, 1, 1, 1, ...</td>\n",
       "      <td>2</td>\n",
       "    </tr>\n",
       "    <tr>\n",
       "      <th>11191</th>\n",
       "      <td>I make this pledge so that electors can have full confidence that the Alliance policies they vote for will be those that will be implemented by an Alliance government.</td>\n",
       "      <td>396</td>\n",
       "      <td>64321_199311</td>\n",
       "      <td>202</td>\n",
       "      <td>1</td>\n",
       "      <td>140318</td>\n",
       "      <td>[0, 100, 146, 42, 9461, 98, 14, 41752, 64, 33, 455, 2123, 14, 5, 6035, 1986, 51, 900, 13, 40, 28, 167, 14, 40, 28, 6264, 30, 41, 6035, 168, 4, 2, 2, 4, 12861, 6035, 1984, 16, 2021, 7, 6035, 714, 8...</td>\n",
       "      <td>[1, 1, 1, 1, 1, 1, 1, 1, 1, 1, 1, 1, 1, 1, 1, 1, 1, 1, 1, 1, 1, 1, 1, 1, 1, 1, 1, 1, 1, 1, 1, 1, 1, 1, 1, 1, 1, 1, 1, 1, 1, 1, 1, 1, 1, 1, 1, 1, 1, 1, 1, 1, 1, 1, 1, 1, 1, 1, 1, 1, 1, 1, 1, 1, 1, ...</td>\n",
       "      <td>2</td>\n",
       "    </tr>\n",
       "    <tr>\n",
       "      <th>11194</th>\n",
       "      <td>1 Honesty and accountability.</td>\n",
       "      <td>399</td>\n",
       "      <td>64321_199311</td>\n",
       "      <td>202</td>\n",
       "      <td>1</td>\n",
       "      <td>140321</td>\n",
       "      <td>[0, 134, 8768, 27668, 8, 9563, 4, 2, 2, 1779, 2736, 6, 38, 15802, 148, 42, 21879, 1385, 7, 173, 7, 5731, 5, 1986, 5558, 11, 5, 6035, 9095, 729, 20467, 8, 7, 1091, 233, 9, 5, 6035, 4, 31231, 38, 90...</td>\n",
       "      <td>[1, 1, 1, 1, 1, 1, 1, 1, 1, 1, 1, 1, 1, 1, 1, 1, 1, 1, 1, 1, 1, 1, 1, 1, 1, 1, 1, 1, 1, 1, 1, 1, 1, 1, 1, 1, 1, 1, 1, 1, 1, 1, 1, 1, 1, 1, 1, 1, 1, 1, 1, 1, 1, 1, 1, 1, 1, 1, 1, 1, 1, 1, 1, 1, 1, ...</td>\n",
       "      <td>2</td>\n",
       "    </tr>\n",
       "  </tbody>\n",
       "</table>\n",
       "</div>"
      ],
      "text/plain": [
       "                                                                                                                                                                              q_sentence  \\\n",
       "11187                                                                                                       If you want 'what is in our manifesto, we ask you to support your candidate.   \n",
       "11189   When elected, I undertake during this Parliamentary term to work to implement the policies contained in the Alliance 1993 election manifesto and to remain part of the Alliance.   \n",
       "11190  Should I vote against, or obstruct the implementation of these policies, or leave the Alliance, I undertake to resign from Parliament and seek a new mandate from the electorate.   \n",
       "11191            I make this pledge so that electors can have full confidence that the Alliance policies they vote for will be those that will be implemented by an Alliance government.   \n",
       "11194                                                                                                                                                      1 Honesty and accountability.   \n",
       "\n",
       "       q_sentence_nr  manifesto_id  main_codes  label  original_index  \\\n",
       "11187            392  64321_199311         202      1          140314   \n",
       "11189            394  64321_199311         202      1          140316   \n",
       "11190            395  64321_199311         202      1          140317   \n",
       "11191            396  64321_199311         202      1          140318   \n",
       "11194            399  64321_199311         202      1          140321   \n",
       "\n",
       "                                                                                                                                                                                                     input_ids  \\\n",
       "11187  [0, 1106, 47, 236, 128, 12196, 16, 11, 84, 20467, 6, 52, 1394, 47, 7, 323, 110, 1984, 4, 2, 2, 5, 1582, 26335, 21, 1419, 4, 1106, 5, 6035, 56, 45, 57, 1455, 3562, 82, 74, 45, 33, 5, 9476, 122, 293...   \n",
       "11189  [0, 1779, 2736, 6, 38, 15802, 148, 42, 21879, 1385, 7, 173, 7, 5731, 5, 1986, 5558, 11, 5, 6035, 9095, 729, 20467, 8, 7, 1091, 233, 9, 5, 6035, 4, 2, 2, 113, 170, 240, 55, 6035, 6714, 11, 3879, 4,...   \n",
       "11190  [0, 31231, 38, 900, 136, 6, 50, 17092, 5, 5574, 9, 209, 1986, 6, 50, 989, 5, 6035, 6, 38, 15802, 7, 6749, 31, 3879, 8, 2639, 10, 92, 7184, 31, 5, 17412, 4, 2, 2, 170, 240, 47, 7, 323, 110, 1984, 1...   \n",
       "11191  [0, 100, 146, 42, 9461, 98, 14, 41752, 64, 33, 455, 2123, 14, 5, 6035, 1986, 51, 900, 13, 40, 28, 167, 14, 40, 28, 6264, 30, 41, 6035, 168, 4, 2, 2, 4, 12861, 6035, 1984, 16, 2021, 7, 6035, 714, 8...   \n",
       "11194  [0, 134, 8768, 27668, 8, 9563, 4, 2, 2, 1779, 2736, 6, 38, 15802, 148, 42, 21879, 1385, 7, 173, 7, 5731, 5, 1986, 5558, 11, 5, 6035, 9095, 729, 20467, 8, 7, 1091, 233, 9, 5, 6035, 4, 31231, 38, 90...   \n",
       "\n",
       "                                                                                                                                                                                                attention_mask  \\\n",
       "11187  [1, 1, 1, 1, 1, 1, 1, 1, 1, 1, 1, 1, 1, 1, 1, 1, 1, 1, 1, 1, 1, 1, 1, 1, 1, 1, 1, 1, 1, 1, 1, 1, 1, 1, 1, 1, 1, 1, 1, 1, 1, 1, 1, 1, 1, 1, 1, 1, 1, 1, 1, 1, 1, 1, 1, 1, 1, 1, 1, 1, 1, 1, 1, 1, 1, ...   \n",
       "11189  [1, 1, 1, 1, 1, 1, 1, 1, 1, 1, 1, 1, 1, 1, 1, 1, 1, 1, 1, 1, 1, 1, 1, 1, 1, 1, 1, 1, 1, 1, 1, 1, 1, 1, 1, 1, 1, 1, 1, 1, 1, 1, 1, 1, 1, 1, 1, 1, 1, 1, 1, 1, 1, 1, 1, 1, 1, 1, 1, 1, 1, 1, 1, 1, 1, ...   \n",
       "11190  [1, 1, 1, 1, 1, 1, 1, 1, 1, 1, 1, 1, 1, 1, 1, 1, 1, 1, 1, 1, 1, 1, 1, 1, 1, 1, 1, 1, 1, 1, 1, 1, 1, 1, 1, 1, 1, 1, 1, 1, 1, 1, 1, 1, 1, 1, 1, 1, 1, 1, 1, 1, 1, 1, 1, 1, 1, 1, 1, 1, 1, 1, 1, 1, 1, ...   \n",
       "11191  [1, 1, 1, 1, 1, 1, 1, 1, 1, 1, 1, 1, 1, 1, 1, 1, 1, 1, 1, 1, 1, 1, 1, 1, 1, 1, 1, 1, 1, 1, 1, 1, 1, 1, 1, 1, 1, 1, 1, 1, 1, 1, 1, 1, 1, 1, 1, 1, 1, 1, 1, 1, 1, 1, 1, 1, 1, 1, 1, 1, 1, 1, 1, 1, 1, ...   \n",
       "11194  [1, 1, 1, 1, 1, 1, 1, 1, 1, 1, 1, 1, 1, 1, 1, 1, 1, 1, 1, 1, 1, 1, 1, 1, 1, 1, 1, 1, 1, 1, 1, 1, 1, 1, 1, 1, 1, 1, 1, 1, 1, 1, 1, 1, 1, 1, 1, 1, 1, 1, 1, 1, 1, 1, 1, 1, 1, 1, 1, 1, 1, 1, 1, 1, 1, ...   \n",
       "\n",
       "       preds  \n",
       "11187      2  \n",
       "11189      2  \n",
       "11190      2  \n",
       "11191      2  \n",
       "11194      2  "
      ]
     },
     "execution_count": 17,
     "metadata": {},
     "output_type": "execute_result"
    }
   ],
   "source": [
    "# looking at examples\n",
    "pd.set_option('display.max_colwidth', 200)\n",
    "target_code = 202\n",
    "df_false_pos[df_false_pos[\"main_codes\"] == target_code].tail(5)"
   ]
  },
  {
   "cell_type": "code",
   "execution_count": 18,
   "metadata": {},
   "outputs": [
    {
     "data": {
      "text/html": [
       "<div>\n",
       "<style scoped>\n",
       "    .dataframe tbody tr th:only-of-type {\n",
       "        vertical-align: middle;\n",
       "    }\n",
       "\n",
       "    .dataframe tbody tr th {\n",
       "        vertical-align: top;\n",
       "    }\n",
       "\n",
       "    .dataframe thead th {\n",
       "        text-align: right;\n",
       "    }\n",
       "</style>\n",
       "<table border=\"1\" class=\"dataframe\">\n",
       "  <thead>\n",
       "    <tr style=\"text-align: right;\">\n",
       "      <th></th>\n",
       "      <th>Model</th>\n",
       "      <th>Coders</th>\n",
       "    </tr>\n",
       "  </thead>\n",
       "  <tbody>\n",
       "    <tr>\n",
       "      <th>0</th>\n",
       "      <td>6957</td>\n",
       "      <td>7303</td>\n",
       "    </tr>\n",
       "    <tr>\n",
       "      <th>1</th>\n",
       "      <td>4009</td>\n",
       "      <td>3801</td>\n",
       "    </tr>\n",
       "    <tr>\n",
       "      <th>2</th>\n",
       "      <td>1562</td>\n",
       "      <td>1424</td>\n",
       "    </tr>\n",
       "  </tbody>\n",
       "</table>\n",
       "</div>"
      ],
      "text/plain": [
       "   Model  Coders\n",
       "0   6957    7303\n",
       "1   4009    3801\n",
       "2   1562    1424"
      ]
     },
     "execution_count": 18,
     "metadata": {},
     "output_type": "execute_result"
    }
   ],
   "source": [
    "# Testing whether the predictions significantly differ from the real codes\n",
    "\n",
    "# set up contingency table\n",
    "contingency_table = pd.DataFrame({#\"Group\": [\"# 501 codes\", \"# non-501 codes\"],\n",
    "                                  \"Model\": [df_test[df_test[\"preds\"] == 0].shape[0],\n",
    "                                            df_test[df_test[\"preds\"] == 1].shape[0],\n",
    "                                            df_test[df_test[\"preds\"] == 2].shape[0]],\n",
    "                                  \"Coders\": [df_test[df_test[\"label\"] == 0].shape[0],\n",
    "                                             df_test[df_test[\"label\"] == 1].shape[0],\n",
    "                                             df_test[df_test[\"label\"] == 2].shape[0]]})\n",
    "\n",
    "\n",
    "contingency_table"
   ]
  },
  {
   "cell_type": "code",
   "execution_count": 19,
   "metadata": {},
   "outputs": [
    {
     "data": {
      "text/plain": [
       "(20.312558970744227,\n",
       " 3.8831472805121255e-05,\n",
       " 2,\n",
       " array([[7130., 7130.],\n",
       "        [3905., 3905.],\n",
       "        [1493., 1493.]]))"
      ]
     },
     "execution_count": 19,
     "metadata": {},
     "output_type": "execute_result"
    }
   ],
   "source": [
    "chi2_contingency(contingency_table)"
   ]
  },
  {
   "cell_type": "markdown",
   "metadata": {},
   "source": [
    "Model predictions on test set are significantly different to real labels (more left/right, less neutral)"
   ]
  },
  {
   "cell_type": "markdown",
   "metadata": {},
   "source": [
    "### Inference Predictions (Right)"
   ]
  },
  {
   "cell_type": "code",
   "execution_count": 20,
   "metadata": {},
   "outputs": [
    {
     "name": "stdout",
     "output_type": "stream",
     "text": [
      "Inf set accuracy: 0.7301138842830962\n",
      "Inf set precision: 0.7101466659298644\n",
      "Inf set recall: 0.7272485473192276\n",
      "Inf set F1-score: 0.7155758754914531\n"
     ]
    }
   ],
   "source": [
    "print(\"Inf set accuracy:\", accuracy_score(df_inference[\"label\"], df_inference[\"preds\"]))\n",
    "print(\"Inf set precision:\", precision_score(df_inference[\"label\"], df_inference[\"preds\"], average=\"macro\"))\n",
    "print(\"Inf set recall:\", recall_score(df_inference[\"label\"], df_inference[\"preds\"], average=\"macro\"))\n",
    "print(\"Inf set F1-score:\", f1_score(df_inference[\"label\"], df_inference[\"preds\"], average=\"macro\"))"
   ]
  },
  {
   "cell_type": "code",
   "execution_count": 21,
   "metadata": {},
   "outputs": [
    {
     "name": "stdout",
     "output_type": "stream",
     "text": [
      "RILE distribution in training data:\n"
     ]
    },
    {
     "data": {
      "text/plain": [
       "RILE\n",
       "0    0.545404\n",
       "1    0.322524\n",
       "2    0.132072\n",
       "Name: count, dtype: float64"
      ]
     },
     "execution_count": 21,
     "metadata": {},
     "output_type": "execute_result"
    }
   ],
   "source": [
    "print(\"RILE distribution in training data:\")\n",
    "df_train[\"RILE\"].value_counts()/df_train.shape[0]"
   ]
  },
  {
   "cell_type": "code",
   "execution_count": 22,
   "metadata": {},
   "outputs": [
    {
     "name": "stdout",
     "output_type": "stream",
     "text": [
      "RILE distribution in inference (Right) predictions:\n"
     ]
    },
    {
     "data": {
      "text/plain": [
       "preds\n",
       "0    0.443418\n",
       "1    0.282060\n",
       "2    0.274522\n",
       "Name: count, dtype: float64"
      ]
     },
     "execution_count": 22,
     "metadata": {},
     "output_type": "execute_result"
    }
   ],
   "source": [
    "print(\"RILE distribution in inference (Right) predictions:\")\n",
    "df_inference[\"preds\"].value_counts()/df_inference.shape[0]"
   ]
  },
  {
   "cell_type": "code",
   "execution_count": 23,
   "metadata": {},
   "outputs": [
    {
     "name": "stdout",
     "output_type": "stream",
     "text": [
      "RILE distribution in inference (Right) real labels:\n"
     ]
    },
    {
     "data": {
      "text/plain": [
       "label\n",
       "0    0.494655\n",
       "2    0.275035\n",
       "1    0.230310\n",
       "Name: count, dtype: float64"
      ]
     },
     "execution_count": 23,
     "metadata": {},
     "output_type": "execute_result"
    }
   ],
   "source": [
    "print(\"RILE distribution in inference (Right) real labels:\")\n",
    "df_inference[\"label\"].value_counts()/df_inference.shape[0]"
   ]
  },
  {
   "cell_type": "markdown",
   "metadata": {},
   "source": [
    "Occurence of right stable, but more left and less neutral"
   ]
  },
  {
   "cell_type": "code",
   "execution_count": 24,
   "metadata": {},
   "outputs": [
    {
     "name": "stdout",
     "output_type": "stream",
     "text": [
      "                Pred. Neutral   Pred. Left  Pred. Right\n",
      "Real Neutral:\n",
      "Real Left:\n",
      "Real Right:\n",
      "\n",
      "Absolut confusion matrix\n",
      " [[33840  5990  5516]\n",
      " [ 2608 15973  2532]\n",
      " [ 4201  3894 17118]]\n"
     ]
    }
   ],
   "source": [
    "#                    Pred. Neg:   Pred. Pos\n",
    "#    Real Neg:       True Neg --- False Pos\n",
    "#    Real Pos:       False Neg --- True Pos\n",
    "print(\"                Pred. Neutral   Pred. Left  Pred. Right\")\n",
    "print(\"Real Neutral:\")\n",
    "print(\"Real Left:\")\n",
    "print(\"Real Right:\")\n",
    "print(\"\\nAbsolut confusion matrix\\n\", confusion_matrix(df_inference[\"label\"], df_inference[\"preds\"]))\n",
    "#print(\"Relativ confusion matrix\\n\", confusion_matrix(df_test[\"label\"], df_test[\"preds\"])/df_test.shape[0])"
   ]
  },
  {
   "cell_type": "code",
   "execution_count": 25,
   "metadata": {},
   "outputs": [
    {
     "name": "stdout",
     "output_type": "stream",
     "text": [
      "main_codes\n",
      "503    0.125152\n",
      "411    0.078005\n",
      "505    0.067685\n",
      "401    0.062930\n",
      "303    0.054027\n",
      "706    0.051801\n",
      "605    0.044314\n",
      "305    0.039964\n",
      "402    0.037232\n",
      "201    0.034096\n",
      "Name: count, dtype: float64\n"
     ]
    },
    {
     "data": {
      "image/png": "[encoded data removed]",
      "text/plain": [
       "<Figure size 700x400 with 1 Axes>"
      ]
     },
     "metadata": {},
     "output_type": "display_data"
    }
   ],
   "source": [
    "# Better look at the False Positives: PREDICTED LEFT but REAL RIGHT/CENTER\n",
    "df_false_pos = df_inference[(df_inference[\"preds\"] == 1) & (df_inference[\"label\"] != 1)]\n",
    "codes_distributions = df_false_pos[\"main_codes\"].value_counts()/df_false_pos.shape[0]\n",
    "print(codes_distributions[0:10])\n",
    "\n",
    "# Create a bar plot\n",
    "plt.figure(figsize=(7, 4))\n",
    "codes_distributions[0:5].plot(kind='bar')\n",
    "\n",
    "# Add labels and title\n",
    "plt.xlabel('Codes')\n",
    "plt.ylabel('Frequency')\n",
    "plt.title('Distribution of real codes for false left predictions in Left Model Inference-Right set')\n",
    "\n",
    "# Show the plot\n",
    "plt.show()"
   ]
  },
  {
   "cell_type": "code",
   "execution_count": 26,
   "metadata": {},
   "outputs": [
    {
     "data": {
      "text/html": [
       "<div>\n",
       "<style scoped>\n",
       "    .dataframe tbody tr th:only-of-type {\n",
       "        vertical-align: middle;\n",
       "    }\n",
       "\n",
       "    .dataframe tbody tr th {\n",
       "        vertical-align: top;\n",
       "    }\n",
       "\n",
       "    .dataframe thead th {\n",
       "        text-align: right;\n",
       "    }\n",
       "</style>\n",
       "<table border=\"1\" class=\"dataframe\">\n",
       "  <thead>\n",
       "    <tr style=\"text-align: right;\">\n",
       "      <th></th>\n",
       "      <th>q_sentence</th>\n",
       "      <th>q_sentence_nr</th>\n",
       "      <th>manifesto_id</th>\n",
       "      <th>main_codes</th>\n",
       "      <th>label</th>\n",
       "      <th>original_index</th>\n",
       "      <th>input_ids</th>\n",
       "      <th>attention_mask</th>\n",
       "      <th>preds</th>\n",
       "    </tr>\n",
       "  </thead>\n",
       "  <tbody>\n",
       "    <tr>\n",
       "      <th>91011</th>\n",
       "      <td>New Zealand has far too many DHBs.</td>\n",
       "      <td>521</td>\n",
       "      <td>64621_202010</td>\n",
       "      <td>505</td>\n",
       "      <td>2</td>\n",
       "      <td>185271</td>\n",
       "      <td>[0, 4030, 3324, 34, 444, 350, 171, 21391, 28720, 4, 2, 2, 4030, 3324, 1234, 2046, 11, 6060, 1318, 3717, 13, 70, 188, 3324, 268, 4, 1711, 16, 596, 52, 32, 15670, 10, 10606, 9, 1986, 14, 244, 17996,...</td>\n",
       "      <td>[1, 1, 1, 1, 1, 1, 1, 1, 1, 1, 1, 1, 1, 1, 1, 1, 1, 1, 1, 1, 1, 1, 1, 1, 1, 1, 1, 1, 1, 1, 1, 1, 1, 1, 1, 1, 1, 1, 1, 1, 1, 1, 1, 1, 1, 1, 1, 1, 1, 1, 1, 1, 1, 1, 1, 1, 1, 1, 1, 1, 1, 1, 1, 1, 1, ...</td>\n",
       "      <td>1</td>\n",
       "    </tr>\n",
       "    <tr>\n",
       "      <th>91020</th>\n",
       "      <td>New Zealand needs no more than 7 DHBs</td>\n",
       "      <td>530</td>\n",
       "      <td>64621_202010</td>\n",
       "      <td>505</td>\n",
       "      <td>2</td>\n",
       "      <td>185280</td>\n",
       "      <td>[0, 4030, 3324, 782, 117, 55, 87, 262, 21391, 28720, 2, 2, 961, 3620, 107, 9, 1046, 8, 2530, 8, 172, 7, 961, 1493, 4, 713, 714, 34, 7, 28, 142, 9, 63, 701, 6, 839, 12, 33882, 36, 627, 746, 701, 16...</td>\n",
       "      <td>[1, 1, 1, 1, 1, 1, 1, 1, 1, 1, 1, 1, 1, 1, 1, 1, 1, 1, 1, 1, 1, 1, 1, 1, 1, 1, 1, 1, 1, 1, 1, 1, 1, 1, 1, 1, 1, 1, 1, 1, 1, 1, 1, 1, 1, 1, 1, 1, 1, 1, 1, 1, 1, 1, 1, 1, 1, 1, 1, 1, 1, 1, 1, 1, 1, ...</td>\n",
       "      <td>1</td>\n",
       "    </tr>\n",
       "    <tr>\n",
       "      <th>91193</th>\n",
       "      <td>Implement the changes made by the “Fair Residency Bill” which will increase the age of eligibility for New Zealand Superannuation from 10 to 20 years</td>\n",
       "      <td>703</td>\n",
       "      <td>64621_202010</td>\n",
       "      <td>505</td>\n",
       "      <td>2</td>\n",
       "      <td>185453</td>\n",
       "      <td>[0, 20470, 40224, 5, 1022, 156, 30, 5, 44, 48, 33648, 4787, 41059, 1585, 17, 46, 61, 40, 712, 5, 1046, 9, 14199, 13, 188, 3324, 1582, 2279, 9762, 31, 158, 7, 291, 107, 2, 2, 19923, 24343, 5, 6397,...</td>\n",
       "      <td>[1, 1, 1, 1, 1, 1, 1, 1, 1, 1, 1, 1, 1, 1, 1, 1, 1, 1, 1, 1, 1, 1, 1, 1, 1, 1, 1, 1, 1, 1, 1, 1, 1, 1, 1, 1, 1, 1, 1, 1, 1, 1, 1, 1, 1, 1, 1, 1, 1, 1, 1, 1, 1, 1, 1, 1, 1, 1, 1, 1, 1, 1, 1, 1, 1, ...</td>\n",
       "      <td>1</td>\n",
       "    </tr>\n",
       "    <tr>\n",
       "      <th>91229</th>\n",
       "      <td>reducing their time on the benefit</td>\n",
       "      <td>739</td>\n",
       "      <td>64621_202010</td>\n",
       "      <td>505</td>\n",
       "      <td>2</td>\n",
       "      <td>185489</td>\n",
       "      <td>[0, 2050, 30623, 49, 86, 15, 5, 1796, 2, 2, 47279, 5, 692, 9, 2573, 8, 19410, 1293, 98, 14, 5, 1387, 9, 2573, 8, 19410, 15816, 64, 3003, 15194, 1822, 1328, 188, 3324, 15833, 7, 5731, 5, 4664, 9, 5...</td>\n",
       "      <td>[1, 1, 1, 1, 1, 1, 1, 1, 1, 1, 1, 1, 1, 1, 1, 1, 1, 1, 1, 1, 1, 1, 1, 1, 1, 1, 1, 1, 1, 1, 1, 1, 1, 1, 1, 1, 1, 1, 1, 1, 1, 1, 1, 1, 1, 1, 1, 1, 1, 1, 1, 1, 1, 1, 1, 1, 1, 1, 1, 1, 1, 1, 1, 1, 1, ...</td>\n",
       "      <td>1</td>\n",
       "    </tr>\n",
       "    <tr>\n",
       "      <th>91419</th>\n",
       "      <td>It is necessary to abolish privileged pensions, with the exception for those who suffered for Poland's independence and reconstruction.</td>\n",
       "      <td>68</td>\n",
       "      <td>92710_199110</td>\n",
       "      <td>505</td>\n",
       "      <td>2</td>\n",
       "      <td>186841</td>\n",
       "      <td>[0, 243, 16, 2139, 7, 31165, 18560, 15131, 6, 19, 5, 8219, 13, 167, 54, 2152, 13, 6508, 18, 5201, 8, 18228, 4, 2, 2, 4629, 13216, 4629, 12613, 4248, 15421, 250, 31071, 221, 12743, 11654, 6, 29000,...</td>\n",
       "      <td>[1, 1, 1, 1, 1, 1, 1, 1, 1, 1, 1, 1, 1, 1, 1, 1, 1, 1, 1, 1, 1, 1, 1, 1, 1, 1, 1, 1, 1, 1, 1, 1, 1, 1, 1, 1, 1, 1, 1, 1, 1, 1, 1, 1, 1, 1, 1, 1, 1, 1, 1, 1, 1, 1, 1, 1, 1, 1, 1, 1, 1, 1, 1, 1, 1, ...</td>\n",
       "      <td>1</td>\n",
       "    </tr>\n",
       "  </tbody>\n",
       "</table>\n",
       "</div>"
      ],
      "text/plain": [
       "                                                                                                                                                  q_sentence  \\\n",
       "91011                                                                                                                     New Zealand has far too many DHBs.   \n",
       "91020                                                                                                                  New Zealand needs no more than 7 DHBs   \n",
       "91193  Implement the changes made by the “Fair Residency Bill” which will increase the age of eligibility for New Zealand Superannuation from 10 to 20 years   \n",
       "91229                                                                                                                     reducing their time on the benefit   \n",
       "91419                It is necessary to abolish privileged pensions, with the exception for those who suffered for Poland's independence and reconstruction.   \n",
       "\n",
       "       q_sentence_nr  manifesto_id  main_codes  label  original_index  \\\n",
       "91011            521  64621_202010         505      2          185271   \n",
       "91020            530  64621_202010         505      2          185280   \n",
       "91193            703  64621_202010         505      2          185453   \n",
       "91229            739  64621_202010         505      2          185489   \n",
       "91419             68  92710_199110         505      2          186841   \n",
       "\n",
       "                                                                                                                                                                                                     input_ids  \\\n",
       "91011  [0, 4030, 3324, 34, 444, 350, 171, 21391, 28720, 4, 2, 2, 4030, 3324, 1234, 2046, 11, 6060, 1318, 3717, 13, 70, 188, 3324, 268, 4, 1711, 16, 596, 52, 32, 15670, 10, 10606, 9, 1986, 14, 244, 17996,...   \n",
       "91020  [0, 4030, 3324, 782, 117, 55, 87, 262, 21391, 28720, 2, 2, 961, 3620, 107, 9, 1046, 8, 2530, 8, 172, 7, 961, 1493, 4, 713, 714, 34, 7, 28, 142, 9, 63, 701, 6, 839, 12, 33882, 36, 627, 746, 701, 16...   \n",
       "91193  [0, 20470, 40224, 5, 1022, 156, 30, 5, 44, 48, 33648, 4787, 41059, 1585, 17, 46, 61, 40, 712, 5, 1046, 9, 14199, 13, 188, 3324, 1582, 2279, 9762, 31, 158, 7, 291, 107, 2, 2, 19923, 24343, 5, 6397,...   \n",
       "91229  [0, 2050, 30623, 49, 86, 15, 5, 1796, 2, 2, 47279, 5, 692, 9, 2573, 8, 19410, 1293, 98, 14, 5, 1387, 9, 2573, 8, 19410, 15816, 64, 3003, 15194, 1822, 1328, 188, 3324, 15833, 7, 5731, 5, 4664, 9, 5...   \n",
       "91419  [0, 243, 16, 2139, 7, 31165, 18560, 15131, 6, 19, 5, 8219, 13, 167, 54, 2152, 13, 6508, 18, 5201, 8, 18228, 4, 2, 2, 4629, 13216, 4629, 12613, 4248, 15421, 250, 31071, 221, 12743, 11654, 6, 29000,...   \n",
       "\n",
       "                                                                                                                                                                                                attention_mask  \\\n",
       "91011  [1, 1, 1, 1, 1, 1, 1, 1, 1, 1, 1, 1, 1, 1, 1, 1, 1, 1, 1, 1, 1, 1, 1, 1, 1, 1, 1, 1, 1, 1, 1, 1, 1, 1, 1, 1, 1, 1, 1, 1, 1, 1, 1, 1, 1, 1, 1, 1, 1, 1, 1, 1, 1, 1, 1, 1, 1, 1, 1, 1, 1, 1, 1, 1, 1, ...   \n",
       "91020  [1, 1, 1, 1, 1, 1, 1, 1, 1, 1, 1, 1, 1, 1, 1, 1, 1, 1, 1, 1, 1, 1, 1, 1, 1, 1, 1, 1, 1, 1, 1, 1, 1, 1, 1, 1, 1, 1, 1, 1, 1, 1, 1, 1, 1, 1, 1, 1, 1, 1, 1, 1, 1, 1, 1, 1, 1, 1, 1, 1, 1, 1, 1, 1, 1, ...   \n",
       "91193  [1, 1, 1, 1, 1, 1, 1, 1, 1, 1, 1, 1, 1, 1, 1, 1, 1, 1, 1, 1, 1, 1, 1, 1, 1, 1, 1, 1, 1, 1, 1, 1, 1, 1, 1, 1, 1, 1, 1, 1, 1, 1, 1, 1, 1, 1, 1, 1, 1, 1, 1, 1, 1, 1, 1, 1, 1, 1, 1, 1, 1, 1, 1, 1, 1, ...   \n",
       "91229  [1, 1, 1, 1, 1, 1, 1, 1, 1, 1, 1, 1, 1, 1, 1, 1, 1, 1, 1, 1, 1, 1, 1, 1, 1, 1, 1, 1, 1, 1, 1, 1, 1, 1, 1, 1, 1, 1, 1, 1, 1, 1, 1, 1, 1, 1, 1, 1, 1, 1, 1, 1, 1, 1, 1, 1, 1, 1, 1, 1, 1, 1, 1, 1, 1, ...   \n",
       "91419  [1, 1, 1, 1, 1, 1, 1, 1, 1, 1, 1, 1, 1, 1, 1, 1, 1, 1, 1, 1, 1, 1, 1, 1, 1, 1, 1, 1, 1, 1, 1, 1, 1, 1, 1, 1, 1, 1, 1, 1, 1, 1, 1, 1, 1, 1, 1, 1, 1, 1, 1, 1, 1, 1, 1, 1, 1, 1, 1, 1, 1, 1, 1, 1, 1, ...   \n",
       "\n",
       "       preds  \n",
       "91011      1  \n",
       "91020      1  \n",
       "91193      1  \n",
       "91229      1  \n",
       "91419      1  "
      ]
     },
     "execution_count": 26,
     "metadata": {},
     "output_type": "execute_result"
    }
   ],
   "source": [
    "# looking at examples\n",
    "pd.set_option('display.max_colwidth', 200)\n",
    "target_code = 505\n",
    "df_false_pos[df_false_pos[\"main_codes\"] == target_code].tail(5)"
   ]
  },
  {
   "cell_type": "code",
   "execution_count": 27,
   "metadata": {},
   "outputs": [
    {
     "name": "stdout",
     "output_type": "stream",
     "text": [
      "main_codes\n",
      " 410    0.149230\n",
      " 403    0.089463\n",
      " 411    0.077038\n",
      " 303    0.060636\n",
      " 504    0.053429\n",
      " 703    0.047589\n",
      " 503    0.047217\n",
      " 706    0.047092\n",
      "-1      0.043116\n",
      " 202    0.039140\n",
      "Name: count, dtype: float64\n"
     ]
    },
    {
     "data": {
      "image/png": "[encoded data removed]",
      "text/plain": [
       "<Figure size 700x400 with 1 Axes>"
      ]
     },
     "metadata": {},
     "output_type": "display_data"
    }
   ],
   "source": [
    "# Better look at the False Positives: PREDICTED RIGHT but REAL LEFT/CENTER\n",
    "df_false_pos = df_inference[(df_inference[\"preds\"] == 2) & (df_inference[\"label\"] != 2)]\n",
    "codes_distributions = df_false_pos[\"main_codes\"].value_counts()/df_false_pos.shape[0]\n",
    "print(codes_distributions[0:10])\n",
    "\n",
    "# Create a bar plot\n",
    "plt.figure(figsize=(7, 4))\n",
    "codes_distributions[0:5].plot(kind='bar')\n",
    "\n",
    "# Add labels and title\n",
    "plt.xlabel('Codes')\n",
    "plt.ylabel('Frequency')\n",
    "plt.title('Distribution of real codes for false right predictions in Left Model Inference-Right set')\n",
    "\n",
    "# Show the plot\n",
    "plt.show()"
   ]
  },
  {
   "cell_type": "markdown",
   "metadata": {},
   "source": [
    "Except for 403, rather big changes here... (maybe make graph showing risers/fallers in false positive distributions between test and inference sets?)"
   ]
  },
  {
   "cell_type": "code",
   "execution_count": 28,
   "metadata": {},
   "outputs": [
    {
     "data": {
      "text/html": [
       "<div>\n",
       "<style scoped>\n",
       "    .dataframe tbody tr th:only-of-type {\n",
       "        vertical-align: middle;\n",
       "    }\n",
       "\n",
       "    .dataframe tbody tr th {\n",
       "        vertical-align: top;\n",
       "    }\n",
       "\n",
       "    .dataframe thead th {\n",
       "        text-align: right;\n",
       "    }\n",
       "</style>\n",
       "<table border=\"1\" class=\"dataframe\">\n",
       "  <thead>\n",
       "    <tr style=\"text-align: right;\">\n",
       "      <th></th>\n",
       "      <th>q_sentence</th>\n",
       "      <th>q_sentence_nr</th>\n",
       "      <th>manifesto_id</th>\n",
       "      <th>main_codes</th>\n",
       "      <th>label</th>\n",
       "      <th>original_index</th>\n",
       "      <th>input_ids</th>\n",
       "      <th>attention_mask</th>\n",
       "      <th>preds</th>\n",
       "    </tr>\n",
       "  </thead>\n",
       "  <tbody>\n",
       "    <tr>\n",
       "      <th>91218</th>\n",
       "      <td>thereby also freeing up administration costs to reinvest in families</td>\n",
       "      <td>728</td>\n",
       "      <td>64621_202010</td>\n",
       "      <td>504</td>\n",
       "      <td>1</td>\n",
       "      <td>185478</td>\n",
       "      <td>[0, 8585, 1409, 67, 30130, 62, 942, 1042, 7, 24090, 11, 1232, 2, 2, 30, 4848, 11, 8555, 8, 419, 6530, 111, 44, 48, 9289, 253, 5, 1930, 17, 46, 14, 52, 40, 28, 441, 7, 386, 7, 1004, 159, 103, 9, 5,...</td>\n",
       "      <td>[1, 1, 1, 1, 1, 1, 1, 1, 1, 1, 1, 1, 1, 1, 1, 1, 1, 1, 1, 1, 1, 1, 1, 1, 1, 1, 1, 1, 1, 1, 1, 1, 1, 1, 1, 1, 1, 1, 1, 1, 1, 1, 1, 1, 1, 1, 1, 1, 1, 1, 1, 1, 1, 1, 1, 1, 1, 1, 1, 1, 1, 1, 1, 1, 1, ...</td>\n",
       "      <td>2</td>\n",
       "    </tr>\n",
       "    <tr>\n",
       "      <th>91223</th>\n",
       "      <td>Fund pilot programmes such as Hokonui Huanui in Gore and the Wairoa Community Partnership Group to create resilient communities by providing prevention and early intervention services</td>\n",
       "      <td>733</td>\n",
       "      <td>64621_202010</td>\n",
       "      <td>504</td>\n",
       "      <td>1</td>\n",
       "      <td>185483</td>\n",
       "      <td>[0, 13632, 4792, 8864, 215, 25, 26455, 261, 3371, 289, 7372, 3371, 11, 16603, 8, 5, 305, 14387, 102, 2573, 11697, 826, 7, 1045, 15194, 1822, 30, 1976, 8555, 8, 419, 6530, 518, 2, 2, 1042, 7, 24090...</td>\n",
       "      <td>[1, 1, 1, 1, 1, 1, 1, 1, 1, 1, 1, 1, 1, 1, 1, 1, 1, 1, 1, 1, 1, 1, 1, 1, 1, 1, 1, 1, 1, 1, 1, 1, 1, 1, 1, 1, 1, 1, 1, 1, 1, 1, 1, 1, 1, 1, 1, 1, 1, 1, 1, 1, 1, 1, 1, 1, 1, 1, 1, 1, 1, 1, 1, 1, 1, ...</td>\n",
       "      <td>2</td>\n",
       "    </tr>\n",
       "    <tr>\n",
       "      <th>91272</th>\n",
       "      <td>We believe that policy must reflect this as our nation has a special obligation to our veterans, especially those who have suffered as a result of their service.</td>\n",
       "      <td>782</td>\n",
       "      <td>64621_202010</td>\n",
       "      <td>504</td>\n",
       "      <td>1</td>\n",
       "      <td>185532</td>\n",
       "      <td>[0, 170, 679, 14, 714, 531, 4227, 42, 25, 84, 1226, 34, 10, 780, 9061, 7, 84, 4823, 6, 941, 167, 54, 33, 2152, 25, 10, 898, 9, 49, 544, 4, 2, 2, 36590, 8, 1498, 5, 6507, 3898, 15220, 14135, 369, 3...</td>\n",
       "      <td>[1, 1, 1, 1, 1, 1, 1, 1, 1, 1, 1, 1, 1, 1, 1, 1, 1, 1, 1, 1, 1, 1, 1, 1, 1, 1, 1, 1, 1, 1, 1, 1, 1, 1, 1, 1, 1, 1, 1, 1, 1, 1, 1, 1, 1, 1, 1, 1, 1, 1, 1, 1, 1, 1, 1, 1, 1, 1, 1, 1, 1, 1, 1, 1, 1, ...</td>\n",
       "      <td>2</td>\n",
       "    </tr>\n",
       "    <tr>\n",
       "      <th>91279</th>\n",
       "      <td>Respond to the recommendations of the Veterans’ Advisory Board that the definition of a veteran be expanded so that all who have served are considered veterans</td>\n",
       "      <td>789</td>\n",
       "      <td>64621_202010</td>\n",
       "      <td>504</td>\n",
       "      <td>1</td>\n",
       "      <td>185539</td>\n",
       "      <td>[0, 44036, 2832, 7, 5, 4664, 9, 5, 8815, 17, 27, 11067, 1785, 14, 5, 8515, 9, 10, 3142, 28, 4939, 98, 14, 70, 54, 33, 1665, 32, 1687, 4823, 2, 2, 1234, 2127, 372, 923, 8, 4972, 15, 5, 544, 8, 9802...</td>\n",
       "      <td>[1, 1, 1, 1, 1, 1, 1, 1, 1, 1, 1, 1, 1, 1, 1, 1, 1, 1, 1, 1, 1, 1, 1, 1, 1, 1, 1, 1, 1, 1, 1, 1, 1, 1, 1, 1, 1, 1, 1, 1, 1, 1, 1, 1, 1, 1, 1, 1, 1, 1, 1, 1, 1, 1, 1, 1, 1, 1, 1, 1, 1, 1, 1, 1, 1, ...</td>\n",
       "      <td>2</td>\n",
       "    </tr>\n",
       "    <tr>\n",
       "      <th>91308</th>\n",
       "      <td>good credits for house buyers</td>\n",
       "      <td>29</td>\n",
       "      <td>92410_199309</td>\n",
       "      <td>504</td>\n",
       "      <td>1</td>\n",
       "      <td>187127</td>\n",
       "      <td>[0, 8396, 7751, 13, 790, 4859, 2, 2, 21536, 2492, 8662, 13083, 40, 304, 70, 5, 839, 7, 5217, 1846, 24769, 2590, 13040, 5, 249, 1572, 37362, 5, 8882, 566, 5, 249, 1572, 37343, 1755, 92, 2074, 11, 6...</td>\n",
       "      <td>[1, 1, 1, 1, 1, 1, 1, 1, 1, 1, 1, 1, 1, 1, 1, 1, 1, 1, 1, 1, 1, 1, 1, 1, 1, 1, 1, 1, 1, 1, 1, 1, 1, 1, 1, 1, 1, 1, 1, 1, 1, 1, 1, 1, 1, 1, 1, 1, 1, 1, 1, 1, 1, 1, 1, 1, 1, 1, 1, 1, 1, 1, 1, 1, 1, ...</td>\n",
       "      <td>2</td>\n",
       "    </tr>\n",
       "  </tbody>\n",
       "</table>\n",
       "</div>"
      ],
      "text/plain": [
       "                                                                                                                                                                                    q_sentence  \\\n",
       "91218                                                                                                                     thereby also freeing up administration costs to reinvest in families   \n",
       "91223  Fund pilot programmes such as Hokonui Huanui in Gore and the Wairoa Community Partnership Group to create resilient communities by providing prevention and early intervention services   \n",
       "91272                        We believe that policy must reflect this as our nation has a special obligation to our veterans, especially those who have suffered as a result of their service.   \n",
       "91279                          Respond to the recommendations of the Veterans’ Advisory Board that the definition of a veteran be expanded so that all who have served are considered veterans   \n",
       "91308                                                                                                                                                            good credits for house buyers   \n",
       "\n",
       "       q_sentence_nr  manifesto_id  main_codes  label  original_index  \\\n",
       "91218            728  64621_202010         504      1          185478   \n",
       "91223            733  64621_202010         504      1          185483   \n",
       "91272            782  64621_202010         504      1          185532   \n",
       "91279            789  64621_202010         504      1          185539   \n",
       "91308             29  92410_199309         504      1          187127   \n",
       "\n",
       "                                                                                                                                                                                                     input_ids  \\\n",
       "91218  [0, 8585, 1409, 67, 30130, 62, 942, 1042, 7, 24090, 11, 1232, 2, 2, 30, 4848, 11, 8555, 8, 419, 6530, 111, 44, 48, 9289, 253, 5, 1930, 17, 46, 14, 52, 40, 28, 441, 7, 386, 7, 1004, 159, 103, 9, 5,...   \n",
       "91223  [0, 13632, 4792, 8864, 215, 25, 26455, 261, 3371, 289, 7372, 3371, 11, 16603, 8, 5, 305, 14387, 102, 2573, 11697, 826, 7, 1045, 15194, 1822, 30, 1976, 8555, 8, 419, 6530, 518, 2, 2, 1042, 7, 24090...   \n",
       "91272  [0, 170, 679, 14, 714, 531, 4227, 42, 25, 84, 1226, 34, 10, 780, 9061, 7, 84, 4823, 6, 941, 167, 54, 33, 2152, 25, 10, 898, 9, 49, 544, 4, 2, 2, 36590, 8, 1498, 5, 6507, 3898, 15220, 14135, 369, 3...   \n",
       "91279  [0, 44036, 2832, 7, 5, 4664, 9, 5, 8815, 17, 27, 11067, 1785, 14, 5, 8515, 9, 10, 3142, 28, 4939, 98, 14, 70, 54, 33, 1665, 32, 1687, 4823, 2, 2, 1234, 2127, 372, 923, 8, 4972, 15, 5, 544, 8, 9802...   \n",
       "91308  [0, 8396, 7751, 13, 790, 4859, 2, 2, 21536, 2492, 8662, 13083, 40, 304, 70, 5, 839, 7, 5217, 1846, 24769, 2590, 13040, 5, 249, 1572, 37362, 5, 8882, 566, 5, 249, 1572, 37343, 1755, 92, 2074, 11, 6...   \n",
       "\n",
       "                                                                                                                                                                                                attention_mask  \\\n",
       "91218  [1, 1, 1, 1, 1, 1, 1, 1, 1, 1, 1, 1, 1, 1, 1, 1, 1, 1, 1, 1, 1, 1, 1, 1, 1, 1, 1, 1, 1, 1, 1, 1, 1, 1, 1, 1, 1, 1, 1, 1, 1, 1, 1, 1, 1, 1, 1, 1, 1, 1, 1, 1, 1, 1, 1, 1, 1, 1, 1, 1, 1, 1, 1, 1, 1, ...   \n",
       "91223  [1, 1, 1, 1, 1, 1, 1, 1, 1, 1, 1, 1, 1, 1, 1, 1, 1, 1, 1, 1, 1, 1, 1, 1, 1, 1, 1, 1, 1, 1, 1, 1, 1, 1, 1, 1, 1, 1, 1, 1, 1, 1, 1, 1, 1, 1, 1, 1, 1, 1, 1, 1, 1, 1, 1, 1, 1, 1, 1, 1, 1, 1, 1, 1, 1, ...   \n",
       "91272  [1, 1, 1, 1, 1, 1, 1, 1, 1, 1, 1, 1, 1, 1, 1, 1, 1, 1, 1, 1, 1, 1, 1, 1, 1, 1, 1, 1, 1, 1, 1, 1, 1, 1, 1, 1, 1, 1, 1, 1, 1, 1, 1, 1, 1, 1, 1, 1, 1, 1, 1, 1, 1, 1, 1, 1, 1, 1, 1, 1, 1, 1, 1, 1, 1, ...   \n",
       "91279  [1, 1, 1, 1, 1, 1, 1, 1, 1, 1, 1, 1, 1, 1, 1, 1, 1, 1, 1, 1, 1, 1, 1, 1, 1, 1, 1, 1, 1, 1, 1, 1, 1, 1, 1, 1, 1, 1, 1, 1, 1, 1, 1, 1, 1, 1, 1, 1, 1, 1, 1, 1, 1, 1, 1, 1, 1, 1, 1, 1, 1, 1, 1, 1, 1, ...   \n",
       "91308  [1, 1, 1, 1, 1, 1, 1, 1, 1, 1, 1, 1, 1, 1, 1, 1, 1, 1, 1, 1, 1, 1, 1, 1, 1, 1, 1, 1, 1, 1, 1, 1, 1, 1, 1, 1, 1, 1, 1, 1, 1, 1, 1, 1, 1, 1, 1, 1, 1, 1, 1, 1, 1, 1, 1, 1, 1, 1, 1, 1, 1, 1, 1, 1, 1, ...   \n",
       "\n",
       "       preds  \n",
       "91218      2  \n",
       "91223      2  \n",
       "91272      2  \n",
       "91279      2  \n",
       "91308      2  "
      ]
     },
     "execution_count": 28,
     "metadata": {},
     "output_type": "execute_result"
    }
   ],
   "source": [
    "# looking at examples\n",
    "pd.set_option('display.max_colwidth', 200)\n",
    "target_code = 504\n",
    "df_false_pos[df_false_pos[\"main_codes\"] == target_code].tail(5)"
   ]
  },
  {
   "cell_type": "code",
   "execution_count": 29,
   "metadata": {},
   "outputs": [
    {
     "data": {
      "text/html": [
       "<div>\n",
       "<style scoped>\n",
       "    .dataframe tbody tr th:only-of-type {\n",
       "        vertical-align: middle;\n",
       "    }\n",
       "\n",
       "    .dataframe tbody tr th {\n",
       "        vertical-align: top;\n",
       "    }\n",
       "\n",
       "    .dataframe thead th {\n",
       "        text-align: right;\n",
       "    }\n",
       "</style>\n",
       "<table border=\"1\" class=\"dataframe\">\n",
       "  <thead>\n",
       "    <tr style=\"text-align: right;\">\n",
       "      <th></th>\n",
       "      <th>Model</th>\n",
       "      <th>Coders</th>\n",
       "    </tr>\n",
       "  </thead>\n",
       "  <tbody>\n",
       "    <tr>\n",
       "      <th>0</th>\n",
       "      <td>40649</td>\n",
       "      <td>45346</td>\n",
       "    </tr>\n",
       "    <tr>\n",
       "      <th>1</th>\n",
       "      <td>25857</td>\n",
       "      <td>21113</td>\n",
       "    </tr>\n",
       "    <tr>\n",
       "      <th>2</th>\n",
       "      <td>25166</td>\n",
       "      <td>25213</td>\n",
       "    </tr>\n",
       "  </tbody>\n",
       "</table>\n",
       "</div>"
      ],
      "text/plain": [
       "   Model  Coders\n",
       "0  40649   45346\n",
       "1  25857   21113\n",
       "2  25166   25213"
      ]
     },
     "execution_count": 29,
     "metadata": {},
     "output_type": "execute_result"
    }
   ],
   "source": [
    "# Testing whether the predictions significantly differ from the real codes\n",
    "\n",
    "# set up contingency table\n",
    "contingency_table = pd.DataFrame({#\"Group\": [\"# 501 codes\", \"# non-501 codes\"],\n",
    "                                  \"Model\": [df_inference[df_inference[\"preds\"] == 0].shape[0],\n",
    "                                            df_inference[df_inference[\"preds\"] == 1].shape[0],\n",
    "                                            df_inference[df_inference[\"preds\"] == 2].shape[0]],\n",
    "                                  \"Coders\": [df_inference[df_inference[\"label\"] == 0].shape[0],\n",
    "                                             df_inference[df_inference[\"label\"] == 1].shape[0],\n",
    "                                             df_inference[df_inference[\"label\"] == 2].shape[0]]})\n",
    "\n",
    "\n",
    "contingency_table"
   ]
  },
  {
   "cell_type": "markdown",
   "metadata": {},
   "source": [
    "Very close in number of right predictions! But large differences between left and neutral (Maybe count the concrete number going from which to what and compare these between test/inf sets)"
   ]
  },
  {
   "cell_type": "code",
   "execution_count": 30,
   "metadata": {},
   "outputs": [
    {
     "data": {
      "text/plain": [
       "(735.7384560016667,\n",
       " 1.7235513114945206e-160,\n",
       " 2,\n",
       " array([[42997.5, 42997.5],\n",
       "        [23485. , 23485. ],\n",
       "        [25189.5, 25189.5]]))"
      ]
     },
     "execution_count": 30,
     "metadata": {},
     "output_type": "execute_result"
    }
   ],
   "source": [
    "chi2_contingency(contingency_table)"
   ]
  },
  {
   "cell_type": "markdown",
   "metadata": {},
   "source": [
    "So the model predictions are very clearly significantly different that the real predictions!"
   ]
  },
  {
   "cell_type": "code",
   "execution_count": null,
   "metadata": {},
   "outputs": [],
   "source": []
  },
  {
   "cell_type": "markdown",
   "metadata": {},
   "source": [
    "### Inference Predictions (Center)"
   ]
  },
  {
   "cell_type": "code",
   "execution_count": 32,
   "metadata": {},
   "outputs": [
    {
     "name": "stdout",
     "output_type": "stream",
     "text": [
      "Inf set accuracy: 0.7615834118755891\n",
      "Inf set precision: 0.7243623149899284\n",
      "Inf set recall: 0.7439147932531593\n",
      "Inf set F1-score: 0.7323212475209155\n"
     ]
    }
   ],
   "source": [
    "print(\"Inf set accuracy:\", accuracy_score(df_inference_center[\"label\"], df_inference_center[\"preds\"]))\n",
    "print(\"Inf set precision:\", precision_score(df_inference_center[\"label\"], df_inference_center[\"preds\"], average=\"macro\"))\n",
    "print(\"Inf set recall:\", recall_score(df_inference_center[\"label\"], df_inference_center[\"preds\"], average=\"macro\"))\n",
    "print(\"Inf set F1-score:\", f1_score(df_inference_center[\"label\"], df_inference_center[\"preds\"], average=\"macro\"))"
   ]
  },
  {
   "cell_type": "code",
   "execution_count": 33,
   "metadata": {},
   "outputs": [
    {
     "name": "stdout",
     "output_type": "stream",
     "text": [
      "RILE distribution in training data:\n"
     ]
    },
    {
     "data": {
      "text/plain": [
       "RILE\n",
       "0    0.545404\n",
       "1    0.322524\n",
       "2    0.132072\n",
       "Name: count, dtype: float64"
      ]
     },
     "execution_count": 33,
     "metadata": {},
     "output_type": "execute_result"
    }
   ],
   "source": [
    "print(\"RILE distribution in training data:\")\n",
    "df_train[\"RILE\"].value_counts()/df_train.shape[0]"
   ]
  },
  {
   "cell_type": "code",
   "execution_count": 34,
   "metadata": {},
   "outputs": [
    {
     "name": "stdout",
     "output_type": "stream",
     "text": [
      "RILE distribution in inference (Center) predictions:\n"
     ]
    },
    {
     "data": {
      "text/plain": [
       "preds\n",
       "0    0.502507\n",
       "1    0.313063\n",
       "2    0.184430\n",
       "Name: count, dtype: float64"
      ]
     },
     "execution_count": 34,
     "metadata": {},
     "output_type": "execute_result"
    }
   ],
   "source": [
    "print(\"RILE distribution in inference (Center) predictions:\")\n",
    "df_inference_center[\"preds\"].value_counts()/df_inference_center.shape[0]"
   ]
  },
  {
   "cell_type": "code",
   "execution_count": 35,
   "metadata": {},
   "outputs": [
    {
     "name": "stdout",
     "output_type": "stream",
     "text": [
      "RILE distribution in inference (Center) real labels:\n"
     ]
    },
    {
     "data": {
      "text/plain": [
       "label\n",
       "0    0.551593\n",
       "1    0.275137\n",
       "2    0.173270\n",
       "Name: count, dtype: float64"
      ]
     },
     "execution_count": 35,
     "metadata": {},
     "output_type": "execute_result"
    }
   ],
   "source": [
    "print(\"RILE distribution in inference (Center) real labels:\")\n",
    "df_inference_center[\"label\"].value_counts()/df_inference_center.shape[0]"
   ]
  },
  {
   "cell_type": "markdown",
   "metadata": {},
   "source": [
    "More left predictions, less neutral predictions"
   ]
  },
  {
   "cell_type": "code",
   "execution_count": 36,
   "metadata": {},
   "outputs": [
    {
     "name": "stdout",
     "output_type": "stream",
     "text": [
      "                Pred. Neutral   Pred. Left  Pred. Right\n",
      "Real Neutral:\n",
      "Real Left:\n",
      "Real Right:\n",
      "\n",
      "Absolut confusion matrix\n",
      " [[11431  1970  1230]\n",
      " [ 1042  5682   574]\n",
      " [  856   652  3088]]\n"
     ]
    }
   ],
   "source": [
    "#                    Pred. Neg:   Pred. Pos\n",
    "#    Real Neg:       True Neg --- False Pos\n",
    "#    Real Pos:       False Neg --- True Pos\n",
    "print(\"                Pred. Neutral   Pred. Left  Pred. Right\")\n",
    "print(\"Real Neutral:\")\n",
    "print(\"Real Left:\")\n",
    "print(\"Real Right:\")\n",
    "print(\"\\nAbsolut confusion matrix\\n\", confusion_matrix(df_inference_center[\"label\"], df_inference_center[\"preds\"]))\n",
    "#print(\"Relativ confusion matrix\\n\", confusion_matrix(df_test[\"label\"], df_test[\"preds\"])/df_test.shape[0])\n"
   ]
  },
  {
   "cell_type": "code",
   "execution_count": 37,
   "metadata": {},
   "outputs": [
    {
     "name": "stdout",
     "output_type": "stream",
     "text": [
      "main_codes\n",
      "503    0.136156\n",
      "303    0.102975\n",
      "706    0.092296\n",
      "411    0.073608\n",
      "301    0.050725\n",
      "0      0.044622\n",
      "305    0.040046\n",
      "705    0.035469\n",
      "204    0.032418\n",
      "603    0.031655\n",
      "Name: count, dtype: float64\n"
     ]
    },
    {
     "data": {
      "image/png": "[encoded data removed]",
      "text/plain": [
       "<Figure size 700x400 with 1 Axes>"
      ]
     },
     "metadata": {},
     "output_type": "display_data"
    }
   ],
   "source": [
    "# Better look at the False Positives: PREDICTED LEFT but REAL RIGHT/CENTER\n",
    "df_false_pos = df_inference_center[(df_inference_center[\"preds\"] == 1) & (df_inference_center[\"label\"] != 1)]\n",
    "codes_distributions = df_false_pos[\"main_codes\"].value_counts()/df_false_pos.shape[0]\n",
    "print(codes_distributions[0:10])\n",
    "\n",
    "# Create a bar plot\n",
    "plt.figure(figsize=(7, 4))\n",
    "codes_distributions[0:5].plot(kind='bar')\n",
    "\n",
    "# Add labels and title\n",
    "plt.xlabel('Codes')\n",
    "plt.ylabel('Frequency')\n",
    "plt.title('Distribution of real codes for false left predictions in Left Model Inference-Center set')\n",
    "\n",
    "# Show the plot\n",
    "plt.show()\n"
   ]
  },
  {
   "cell_type": "code",
   "execution_count": 38,
   "metadata": {},
   "outputs": [
    {
     "data": {
      "text/html": [
       "<div>\n",
       "<style scoped>\n",
       "    .dataframe tbody tr th:only-of-type {\n",
       "        vertical-align: middle;\n",
       "    }\n",
       "\n",
       "    .dataframe tbody tr th {\n",
       "        vertical-align: top;\n",
       "    }\n",
       "\n",
       "    .dataframe thead th {\n",
       "        text-align: right;\n",
       "    }\n",
       "</style>\n",
       "<table border=\"1\" class=\"dataframe\">\n",
       "  <thead>\n",
       "    <tr style=\"text-align: right;\">\n",
       "      <th></th>\n",
       "      <th>q_sentence</th>\n",
       "      <th>q_sentence_nr</th>\n",
       "      <th>manifesto_id</th>\n",
       "      <th>main_codes</th>\n",
       "      <th>label</th>\n",
       "      <th>original_index</th>\n",
       "      <th>input_ids</th>\n",
       "      <th>attention_mask</th>\n",
       "      <th>preds</th>\n",
       "    </tr>\n",
       "  </thead>\n",
       "  <tbody>\n",
       "    <tr>\n",
       "      <th>25699</th>\n",
       "      <td>  Review Housing NZ tenancies on an annual basis to ensure that the occupants still meet the criteria</td>\n",
       "      <td>843</td>\n",
       "      <td>64421_201409</td>\n",
       "      <td>505</td>\n",
       "      <td>2</td>\n",
       "      <td>162943</td>\n",
       "      <td>[0, 43251, 9264, 18400, 1437, 5872, 8160, 15930, 2724, 27661, 15, 41, 1013, 1453, 7, 1306, 14, 5, 19062, 202, 972, 5, 8608, 2, 2, 68, 134, 153, 238, 50, 167, 3611, 14, 32, 45, 36614, 13, 167, 54, ...</td>\n",
       "      <td>[1, 1, 1, 1, 1, 1, 1, 1, 1, 1, 1, 1, 1, 1, 1, 1, 1, 1, 1, 1, 1, 1, 1, 1, 1, 1, 1, 1, 1, 1, 1, 1, 1, 1, 1, 1, 1, 1, 1, 1, 1, 1, 1, 1, 1, 1, 1, 1, 1, 1, 1, 1, 1, 1, 1, 1, 1, 1, 1, 1, 1, 1, 1, 1, 1, ...</td>\n",
       "      <td>1</td>\n",
       "    </tr>\n",
       "    <tr>\n",
       "      <th>25724</th>\n",
       "      <td>In UnitedFuture’s view, the provisions of Section 70 should only apply where the overseas pension in question has been fully funded from general tax revenues.</td>\n",
       "      <td>868</td>\n",
       "      <td>64421_201409</td>\n",
       "      <td>505</td>\n",
       "      <td>2</td>\n",
       "      <td>162968</td>\n",
       "      <td>[0, 1121, 315, 37577, 17, 27, 29, 1217, 6, 5, 7668, 9, 7162, 1510, 197, 129, 3253, 147, 5, 4886, 4931, 11, 864, 34, 57, 1950, 6140, 31, 937, 629, 3883, 4, 2, 2, 14, 35, 43251, 9264, 18400, 1437, 3...</td>\n",
       "      <td>[1, 1, 1, 1, 1, 1, 1, 1, 1, 1, 1, 1, 1, 1, 1, 1, 1, 1, 1, 1, 1, 1, 1, 1, 1, 1, 1, 1, 1, 1, 1, 1, 1, 1, 1, 1, 1, 1, 1, 1, 1, 1, 1, 1, 1, 1, 1, 1, 1, 1, 1, 1, 1, 1, 1, 1, 1, 1, 1, 1, 1, 1, 1, 1, 1, ...</td>\n",
       "      <td>1</td>\n",
       "    </tr>\n",
       "    <tr>\n",
       "      <th>25726</th>\n",
       "      <td>This would mean that the only pension arrangements to be captured by the provision of Section 70 would be national tax-payer funded pension schemes in other countries.</td>\n",
       "      <td>870</td>\n",
       "      <td>64421_201409</td>\n",
       "      <td>505</td>\n",
       "      <td>2</td>\n",
       "      <td>162970</td>\n",
       "      <td>[0, 713, 74, 1266, 14, 5, 129, 4931, 7863, 7, 28, 4705, 30, 5, 6397, 9, 7162, 1510, 74, 28, 632, 629, 12, 30446, 6140, 4931, 10419, 11, 97, 749, 4, 2, 2, 61, 188, 3324, 1795, 8, 15131, 74, 28, 119...</td>\n",
       "      <td>[1, 1, 1, 1, 1, 1, 1, 1, 1, 1, 1, 1, 1, 1, 1, 1, 1, 1, 1, 1, 1, 1, 1, 1, 1, 1, 1, 1, 1, 1, 1, 1, 1, 1, 1, 1, 1, 1, 1, 1, 1, 1, 1, 1, 1, 1, 1, 1, 1, 1, 1, 1, 1, 1, 1, 1, 1, 1, 1, 1, 1, 1, 1, 1, 1, ...</td>\n",
       "      <td>1</td>\n",
       "    </tr>\n",
       "    <tr>\n",
       "      <th>25744</th>\n",
       "      <td>  Ensure that sickness and invalids beneficiaries seek treatment for their incapacity where this is appropriate as a condition of their benefit,</td>\n",
       "      <td>888</td>\n",
       "      <td>64421_201409</td>\n",
       "      <td>505</td>\n",
       "      <td>2</td>\n",
       "      <td>162988</td>\n",
       "      <td>[0, 43251, 9264, 18400, 1437, 38141, 14, 25231, 8, 48544, 7823, 14956, 2639, 1416, 13, 49, 45607, 18583, 147, 42, 16, 3901, 25, 10, 1881, 9, 49, 1796, 6, 2, 2, 11694, 39922, 359, 14850, 7205, 2066...</td>\n",
       "      <td>[1, 1, 1, 1, 1, 1, 1, 1, 1, 1, 1, 1, 1, 1, 1, 1, 1, 1, 1, 1, 1, 1, 1, 1, 1, 1, 1, 1, 1, 1, 1, 1, 1, 1, 1, 1, 1, 1, 1, 1, 1, 1, 1, 1, 1, 1, 1, 1, 1, 1, 1, 1, 1, 1, 1, 1, 1, 1, 1, 1, 1, 1, 1, 1, 1, ...</td>\n",
       "      <td>1</td>\n",
       "    </tr>\n",
       "    <tr>\n",
       "      <th>25746</th>\n",
       "      <td>  Closely monitor the effectiveness of current initiatives for moving domestic purposes recipients into appropriate employment as their children get older;</td>\n",
       "      <td>890</td>\n",
       "      <td>64421_201409</td>\n",
       "      <td>505</td>\n",
       "      <td>2</td>\n",
       "      <td>162990</td>\n",
       "      <td>[0, 43251, 9264, 18400, 1437, 10041, 352, 5271, 5, 12833, 9, 595, 5287, 13, 1375, 1897, 6216, 11940, 88, 3901, 4042, 25, 49, 408, 120, 2530, 131, 2, 2, 10, 1472, 9, 1081, 12028, 6, 8, 1639, 10, 77...</td>\n",
       "      <td>[1, 1, 1, 1, 1, 1, 1, 1, 1, 1, 1, 1, 1, 1, 1, 1, 1, 1, 1, 1, 1, 1, 1, 1, 1, 1, 1, 1, 1, 1, 1, 1, 1, 1, 1, 1, 1, 1, 1, 1, 1, 1, 1, 1, 1, 1, 1, 1, 1, 1, 1, 1, 1, 1, 1, 1, 1, 1, 1, 1, 1, 1, 1, 1, 1, ...</td>\n",
       "      <td>1</td>\n",
       "    </tr>\n",
       "  </tbody>\n",
       "</table>\n",
       "</div>"
      ],
      "text/plain": [
       "                                                                                                                                                                    q_sentence  \\\n",
       "25699                                                                     Review Housing NZ tenancies on an annual basis to ensure that the occupants still meet the criteria   \n",
       "25724           In UnitedFuture’s view, the provisions of Section 70 should only apply where the overseas pension in question has been fully funded from general tax revenues.   \n",
       "25726  This would mean that the only pension arrangements to be captured by the provision of Section 70 would be national tax-payer funded pension schemes in other countries.   \n",
       "25744                          Ensure that sickness and invalids beneficiaries seek treatment for their incapacity where this is appropriate as a condition of their benefit,   \n",
       "25746               Closely monitor the effectiveness of current initiatives for moving domestic purposes recipients into appropriate employment as their children get older;   \n",
       "\n",
       "       q_sentence_nr  manifesto_id  main_codes  label  original_index  \\\n",
       "25699            843  64421_201409         505      2          162943   \n",
       "25724            868  64421_201409         505      2          162968   \n",
       "25726            870  64421_201409         505      2          162970   \n",
       "25744            888  64421_201409         505      2          162988   \n",
       "25746            890  64421_201409         505      2          162990   \n",
       "\n",
       "                                                                                                                                                                                                     input_ids  \\\n",
       "25699  [0, 43251, 9264, 18400, 1437, 5872, 8160, 15930, 2724, 27661, 15, 41, 1013, 1453, 7, 1306, 14, 5, 19062, 202, 972, 5, 8608, 2, 2, 68, 134, 153, 238, 50, 167, 3611, 14, 32, 45, 36614, 13, 167, 54, ...   \n",
       "25724  [0, 1121, 315, 37577, 17, 27, 29, 1217, 6, 5, 7668, 9, 7162, 1510, 197, 129, 3253, 147, 5, 4886, 4931, 11, 864, 34, 57, 1950, 6140, 31, 937, 629, 3883, 4, 2, 2, 14, 35, 43251, 9264, 18400, 1437, 3...   \n",
       "25726  [0, 713, 74, 1266, 14, 5, 129, 4931, 7863, 7, 28, 4705, 30, 5, 6397, 9, 7162, 1510, 74, 28, 632, 629, 12, 30446, 6140, 4931, 10419, 11, 97, 749, 4, 2, 2, 61, 188, 3324, 1795, 8, 15131, 74, 28, 119...   \n",
       "25744  [0, 43251, 9264, 18400, 1437, 38141, 14, 25231, 8, 48544, 7823, 14956, 2639, 1416, 13, 49, 45607, 18583, 147, 42, 16, 3901, 25, 10, 1881, 9, 49, 1796, 6, 2, 2, 11694, 39922, 359, 14850, 7205, 2066...   \n",
       "25746  [0, 43251, 9264, 18400, 1437, 10041, 352, 5271, 5, 12833, 9, 595, 5287, 13, 1375, 1897, 6216, 11940, 88, 3901, 4042, 25, 49, 408, 120, 2530, 131, 2, 2, 10, 1472, 9, 1081, 12028, 6, 8, 1639, 10, 77...   \n",
       "\n",
       "                                                                                                                                                                                                attention_mask  \\\n",
       "25699  [1, 1, 1, 1, 1, 1, 1, 1, 1, 1, 1, 1, 1, 1, 1, 1, 1, 1, 1, 1, 1, 1, 1, 1, 1, 1, 1, 1, 1, 1, 1, 1, 1, 1, 1, 1, 1, 1, 1, 1, 1, 1, 1, 1, 1, 1, 1, 1, 1, 1, 1, 1, 1, 1, 1, 1, 1, 1, 1, 1, 1, 1, 1, 1, 1, ...   \n",
       "25724  [1, 1, 1, 1, 1, 1, 1, 1, 1, 1, 1, 1, 1, 1, 1, 1, 1, 1, 1, 1, 1, 1, 1, 1, 1, 1, 1, 1, 1, 1, 1, 1, 1, 1, 1, 1, 1, 1, 1, 1, 1, 1, 1, 1, 1, 1, 1, 1, 1, 1, 1, 1, 1, 1, 1, 1, 1, 1, 1, 1, 1, 1, 1, 1, 1, ...   \n",
       "25726  [1, 1, 1, 1, 1, 1, 1, 1, 1, 1, 1, 1, 1, 1, 1, 1, 1, 1, 1, 1, 1, 1, 1, 1, 1, 1, 1, 1, 1, 1, 1, 1, 1, 1, 1, 1, 1, 1, 1, 1, 1, 1, 1, 1, 1, 1, 1, 1, 1, 1, 1, 1, 1, 1, 1, 1, 1, 1, 1, 1, 1, 1, 1, 1, 1, ...   \n",
       "25744  [1, 1, 1, 1, 1, 1, 1, 1, 1, 1, 1, 1, 1, 1, 1, 1, 1, 1, 1, 1, 1, 1, 1, 1, 1, 1, 1, 1, 1, 1, 1, 1, 1, 1, 1, 1, 1, 1, 1, 1, 1, 1, 1, 1, 1, 1, 1, 1, 1, 1, 1, 1, 1, 1, 1, 1, 1, 1, 1, 1, 1, 1, 1, 1, 1, ...   \n",
       "25746  [1, 1, 1, 1, 1, 1, 1, 1, 1, 1, 1, 1, 1, 1, 1, 1, 1, 1, 1, 1, 1, 1, 1, 1, 1, 1, 1, 1, 1, 1, 1, 1, 1, 1, 1, 1, 1, 1, 1, 1, 1, 1, 1, 1, 1, 1, 1, 1, 1, 1, 1, 1, 1, 1, 1, 1, 1, 1, 1, 1, 1, 1, 1, 1, 1, ...   \n",
       "\n",
       "       preds  \n",
       "25699      1  \n",
       "25724      1  \n",
       "25726      1  \n",
       "25744      1  \n",
       "25746      1  "
      ]
     },
     "execution_count": 38,
     "metadata": {},
     "output_type": "execute_result"
    }
   ],
   "source": [
    "# looking at examples\n",
    "pd.set_option('display.max_colwidth', 200)\n",
    "target_code = 505\n",
    "df_false_pos[df_false_pos[\"main_codes\"] == target_code].tail(5)\n"
   ]
  },
  {
   "cell_type": "code",
   "execution_count": 39,
   "metadata": {},
   "outputs": [
    {
     "name": "stdout",
     "output_type": "stream",
     "text": [
      "main_codes\n",
      " 504    0.109756\n",
      " 410    0.090909\n",
      " 403    0.078714\n",
      "-1      0.074834\n",
      " 411    0.069290\n",
      " 408    0.067627\n",
      " 0      0.061530\n",
      " 303    0.054878\n",
      " 503    0.050998\n",
      " 706    0.041020\n",
      "Name: count, dtype: float64\n"
     ]
    },
    {
     "data": {
      "image/png": "[encoded data removed]",
      "text/plain": [
       "<Figure size 700x400 with 1 Axes>"
      ]
     },
     "metadata": {},
     "output_type": "display_data"
    }
   ],
   "source": [
    "# Better look at the False Positives: PREDICTED RIGHT but REAL LEFT/CENTER\n",
    "df_false_pos = df_inference_center[(df_inference_center[\"preds\"] == 2) & (df_inference_center[\"label\"] != 2)]\n",
    "codes_distributions = df_false_pos[\"main_codes\"].value_counts()/df_false_pos.shape[0]\n",
    "print(codes_distributions[0:10])\n",
    "\n",
    "# Create a bar plot\n",
    "plt.figure(figsize=(7, 4))\n",
    "codes_distributions[0:5].plot(kind='bar')\n",
    "\n",
    "# Add labels and title\n",
    "plt.xlabel('Codes')\n",
    "plt.ylabel('Frequency')\n",
    "plt.title('Distribution of real codes for false right predictions in Left Model Inference-Center set')\n",
    "\n",
    "# Show the plot\n",
    "plt.show()\n"
   ]
  },
  {
   "cell_type": "code",
   "execution_count": 40,
   "metadata": {},
   "outputs": [
    {
     "data": {
      "text/html": [
       "<div>\n",
       "<style scoped>\n",
       "    .dataframe tbody tr th:only-of-type {\n",
       "        vertical-align: middle;\n",
       "    }\n",
       "\n",
       "    .dataframe tbody tr th {\n",
       "        vertical-align: top;\n",
       "    }\n",
       "\n",
       "    .dataframe thead th {\n",
       "        text-align: right;\n",
       "    }\n",
       "</style>\n",
       "<table border=\"1\" class=\"dataframe\">\n",
       "  <thead>\n",
       "    <tr style=\"text-align: right;\">\n",
       "      <th></th>\n",
       "      <th>q_sentence</th>\n",
       "      <th>q_sentence_nr</th>\n",
       "      <th>manifesto_id</th>\n",
       "      <th>main_codes</th>\n",
       "      <th>label</th>\n",
       "      <th>original_index</th>\n",
       "      <th>input_ids</th>\n",
       "      <th>attention_mask</th>\n",
       "      <th>preds</th>\n",
       "    </tr>\n",
       "  </thead>\n",
       "  <tbody>\n",
       "    <tr>\n",
       "      <th>26028</th>\n",
       "      <td>It is UnitedFuture policy to:  Make drug and alcohol rehabilitation courses available for inmates who have been identified with drug or alcohol addictions;</td>\n",
       "      <td>1172</td>\n",
       "      <td>64421_201409</td>\n",
       "      <td>504</td>\n",
       "      <td>1</td>\n",
       "      <td>163272</td>\n",
       "      <td>[0, 243, 16, 315, 37577, 714, 7, 35, 43251, 9264, 18400, 1437, 5293, 1262, 8, 3766, 11226, 7484, 577, 13, 8039, 54, 33, 57, 2006, 19, 1262, 50, 3766, 1606, 19047, 131, 2, 2, 15638, 30623, 7382, 80...</td>\n",
       "      <td>[1, 1, 1, 1, 1, 1, 1, 1, 1, 1, 1, 1, 1, 1, 1, 1, 1, 1, 1, 1, 1, 1, 1, 1, 1, 1, 1, 1, 1, 1, 1, 1, 1, 1, 1, 1, 1, 1, 1, 1, 1, 1, 1, 1, 1, 1, 1, 1, 1, 1, 1, 1, 1, 1, 1, 1, 1, 1, 1, 1, 1, 1, 1, 1, 1, ...</td>\n",
       "      <td>2</td>\n",
       "    </tr>\n",
       "    <tr>\n",
       "      <th>26323</th>\n",
       "      <td>support for voluntary organisations,</td>\n",
       "      <td>240</td>\n",
       "      <td>64951_198407</td>\n",
       "      <td>504</td>\n",
       "      <td>1</td>\n",
       "      <td>137346</td>\n",
       "      <td>[0, 22930, 13, 11659, 7260, 6, 2, 2, 170, 40, 712, 5, 443, 9, 1212, 223, 6693, 30, 1976, 629, 12889, 13, 3380, 29767, 6, 39149, 10686, 1212, 31, 940, 2203, 6, 463, 5513, 1029, 12, 23655, 16186, 4,...</td>\n",
       "      <td>[1, 1, 1, 1, 1, 1, 1, 1, 1, 1, 1, 1, 1, 1, 1, 1, 1, 1, 1, 1, 1, 1, 1, 1, 1, 1, 1, 1, 1, 1, 1, 1, 1, 1, 1, 1, 1, 1, 1, 1, 1, 1, 1, 1, 1, 1, 1, 1, 1, 1, 1, 1, 1, 1, 1, 1, 1, 1, 1, 1, 1, 1, 1, 1, 1, ...</td>\n",
       "      <td>2</td>\n",
       "    </tr>\n",
       "    <tr>\n",
       "      <th>26334</th>\n",
       "      <td>A Sociological Research Centre will investigate serious problems e.g.  crime and violence, illegitimacy, alcoholism</td>\n",
       "      <td>251</td>\n",
       "      <td>64951_198407</td>\n",
       "      <td>504</td>\n",
       "      <td>1</td>\n",
       "      <td>137357</td>\n",
       "      <td>[0, 250, 35160, 9779, 1624, 2521, 40, 4830, 1473, 1272, 364, 4, 571, 4, 1437, 1846, 8, 1476, 6, 32563, 405, 757, 5073, 6, 37934, 2, 2, 102, 55, 38853, 6784, 7, 2536, 474, 6, 28746, 12, 12528, 2159...</td>\n",
       "      <td>[1, 1, 1, 1, 1, 1, 1, 1, 1, 1, 1, 1, 1, 1, 1, 1, 1, 1, 1, 1, 1, 1, 1, 1, 1, 1, 1, 1, 1, 1, 1, 1, 1, 1, 1, 1, 1, 1, 1, 1, 1, 1, 1, 1, 1, 1, 1, 1, 1, 1, 1, 1, 1, 1, 1, 1, 1, 1, 1, 1, 1, 1, 1, 1, 1, ...</td>\n",
       "      <td>2</td>\n",
       "    </tr>\n",
       "    <tr>\n",
       "      <th>26382</th>\n",
       "      <td>providing additional welfare officers in courts and prisons,</td>\n",
       "      <td>299</td>\n",
       "      <td>64951_198407</td>\n",
       "      <td>504</td>\n",
       "      <td>1</td>\n",
       "      <td>137405</td>\n",
       "      <td>[0, 13138, 8231, 943, 6642, 1024, 11, 4354, 8, 14867, 6, 2, 2, 574, 10751, 4979, 38036, 250, 1585, 9, 3941, 40, 28, 2942, 7, 3000, 5, 476, 9, 168, 8, 18552, 5, 1736, 136, 5, 11307, 9, 659, 8, 2620...</td>\n",
       "      <td>[1, 1, 1, 1, 1, 1, 1, 1, 1, 1, 1, 1, 1, 1, 1, 1, 1, 1, 1, 1, 1, 1, 1, 1, 1, 1, 1, 1, 1, 1, 1, 1, 1, 1, 1, 1, 1, 1, 1, 1, 1, 1, 1, 1, 1, 1, 1, 1, 1, 1, 1, 1, 1, 1, 1, 1, 1, 1, 1, 1, 1, 1, 1, 1, 1, ...</td>\n",
       "      <td>2</td>\n",
       "    </tr>\n",
       "    <tr>\n",
       "      <th>26476</th>\n",
       "      <td>and improve support for voluntary agencies.</td>\n",
       "      <td>393</td>\n",
       "      <td>64951_198407</td>\n",
       "      <td>504</td>\n",
       "      <td>1</td>\n",
       "      <td>137499</td>\n",
       "      <td>[0, 463, 1477, 323, 13, 11659, 2244, 4, 2, 2, 1290, 2407, 41, 9077, 3041, 9, 5058, 9, 2139, 6087, 3183, 6, 34335, 2388, 1029, 12, 20829, 227, 1138, 8, 1052, 6, 30248, 7189, 1048, 13, 4302, 6, 463,...</td>\n",
       "      <td>[1, 1, 1, 1, 1, 1, 1, 1, 1, 1, 1, 1, 1, 1, 1, 1, 1, 1, 1, 1, 1, 1, 1, 1, 1, 1, 1, 1, 1, 1, 1, 1, 1, 1, 1, 1, 1, 1, 1, 1, 1, 1, 1, 1, 1, 1, 1, 1, 1, 1, 1, 1, 1, 1, 1, 1, 1, 1, 1, 1, 1, 1, 1, 1, 1, ...</td>\n",
       "      <td>2</td>\n",
       "    </tr>\n",
       "  </tbody>\n",
       "</table>\n",
       "</div>"
      ],
      "text/plain": [
       "                                                                                                                                                         q_sentence  \\\n",
       "26028  It is UnitedFuture policy to:  Make drug and alcohol rehabilitation courses available for inmates who have been identified with drug or alcohol addictions;   \n",
       "26323                                                                                                                          support for voluntary organisations,   \n",
       "26334                                           A Sociological Research Centre will investigate serious problems e.g.  crime and violence, illegitimacy, alcoholism   \n",
       "26382                                                                                                  providing additional welfare officers in courts and prisons,   \n",
       "26476                                                                                                                   and improve support for voluntary agencies.   \n",
       "\n",
       "       q_sentence_nr  manifesto_id  main_codes  label  original_index  \\\n",
       "26028           1172  64421_201409         504      1          163272   \n",
       "26323            240  64951_198407         504      1          137346   \n",
       "26334            251  64951_198407         504      1          137357   \n",
       "26382            299  64951_198407         504      1          137405   \n",
       "26476            393  64951_198407         504      1          137499   \n",
       "\n",
       "                                                                                                                                                                                                     input_ids  \\\n",
       "26028  [0, 243, 16, 315, 37577, 714, 7, 35, 43251, 9264, 18400, 1437, 5293, 1262, 8, 3766, 11226, 7484, 577, 13, 8039, 54, 33, 57, 2006, 19, 1262, 50, 3766, 1606, 19047, 131, 2, 2, 15638, 30623, 7382, 80...   \n",
       "26323  [0, 22930, 13, 11659, 7260, 6, 2, 2, 170, 40, 712, 5, 443, 9, 1212, 223, 6693, 30, 1976, 629, 12889, 13, 3380, 29767, 6, 39149, 10686, 1212, 31, 940, 2203, 6, 463, 5513, 1029, 12, 23655, 16186, 4,...   \n",
       "26334  [0, 250, 35160, 9779, 1624, 2521, 40, 4830, 1473, 1272, 364, 4, 571, 4, 1437, 1846, 8, 1476, 6, 32563, 405, 757, 5073, 6, 37934, 2, 2, 102, 55, 38853, 6784, 7, 2536, 474, 6, 28746, 12, 12528, 2159...   \n",
       "26382  [0, 13138, 8231, 943, 6642, 1024, 11, 4354, 8, 14867, 6, 2, 2, 574, 10751, 4979, 38036, 250, 1585, 9, 3941, 40, 28, 2942, 7, 3000, 5, 476, 9, 168, 8, 18552, 5, 1736, 136, 5, 11307, 9, 659, 8, 2620...   \n",
       "26476  [0, 463, 1477, 323, 13, 11659, 2244, 4, 2, 2, 1290, 2407, 41, 9077, 3041, 9, 5058, 9, 2139, 6087, 3183, 6, 34335, 2388, 1029, 12, 20829, 227, 1138, 8, 1052, 6, 30248, 7189, 1048, 13, 4302, 6, 463,...   \n",
       "\n",
       "                                                                                                                                                                                                attention_mask  \\\n",
       "26028  [1, 1, 1, 1, 1, 1, 1, 1, 1, 1, 1, 1, 1, 1, 1, 1, 1, 1, 1, 1, 1, 1, 1, 1, 1, 1, 1, 1, 1, 1, 1, 1, 1, 1, 1, 1, 1, 1, 1, 1, 1, 1, 1, 1, 1, 1, 1, 1, 1, 1, 1, 1, 1, 1, 1, 1, 1, 1, 1, 1, 1, 1, 1, 1, 1, ...   \n",
       "26323  [1, 1, 1, 1, 1, 1, 1, 1, 1, 1, 1, 1, 1, 1, 1, 1, 1, 1, 1, 1, 1, 1, 1, 1, 1, 1, 1, 1, 1, 1, 1, 1, 1, 1, 1, 1, 1, 1, 1, 1, 1, 1, 1, 1, 1, 1, 1, 1, 1, 1, 1, 1, 1, 1, 1, 1, 1, 1, 1, 1, 1, 1, 1, 1, 1, ...   \n",
       "26334  [1, 1, 1, 1, 1, 1, 1, 1, 1, 1, 1, 1, 1, 1, 1, 1, 1, 1, 1, 1, 1, 1, 1, 1, 1, 1, 1, 1, 1, 1, 1, 1, 1, 1, 1, 1, 1, 1, 1, 1, 1, 1, 1, 1, 1, 1, 1, 1, 1, 1, 1, 1, 1, 1, 1, 1, 1, 1, 1, 1, 1, 1, 1, 1, 1, ...   \n",
       "26382  [1, 1, 1, 1, 1, 1, 1, 1, 1, 1, 1, 1, 1, 1, 1, 1, 1, 1, 1, 1, 1, 1, 1, 1, 1, 1, 1, 1, 1, 1, 1, 1, 1, 1, 1, 1, 1, 1, 1, 1, 1, 1, 1, 1, 1, 1, 1, 1, 1, 1, 1, 1, 1, 1, 1, 1, 1, 1, 1, 1, 1, 1, 1, 1, 1, ...   \n",
       "26476  [1, 1, 1, 1, 1, 1, 1, 1, 1, 1, 1, 1, 1, 1, 1, 1, 1, 1, 1, 1, 1, 1, 1, 1, 1, 1, 1, 1, 1, 1, 1, 1, 1, 1, 1, 1, 1, 1, 1, 1, 1, 1, 1, 1, 1, 1, 1, 1, 1, 1, 1, 1, 1, 1, 1, 1, 1, 1, 1, 1, 1, 1, 1, 1, 1, ...   \n",
       "\n",
       "       preds  \n",
       "26028      2  \n",
       "26323      2  \n",
       "26334      2  \n",
       "26382      2  \n",
       "26476      2  "
      ]
     },
     "execution_count": 40,
     "metadata": {},
     "output_type": "execute_result"
    }
   ],
   "source": [
    "# looking at examples\n",
    "pd.set_option('display.max_colwidth', 200)\n",
    "target_code = 504\n",
    "df_false_pos[df_false_pos[\"main_codes\"] == target_code].tail(5)\n"
   ]
  },
  {
   "cell_type": "code",
   "execution_count": 41,
   "metadata": {},
   "outputs": [
    {
     "data": {
      "text/html": [
       "<div>\n",
       "<style scoped>\n",
       "    .dataframe tbody tr th:only-of-type {\n",
       "        vertical-align: middle;\n",
       "    }\n",
       "\n",
       "    .dataframe tbody tr th {\n",
       "        vertical-align: top;\n",
       "    }\n",
       "\n",
       "    .dataframe thead th {\n",
       "        text-align: right;\n",
       "    }\n",
       "</style>\n",
       "<table border=\"1\" class=\"dataframe\">\n",
       "  <thead>\n",
       "    <tr style=\"text-align: right;\">\n",
       "      <th></th>\n",
       "      <th>Model</th>\n",
       "      <th>Coders</th>\n",
       "    </tr>\n",
       "  </thead>\n",
       "  <tbody>\n",
       "    <tr>\n",
       "      <th>0</th>\n",
       "      <td>13329</td>\n",
       "      <td>14631</td>\n",
       "    </tr>\n",
       "    <tr>\n",
       "      <th>1</th>\n",
       "      <td>8304</td>\n",
       "      <td>7298</td>\n",
       "    </tr>\n",
       "    <tr>\n",
       "      <th>2</th>\n",
       "      <td>4892</td>\n",
       "      <td>4596</td>\n",
       "    </tr>\n",
       "  </tbody>\n",
       "</table>\n",
       "</div>"
      ],
      "text/plain": [
       "   Model  Coders\n",
       "0  13329   14631\n",
       "1   8304    7298\n",
       "2   4892    4596"
      ]
     },
     "execution_count": 41,
     "metadata": {},
     "output_type": "execute_result"
    }
   ],
   "source": [
    "# Testing whether the predictions significantly differ from the real codes\n",
    "\n",
    "# set up contingency table\n",
    "contingency_table = pd.DataFrame({#\"Group\": [\"# 501 codes\", \"# non-501 codes\"],\n",
    "                                  \"Model\": [df_inference_center[df_inference_center[\"preds\"] == 0].shape[0],\n",
    "                                            df_inference_center[df_inference_center[\"preds\"] == 1].shape[0],\n",
    "                                            df_inference_center[df_inference_center[\"preds\"] == 2].shape[0]],\n",
    "                                  \"Coders\": [df_inference_center[df_inference_center[\"label\"] == 0].shape[0],\n",
    "                                             df_inference_center[df_inference_center[\"label\"] == 1].shape[0],\n",
    "                                             df_inference_center[df_inference_center[\"label\"] == 2].shape[0]]})\n",
    "\n",
    "\n",
    "contingency_table\n"
   ]
  },
  {
   "cell_type": "markdown",
   "metadata": {},
   "source": [
    "Quite close in number of right predictions! But large differences between left and neutral (Maybe count the concrete number going from which to what and compare these between test/inf sets)\n"
   ]
  },
  {
   "cell_type": "code",
   "execution_count": 42,
   "metadata": {},
   "outputs": [
    {
     "data": {
      "text/plain": [
       "(134.7298015206143,\n",
       " 5.5436439071584456e-30,\n",
       " 2,\n",
       " array([[13980., 13980.],\n",
       "        [ 7801.,  7801.],\n",
       "        [ 4744.,  4744.]]))"
      ]
     },
     "execution_count": 42,
     "metadata": {},
     "output_type": "execute_result"
    }
   ],
   "source": [
    "chi2_contingency(contingency_table)"
   ]
  },
  {
   "cell_type": "markdown",
   "metadata": {},
   "source": [
    "Unterschiede in den False-Positive Distributions von Test zu Center zu Right (Inference)"
   ]
  },
  {
   "cell_type": "markdown",
   "metadata": {},
   "source": [
    "False left predictions:"
   ]
  },
  {
   "cell_type": "code",
   "execution_count": 43,
   "metadata": {},
   "outputs": [],
   "source": [
    "all_codes = set(df_train[\"main_codes\"].unique())\n",
    "\n",
    "# test:\n",
    "tmp = df_test[(df_test[\"preds\"] == 1) & (df_test[\"label\"] != 1)]\n",
    "false_left_test = tmp[\"main_codes\"].value_counts()/tmp.shape[0]\n",
    "# add missing codes:\n",
    "false_left_test = pd.concat([false_left_test, pd.Series(0, index=all_codes-set(false_left_test.index))]).sort_index()\n",
    "\n",
    "# inference center\n",
    "tmp = df_inference_center[(df_inference_center[\"preds\"] == 1) & (df_inference_center[\"label\"] != 1)]\n",
    "false_left_center = tmp[\"main_codes\"].value_counts()/tmp.shape[0]\n",
    "false_left_center = pd.concat([false_left_center, pd.Series(0, index=all_codes-set(false_left_center.index))]).sort_index()\n",
    "\n",
    "# inference right\n",
    "tmp = df_inference[(df_inference[\"preds\"] == 1) & (df_inference[\"label\"] != 1)]\n",
    "false_left_right = tmp[\"main_codes\"].value_counts()/tmp.shape[0]\n",
    "false_left_right = pd.concat([false_left_right, pd.Series(0, index=all_codes-set(false_left_right.index))]).sort_index()"
   ]
  },
  {
   "cell_type": "code",
   "execution_count": null,
   "metadata": {},
   "outputs": [],
   "source": [
    "# sort by the main codes and calculate the difference (so going from test to center and test to right)"
   ]
  },
  {
   "cell_type": "code",
   "execution_count": 44,
   "metadata": {},
   "outputs": [],
   "source": [
    "test_to_center = (false_left_center - false_left_test).sort_values(ascending=False)\n",
    "test_to_right = (false_left_right - false_left_test).sort_values(ascending=False)"
   ]
  },
  {
   "cell_type": "code",
   "execution_count": 45,
   "metadata": {},
   "outputs": [
    {
     "data": {
      "text/plain": [
       " 303    0.056377\n",
       " 0      0.035303\n",
       " 301    0.026494\n",
       " 505    0.022969\n",
       " 104    0.018562\n",
       " 414    0.017756\n",
       " 603    0.017676\n",
       " 704    0.017036\n",
       " 402    0.015981\n",
       " 204    0.014711\n",
       " 408    0.013394\n",
       " 411    0.006506\n",
       " 401    0.006400\n",
       " 703    0.004918\n",
       "-1      0.004881\n",
       " 405    0.003478\n",
       " 502    0.003054\n",
       " 102    0.001738\n",
       " 604    0.001356\n",
       " 110    0.001144\n",
       " 302    0.000680\n",
       " 608    0.000381\n",
       " 105    0.000000\n",
       " 413    0.000000\n",
       " 412    0.000000\n",
       " 106    0.000000\n",
       " 103    0.000000\n",
       " 202    0.000000\n",
       " 107    0.000000\n",
       " 406    0.000000\n",
       " 404    0.000000\n",
       " 403    0.000000\n",
       " 504    0.000000\n",
       " 701    0.000000\n",
       " 506    0.000000\n",
       " 415    0.000000\n",
       " 203   -0.000169\n",
       " 602   -0.000465\n",
       " 507   -0.000889\n",
       " 605   -0.001517\n",
       " 601   -0.002156\n",
       " 702   -0.002202\n",
       " 108   -0.002412\n",
       " 109   -0.004235\n",
       " 409   -0.004448\n",
       " 407   -0.008132\n",
       " 606   -0.010037\n",
       " 416   -0.010123\n",
       " 304   -0.011098\n",
       " 705   -0.011129\n",
       " 101   -0.013045\n",
       " 201   -0.014100\n",
       " 503   -0.017619\n",
       " 607   -0.019061\n",
       " 410   -0.022152\n",
       " 305   -0.028920\n",
       " 501   -0.033293\n",
       " 706   -0.073594\n",
       "dtype: float64"
      ]
     },
     "execution_count": 45,
     "metadata": {},
     "output_type": "execute_result"
    }
   ],
   "source": [
    "test_to_center"
   ]
  },
  {
   "cell_type": "code",
   "execution_count": 85,
   "metadata": {},
   "outputs": [
    {
     "data": {
      "text/plain": [
       " 505    0.063957\n",
       " 401    0.058270\n",
       " 104    0.029478\n",
       " 702    0.026118\n",
       " 402    0.022320\n",
       " 703    0.019680\n",
       " 605    0.019151\n",
       " 507    0.013594\n",
       " 601    0.011719\n",
       " 109    0.011586\n",
       "-1      0.011244\n",
       " 411    0.010903\n",
       " 101    0.009018\n",
       " 303    0.007428\n",
       " 603    0.007267\n",
       " 414    0.005138\n",
       " 110    0.003845\n",
       " 102    0.002913\n",
       " 704    0.002364\n",
       " 203    0.002204\n",
       " 0      0.001202\n",
       " 604    0.000889\n",
       " 608    0.000607\n",
       " 201    0.000545\n",
       " 415    0.000101\n",
       " 504    0.000000\n",
       " 103    0.000000\n",
       " 105    0.000000\n",
       " 202    0.000000\n",
       " 413    0.000000\n",
       " 412    0.000000\n",
       " 701    0.000000\n",
       " 107    0.000000\n",
       " 404    0.000000\n",
       " 403    0.000000\n",
       " 506    0.000000\n",
       " 106    0.000000\n",
       " 406    0.000000\n",
       " 407   -0.000459\n",
       " 408   -0.000640\n",
       " 502   -0.002418\n",
       " 602   -0.002738\n",
       " 409   -0.002759\n",
       " 302   -0.003547\n",
       " 410   -0.005179\n",
       " 301   -0.005615\n",
       " 405   -0.006812\n",
       " 607   -0.007964\n",
       " 304   -0.008639\n",
       " 606   -0.010972\n",
       " 108   -0.010981\n",
       " 416   -0.012909\n",
       " 204   -0.015482\n",
       " 503   -0.028623\n",
       " 305   -0.029002\n",
       " 705   -0.031523\n",
       " 501   -0.041193\n",
       " 706   -0.114089\n",
       "dtype: float64"
      ]
     },
     "execution_count": 85,
     "metadata": {},
     "output_type": "execute_result"
    }
   ],
   "source": [
    "test_to_right"
   ]
  },
  {
   "cell_type": "code",
   "execution_count": 47,
   "metadata": {},
   "outputs": [
    {
     "data": {
      "text/html": [
       "<div>\n",
       "<style scoped>\n",
       "    .dataframe tbody tr th:only-of-type {\n",
       "        vertical-align: middle;\n",
       "    }\n",
       "\n",
       "    .dataframe tbody tr th {\n",
       "        vertical-align: top;\n",
       "    }\n",
       "\n",
       "    .dataframe thead th {\n",
       "        text-align: right;\n",
       "    }\n",
       "</style>\n",
       "<table border=\"1\" class=\"dataframe\">\n",
       "  <thead>\n",
       "    <tr style=\"text-align: right;\">\n",
       "      <th></th>\n",
       "      <th>Test set (Left manifestos)</th>\n",
       "      <th>Inference set (Center manifestos)</th>\n",
       "      <th>Inference set (Right manifestos)</th>\n",
       "    </tr>\n",
       "  </thead>\n",
       "  <tbody>\n",
       "    <tr>\n",
       "      <th>505</th>\n",
       "      <td>0.372787</td>\n",
       "      <td>2.669718</td>\n",
       "      <td>6.768515</td>\n",
       "    </tr>\n",
       "    <tr>\n",
       "      <th>401</th>\n",
       "      <td>0.465983</td>\n",
       "      <td>1.106026</td>\n",
       "      <td>6.292999</td>\n",
       "    </tr>\n",
       "    <tr>\n",
       "      <th>501</th>\n",
       "      <td>4.473439</td>\n",
       "      <td>1.144165</td>\n",
       "      <td>0.354108</td>\n",
       "    </tr>\n",
       "    <tr>\n",
       "      <th>706</th>\n",
       "      <td>16.589003</td>\n",
       "      <td>9.229596</td>\n",
       "      <td>5.180089</td>\n",
       "    </tr>\n",
       "  </tbody>\n",
       "</table>\n",
       "</div>"
      ],
      "text/plain": [
       "     Test set (Left manifestos)  Inference set (Center manifestos)  \\\n",
       "505                    0.372787                           2.669718   \n",
       "401                    0.465983                           1.106026   \n",
       "501                    4.473439                           1.144165   \n",
       "706                   16.589003                           9.229596   \n",
       "\n",
       "     Inference set (Right manifestos)  \n",
       "505                          6.768515  \n",
       "401                          6.292999  \n",
       "501                          0.354108  \n",
       "706                          5.180089  "
      ]
     },
     "execution_count": 47,
     "metadata": {},
     "output_type": "execute_result"
    }
   ],
   "source": [
    "interesting_codes = [505, 401, 501, 706]\n",
    "d_test_selection = false_left_test.loc[interesting_codes]\n",
    "d_inf_center_selection = false_left_center.loc[interesting_codes]\n",
    "d_inf_right_selection = false_left_right.loc[interesting_codes]\n",
    "df_tmp = pd.DataFrame({\"Test set (Left manifestos)\": d_test_selection*100,\n",
    "                       \"Inference set (Center manifestos)\": d_inf_center_selection*100,\n",
    "                       \"Inference set (Right manifestos)\": d_inf_right_selection*100})\n",
    "df_tmp"
   ]
  },
  {
   "cell_type": "code",
   "execution_count": 53,
   "metadata": {},
   "outputs": [
    {
     "name": "stderr",
     "output_type": "stream",
     "text": [
      "C:\\Users\\Konstantin\\AppData\\Local\\Temp\\ipykernel_3604\\3284473593.py:12: UserWarning: FixedFormatter should only be used together with FixedLocator\n",
      "  ax.set_yticklabels(percent_ticks)\n"
     ]
    },
    {
     "data": {
      "image/png": "[encoded data removed]",
      "text/plain": [
       "<Figure size 1000x600 with 1 Axes>"
      ]
     },
     "metadata": {},
     "output_type": "display_data"
    }
   ],
   "source": [
    "# Plotting\n",
    "ax = df_tmp.plot(kind='bar', color=['lightgrey', 'grey', 'black'], figsize=(10, 6))\n",
    "\n",
    "# Customizing labels and title\n",
    "ax.set_xlabel('Code')\n",
    "ax.set_ylabel('Frequency')\n",
    "ax.set_title('Left model: Frequency of select codes in the false positives')\n",
    "\n",
    "# add % to y axis ticks\n",
    "ticks = ax.get_yticks()\n",
    "percent_ticks = [f'{int(t)}%' for t in ticks]\n",
    "ax.set_yticklabels(percent_ticks)\n",
    "\n",
    "new_labels = ['505\\nWelfare State Limitation', '401\\nFree Market Economy:\\nPositive',\n",
    "              '501\\nEnvironmental Protection:\\nPositive', '706\\nNon-Economic\\nDemographic Groups:\\nPositive']\n",
    "ax.set_xticklabels(new_labels, rotation=0)\n",
    "\n",
    "plt.show()"
   ]
  },
  {
   "cell_type": "code",
   "execution_count": null,
   "metadata": {},
   "outputs": [],
   "source": []
  }
 ],
 "metadata": {
  "kernelspec": {
   "display_name": "Python 3",
   "language": "python",
   "name": "python3"
  },
  "language_info": {
   "codemirror_mode": {
    "name": "ipython",
    "version": 3
   },
   "file_extension": ".py",
   "mimetype": "text/x-python",
   "name": "python",
   "nbconvert_exporter": "python",
   "pygments_lexer": "ipython3",
   "version": "3.10.4"
  }
 },
 "nbformat": 4,
 "nbformat_minor": 2
}
